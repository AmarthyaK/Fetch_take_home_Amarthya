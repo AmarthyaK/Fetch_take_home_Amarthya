{
 "cells": [
  {
   "cell_type": "code",
   "execution_count": 82,
   "metadata": {},
   "outputs": [],
   "source": [
    "## Importing necessary libraries\n",
    "import pandas as pd\n",
    "import numpy as np\n",
    "import os\n",
    "import json\n",
    "import jsonlines\n",
    "import datetime\n",
    "import great_expectations as ge\n",
    "from sqlalchemy import create_engine\n",
    "import pymysql\n",
    "import yaml\n",
    "from sqlalchemy import create_engine\n",
    "from sqlalchemy import text\n",
    "import warnings\n",
    "warnings.filterwarnings(\"ignore\")\n",
    "\n",
    "pd.set_option('display.max_rows', 100)  # Set maximum rows to 100\n",
    "pd.set_option('display.max_columns', 100) # Set maximum columns to 20"
   ]
  },
  {
   "cell_type": "code",
   "execution_count": 83,
   "metadata": {},
   "outputs": [],
   "source": [
    "## reading flattened csv files.\n",
    "\n",
    "root_dir = os.getcwd()\n",
    "\n",
    "brands_df = pd.read_csv(os.path.join(root_dir,'brands.csv'))\n",
    "users_df = pd.read_csv(os.path.join(root_dir,'users.csv'))\n",
    "receipts_df = pd.read_csv(os.path.join(root_dir,'receipts.csv'))\n",
    "rewards_receipts_df = pd.read_csv(os.path.join(root_dir,'rewards_receipts.csv'))"
   ]
  },
  {
   "cell_type": "code",
   "execution_count": 84,
   "metadata": {},
   "outputs": [],
   "source": [
    "## Functions:\n",
    "\n",
    "# Function to read YAML file\n",
    "def read_yaml(file_path):\n",
    "    with open(file_path, 'r') as file:\n",
    "        try:\n",
    "            # Load the YAML content into a Python dictionary\n",
    "            data = yaml.safe_load(file)\n",
    "            return data\n",
    "        except yaml.YAMLError as exc:\n",
    "            print(f\"Error reading YAML file: {exc}\")\n",
    "            return None\n",
    "\n",
    "def create_database(db_url, db_name):\n",
    "    try:\n",
    "        # Connect to MySQL using SQLAlchemy's engine\n",
    "        engine = create_engine(db_url)\n",
    "        with engine.connect() as connection:\n",
    "            # Execute the command to create a database\n",
    "            connection.execute(text(f\"CREATE DATABASE IF NOT EXISTS {db_name}\"))\n",
    "            print(f\"Database '{db_name}' created successfully!\")\n",
    "    except Exception as e:\n",
    "        print(f\"Error while creating database: {e}\")\n",
    "\n",
    "\n",
    "# Function to run SQL query\n",
    "def run_query(engine,query):\n",
    "    try:\n",
    "        with engine.connect() as connection:\n",
    "            result = connection.execute(text(query))\n",
    "            return result.fetchall()\n",
    "    except Exception as e:\n",
    "        print(f\"Error in the query -> {e}\")"
   ]
  },
  {
   "cell_type": "markdown",
   "metadata": {},
   "source": [
    "#### Data Quality Assessment - Users table"
   ]
  },
  {
   "cell_type": "markdown",
   "metadata": {},
   "source": [
    "Overview of data quality checks for the Users table:\n",
    "1) Schema Verification: Ensuring the Schema of the table (possibly new data) be consistent with the already established schema for the Users table.\n",
    "2) Checking for Duplicates: Ensuring no duplicate records.\n",
    "3) If assigned primary key is unique: Verifying the uniqueness of the primary key.\n",
    "4) Missing values: Identifying the columns with missing values.\n",
    "5) Timestamp validation: Ensuring Last login date is after the created date.\n",
    "6) Data Type Validaton: Ensuring the appropriate data types for all the columns.\n",
    "7) Miscellaneous: Verifying the range of the columns."
   ]
  },
  {
   "cell_type": "code",
   "execution_count": 85,
   "metadata": {},
   "outputs": [
    {
     "data": {
      "text/html": [
       "<div>\n",
       "<style scoped>\n",
       "    .dataframe tbody tr th:only-of-type {\n",
       "        vertical-align: middle;\n",
       "    }\n",
       "\n",
       "    .dataframe tbody tr th {\n",
       "        vertical-align: top;\n",
       "    }\n",
       "\n",
       "    .dataframe thead th {\n",
       "        text-align: right;\n",
       "    }\n",
       "</style>\n",
       "<table border=\"1\" class=\"dataframe\">\n",
       "  <thead>\n",
       "    <tr style=\"text-align: right;\">\n",
       "      <th></th>\n",
       "      <th>active</th>\n",
       "      <th>role</th>\n",
       "      <th>signUpSource</th>\n",
       "      <th>state</th>\n",
       "      <th>user_id</th>\n",
       "      <th>created_date_time</th>\n",
       "      <th>lastLogin_date_time</th>\n",
       "    </tr>\n",
       "  </thead>\n",
       "  <tbody>\n",
       "    <tr>\n",
       "      <th>0</th>\n",
       "      <td>True</td>\n",
       "      <td>consumer</td>\n",
       "      <td>Email</td>\n",
       "      <td>WI</td>\n",
       "      <td>5ff1e194b6a9d73a3a9f1052</td>\n",
       "      <td>2021-01-03 09:24:04.800</td>\n",
       "      <td>2021-01-03 09:25:37.858</td>\n",
       "    </tr>\n",
       "    <tr>\n",
       "      <th>1</th>\n",
       "      <td>True</td>\n",
       "      <td>consumer</td>\n",
       "      <td>Email</td>\n",
       "      <td>WI</td>\n",
       "      <td>5ff1e194b6a9d73a3a9f1052</td>\n",
       "      <td>2021-01-03 09:24:04.800</td>\n",
       "      <td>2021-01-03 09:25:37.858</td>\n",
       "    </tr>\n",
       "    <tr>\n",
       "      <th>2</th>\n",
       "      <td>True</td>\n",
       "      <td>consumer</td>\n",
       "      <td>Email</td>\n",
       "      <td>WI</td>\n",
       "      <td>5ff1e194b6a9d73a3a9f1052</td>\n",
       "      <td>2021-01-03 09:24:04.800</td>\n",
       "      <td>2021-01-03 09:25:37.858</td>\n",
       "    </tr>\n",
       "    <tr>\n",
       "      <th>3</th>\n",
       "      <td>True</td>\n",
       "      <td>consumer</td>\n",
       "      <td>Email</td>\n",
       "      <td>WI</td>\n",
       "      <td>5ff1e1eacfcf6c399c274ae6</td>\n",
       "      <td>2021-01-03 09:25:30.554</td>\n",
       "      <td>2021-01-03 09:25:30.597</td>\n",
       "    </tr>\n",
       "    <tr>\n",
       "      <th>4</th>\n",
       "      <td>True</td>\n",
       "      <td>consumer</td>\n",
       "      <td>Email</td>\n",
       "      <td>WI</td>\n",
       "      <td>5ff1e194b6a9d73a3a9f1052</td>\n",
       "      <td>2021-01-03 09:24:04.800</td>\n",
       "      <td>2021-01-03 09:25:37.858</td>\n",
       "    </tr>\n",
       "  </tbody>\n",
       "</table>\n",
       "</div>"
      ],
      "text/plain": [
       "   active      role signUpSource state                   user_id  \\\n",
       "0    True  consumer        Email    WI  5ff1e194b6a9d73a3a9f1052   \n",
       "1    True  consumer        Email    WI  5ff1e194b6a9d73a3a9f1052   \n",
       "2    True  consumer        Email    WI  5ff1e194b6a9d73a3a9f1052   \n",
       "3    True  consumer        Email    WI  5ff1e1eacfcf6c399c274ae6   \n",
       "4    True  consumer        Email    WI  5ff1e194b6a9d73a3a9f1052   \n",
       "\n",
       "         created_date_time      lastLogin_date_time  \n",
       "0  2021-01-03 09:24:04.800  2021-01-03 09:25:37.858  \n",
       "1  2021-01-03 09:24:04.800  2021-01-03 09:25:37.858  \n",
       "2  2021-01-03 09:24:04.800  2021-01-03 09:25:37.858  \n",
       "3  2021-01-03 09:25:30.554  2021-01-03 09:25:30.597  \n",
       "4  2021-01-03 09:24:04.800  2021-01-03 09:25:37.858  "
      ]
     },
     "execution_count": 85,
     "metadata": {},
     "output_type": "execute_result"
    }
   ],
   "source": [
    "## Overview of the contents of the Users table\n",
    "users_df.head()"
   ]
  },
  {
   "cell_type": "markdown",
   "metadata": {},
   "source": [
    "#### 1) Schema Verification:\n"
   ]
  },
  {
   "cell_type": "code",
   "execution_count": 86,
   "metadata": {},
   "outputs": [
    {
     "data": {
      "text/plain": [
       "Index(['active', 'role', 'signUpSource', 'state', 'user_id',\n",
       "       'created_date_time', 'lastLogin_date_time'],\n",
       "      dtype='object')"
      ]
     },
     "execution_count": 86,
     "metadata": {},
     "output_type": "execute_result"
    }
   ],
   "source": [
    "##user_df columns\n",
    "users_df.columns"
   ]
  },
  {
   "cell_type": "markdown",
   "metadata": {},
   "source": [
    "Check passed. A more formal way of testing would be to write an expectation and verify which will be discussed in the end."
   ]
  },
  {
   "cell_type": "markdown",
   "metadata": {},
   "source": [
    "#### 2) Checking for Duplicates:"
   ]
  },
  {
   "cell_type": "code",
   "execution_count": 87,
   "metadata": {},
   "outputs": [
    {
     "name": "stdout",
     "output_type": "stream",
     "text": [
      "Percentage of Duplicate user records :57.1717\n"
     ]
    }
   ],
   "source": [
    "## Checking for duplicates\n",
    "\n",
    "users_duplicates = users_df[users_df.duplicated()]\n",
    "print(f'Percentage of Duplicate user records :{round(100*users_duplicates.shape[0]/users_df.shape[0],4)}')"
   ]
  },
  {
   "cell_type": "markdown",
   "metadata": {},
   "source": [
    "#### Data Quality Issue spotted!!\n",
    "57.17% of the records in the users table are duplicates, which is a serious data quality issue. The duplicate records are removed to ensure data quality."
   ]
  },
  {
   "cell_type": "code",
   "execution_count": 88,
   "metadata": {},
   "outputs": [],
   "source": [
    "## Deleting duplicate records\n",
    "users_df_no_duplicates = users_df.drop_duplicates()"
   ]
  },
  {
   "cell_type": "markdown",
   "metadata": {},
   "source": [
    "#### 3) If Primary_key : 'user_id' is unique()"
   ]
  },
  {
   "cell_type": "code",
   "execution_count": 89,
   "metadata": {},
   "outputs": [
    {
     "name": "stdout",
     "output_type": "stream",
     "text": [
      "True\n"
     ]
    }
   ],
   "source": [
    "## Checking if 'user_id' is unique\n",
    "print(users_df_no_duplicates['user_id'].is_unique)"
   ]
  },
  {
   "cell_type": "code",
   "execution_count": 90,
   "metadata": {},
   "outputs": [
    {
     "data": {
      "text/plain": [
       "0"
      ]
     },
     "execution_count": 90,
     "metadata": {},
     "output_type": "execute_result"
    }
   ],
   "source": [
    "## Checking if user_id is unique\n",
    "users_df_no_duplicates['user_id'].isna().sum()"
   ]
  },
  {
   "cell_type": "markdown",
   "metadata": {},
   "source": [
    "This checks that if the chosen primary key : user_id is unique and non missing. Data Quality check Passed!"
   ]
  },
  {
   "cell_type": "markdown",
   "metadata": {},
   "source": [
    "#### 4) Analyzing Missing values"
   ]
  },
  {
   "cell_type": "code",
   "execution_count": 91,
   "metadata": {},
   "outputs": [
    {
     "data": {
      "text/plain": [
       "active                  0.000000\n",
       "role                    0.000000\n",
       "signUpSource            2.358491\n",
       "state                   2.830189\n",
       "user_id                 0.000000\n",
       "created_date_time       0.000000\n",
       "lastLogin_date_time    18.867925\n",
       "dtype: float64"
      ]
     },
     "execution_count": 91,
     "metadata": {},
     "output_type": "execute_result"
    }
   ],
   "source": [
    "## percentage of missing values \n",
    "\n",
    "users_df_no_duplicates.isna().sum()*100/users_df_no_duplicates.shape[0]"
   ]
  },
  {
   "cell_type": "code",
   "execution_count": 92,
   "metadata": {},
   "outputs": [
    {
     "data": {
      "text/html": [
       "<div>\n",
       "<style scoped>\n",
       "    .dataframe tbody tr th:only-of-type {\n",
       "        vertical-align: middle;\n",
       "    }\n",
       "\n",
       "    .dataframe tbody tr th {\n",
       "        vertical-align: top;\n",
       "    }\n",
       "\n",
       "    .dataframe thead th {\n",
       "        text-align: right;\n",
       "    }\n",
       "</style>\n",
       "<table border=\"1\" class=\"dataframe\">\n",
       "  <thead>\n",
       "    <tr style=\"text-align: right;\">\n",
       "      <th></th>\n",
       "      <th>active</th>\n",
       "      <th>role</th>\n",
       "      <th>signUpSource</th>\n",
       "      <th>state</th>\n",
       "      <th>user_id</th>\n",
       "      <th>created_date_time</th>\n",
       "      <th>lastLogin_date_time</th>\n",
       "    </tr>\n",
       "  </thead>\n",
       "  <tbody>\n",
       "    <tr>\n",
       "      <th>388</th>\n",
       "      <td>True</td>\n",
       "      <td>consumer</td>\n",
       "      <td>NaN</td>\n",
       "      <td>WI</td>\n",
       "      <td>55308179e4b0eabd8f99caa2</td>\n",
       "      <td>2015-04-16 22:43:53.186</td>\n",
       "      <td>2018-05-07 12:23:40.003</td>\n",
       "    </tr>\n",
       "    <tr>\n",
       "      <th>395</th>\n",
       "      <td>True</td>\n",
       "      <td>fetch-staff</td>\n",
       "      <td>NaN</td>\n",
       "      <td>WI</td>\n",
       "      <td>59c124bae4b0299e55b0f330</td>\n",
       "      <td>2017-09-19 09:07:54.302</td>\n",
       "      <td>2021-02-08 10:42:58.117</td>\n",
       "    </tr>\n",
       "    <tr>\n",
       "      <th>422</th>\n",
       "      <td>True</td>\n",
       "      <td>consumer</td>\n",
       "      <td>NaN</td>\n",
       "      <td>NaN</td>\n",
       "      <td>5a43c08fe4b014fd6b6a0612</td>\n",
       "      <td>2017-12-27 09:47:27.059</td>\n",
       "      <td>2021-02-12 10:22:37.155</td>\n",
       "    </tr>\n",
       "    <tr>\n",
       "      <th>462</th>\n",
       "      <td>True</td>\n",
       "      <td>fetch-staff</td>\n",
       "      <td>NaN</td>\n",
       "      <td>IL</td>\n",
       "      <td>5964eb07e4b03efd0c0f267b</td>\n",
       "      <td>2017-07-11 10:13:11.771</td>\n",
       "      <td>2021-03-04 13:07:49.770</td>\n",
       "    </tr>\n",
       "    <tr>\n",
       "      <th>475</th>\n",
       "      <td>True</td>\n",
       "      <td>fetch-staff</td>\n",
       "      <td>NaN</td>\n",
       "      <td>NaN</td>\n",
       "      <td>54943462e4b07e684157a532</td>\n",
       "      <td>2014-12-19 08:21:22.381</td>\n",
       "      <td>2021-03-05 10:52:23.204</td>\n",
       "    </tr>\n",
       "  </tbody>\n",
       "</table>\n",
       "</div>"
      ],
      "text/plain": [
       "     active         role signUpSource state                   user_id  \\\n",
       "388    True     consumer          NaN    WI  55308179e4b0eabd8f99caa2   \n",
       "395    True  fetch-staff          NaN    WI  59c124bae4b0299e55b0f330   \n",
       "422    True     consumer          NaN   NaN  5a43c08fe4b014fd6b6a0612   \n",
       "462    True  fetch-staff          NaN    IL  5964eb07e4b03efd0c0f267b   \n",
       "475    True  fetch-staff          NaN   NaN  54943462e4b07e684157a532   \n",
       "\n",
       "           created_date_time      lastLogin_date_time  \n",
       "388  2015-04-16 22:43:53.186  2018-05-07 12:23:40.003  \n",
       "395  2017-09-19 09:07:54.302  2021-02-08 10:42:58.117  \n",
       "422  2017-12-27 09:47:27.059  2021-02-12 10:22:37.155  \n",
       "462  2017-07-11 10:13:11.771  2021-03-04 13:07:49.770  \n",
       "475  2014-12-19 08:21:22.381  2021-03-05 10:52:23.204  "
      ]
     },
     "execution_count": 92,
     "metadata": {},
     "output_type": "execute_result"
    }
   ],
   "source": [
    "## Analyzing missing values in 'signUpSource'\n",
    "users_df_no_duplicates[users_df_no_duplicates['signUpSource'].isna()]"
   ]
  },
  {
   "cell_type": "code",
   "execution_count": 93,
   "metadata": {},
   "outputs": [
    {
     "data": {
      "text/plain": [
       "array(['Email', 'Google', nan], dtype=object)"
      ]
     },
     "execution_count": 93,
     "metadata": {},
     "output_type": "execute_result"
    }
   ],
   "source": [
    "## Unique values of signUpSource\n",
    "users_df_no_duplicates['signUpSource'].unique()"
   ]
  },
  {
   "cell_type": "markdown",
   "metadata": {},
   "source": [
    "3 out of 6 missing values occur for the user who is a fetch-staff. The unique values for signup source are Email and Google. It is very much possible that fetch-staff can signUp using an internal source which is not email or google. For better data quality, a signupsource exclusively for staff members could be alloted if that is the case. The resources list could be expanded including possible valid sources  such as **App Store**, **Referral**, and other relevant platforms, to guarantee that this field is complete for all users. If the field is still missing, it could be imputed as 'others'."
   ]
  },
  {
   "cell_type": "code",
   "execution_count": 94,
   "metadata": {},
   "outputs": [
    {
     "data": {
      "text/html": [
       "<div>\n",
       "<style scoped>\n",
       "    .dataframe tbody tr th:only-of-type {\n",
       "        vertical-align: middle;\n",
       "    }\n",
       "\n",
       "    .dataframe tbody tr th {\n",
       "        vertical-align: top;\n",
       "    }\n",
       "\n",
       "    .dataframe thead th {\n",
       "        text-align: right;\n",
       "    }\n",
       "</style>\n",
       "<table border=\"1\" class=\"dataframe\">\n",
       "  <thead>\n",
       "    <tr style=\"text-align: right;\">\n",
       "      <th></th>\n",
       "      <th>active</th>\n",
       "      <th>role</th>\n",
       "      <th>signUpSource</th>\n",
       "      <th>state</th>\n",
       "      <th>user_id</th>\n",
       "      <th>created_date_time</th>\n",
       "      <th>lastLogin_date_time</th>\n",
       "    </tr>\n",
       "  </thead>\n",
       "  <tbody>\n",
       "    <tr>\n",
       "      <th>344</th>\n",
       "      <td>True</td>\n",
       "      <td>consumer</td>\n",
       "      <td>Email</td>\n",
       "      <td>NaN</td>\n",
       "      <td>60145ff384231211ce796d51</td>\n",
       "      <td>2021-01-29 13:20:19.722</td>\n",
       "      <td>NaN</td>\n",
       "    </tr>\n",
       "    <tr>\n",
       "      <th>375</th>\n",
       "      <td>True</td>\n",
       "      <td>consumer</td>\n",
       "      <td>Email</td>\n",
       "      <td>NaN</td>\n",
       "      <td>60186237c8b50e11d8454d5f</td>\n",
       "      <td>2021-02-01 14:19:03.551</td>\n",
       "      <td>NaN</td>\n",
       "    </tr>\n",
       "    <tr>\n",
       "      <th>422</th>\n",
       "      <td>True</td>\n",
       "      <td>consumer</td>\n",
       "      <td>NaN</td>\n",
       "      <td>NaN</td>\n",
       "      <td>5a43c08fe4b014fd6b6a0612</td>\n",
       "      <td>2017-12-27 09:47:27.059</td>\n",
       "      <td>2021-02-12 10:22:37.155</td>\n",
       "    </tr>\n",
       "    <tr>\n",
       "      <th>432</th>\n",
       "      <td>True</td>\n",
       "      <td>fetch-staff</td>\n",
       "      <td>Email</td>\n",
       "      <td>NaN</td>\n",
       "      <td>5fbc35711d967d1222cbfefc</td>\n",
       "      <td>2020-11-23 16:19:29.509</td>\n",
       "      <td>2021-02-25 22:25:51.057</td>\n",
       "    </tr>\n",
       "    <tr>\n",
       "      <th>455</th>\n",
       "      <td>True</td>\n",
       "      <td>fetch-staff</td>\n",
       "      <td>Email</td>\n",
       "      <td>NaN</td>\n",
       "      <td>5fa41775898c7a11a6bcef3e</td>\n",
       "      <td>2020-11-05 09:17:09.396</td>\n",
       "      <td>2021-03-04 10:02:02.026</td>\n",
       "    </tr>\n",
       "    <tr>\n",
       "      <th>475</th>\n",
       "      <td>True</td>\n",
       "      <td>fetch-staff</td>\n",
       "      <td>NaN</td>\n",
       "      <td>NaN</td>\n",
       "      <td>54943462e4b07e684157a532</td>\n",
       "      <td>2014-12-19 08:21:22.381</td>\n",
       "      <td>2021-03-05 10:52:23.204</td>\n",
       "    </tr>\n",
       "  </tbody>\n",
       "</table>\n",
       "</div>"
      ],
      "text/plain": [
       "     active         role signUpSource state                   user_id  \\\n",
       "344    True     consumer        Email   NaN  60145ff384231211ce796d51   \n",
       "375    True     consumer        Email   NaN  60186237c8b50e11d8454d5f   \n",
       "422    True     consumer          NaN   NaN  5a43c08fe4b014fd6b6a0612   \n",
       "432    True  fetch-staff        Email   NaN  5fbc35711d967d1222cbfefc   \n",
       "455    True  fetch-staff        Email   NaN  5fa41775898c7a11a6bcef3e   \n",
       "475    True  fetch-staff          NaN   NaN  54943462e4b07e684157a532   \n",
       "\n",
       "           created_date_time      lastLogin_date_time  \n",
       "344  2021-01-29 13:20:19.722                      NaN  \n",
       "375  2021-02-01 14:19:03.551                      NaN  \n",
       "422  2017-12-27 09:47:27.059  2021-02-12 10:22:37.155  \n",
       "432  2020-11-23 16:19:29.509  2021-02-25 22:25:51.057  \n",
       "455  2020-11-05 09:17:09.396  2021-03-04 10:02:02.026  \n",
       "475  2014-12-19 08:21:22.381  2021-03-05 10:52:23.204  "
      ]
     },
     "execution_count": 94,
     "metadata": {},
     "output_type": "execute_result"
    }
   ],
   "source": [
    "## Analyzing missing values in States\n",
    "users_df_no_duplicates[users_df_no_duplicates['state'].isna()]"
   ]
  },
  {
   "cell_type": "code",
   "execution_count": 95,
   "metadata": {},
   "outputs": [
    {
     "data": {
      "text/plain": [
       "array(['WI', 'KY', 'AL', 'CO', 'IL', nan, 'OH', 'SC', 'NH'], dtype=object)"
      ]
     },
     "execution_count": 95,
     "metadata": {},
     "output_type": "execute_result"
    }
   ],
   "source": [
    "## Unique values of state\n",
    "users_df_no_duplicates['state'].unique()"
   ]
  },
  {
   "cell_type": "markdown",
   "metadata": {},
   "source": [
    "Missing values could be imputed with 'DNF' (Did not fill) or 'N/A' or 'None' approriately."
   ]
  },
  {
   "cell_type": "code",
   "execution_count": 96,
   "metadata": {},
   "outputs": [
    {
     "data": {
      "text/html": [
       "<div>\n",
       "<style scoped>\n",
       "    .dataframe tbody tr th:only-of-type {\n",
       "        vertical-align: middle;\n",
       "    }\n",
       "\n",
       "    .dataframe tbody tr th {\n",
       "        vertical-align: top;\n",
       "    }\n",
       "\n",
       "    .dataframe thead th {\n",
       "        text-align: right;\n",
       "    }\n",
       "</style>\n",
       "<table border=\"1\" class=\"dataframe\">\n",
       "  <thead>\n",
       "    <tr style=\"text-align: right;\">\n",
       "      <th></th>\n",
       "      <th>active</th>\n",
       "      <th>role</th>\n",
       "      <th>signUpSource</th>\n",
       "      <th>state</th>\n",
       "      <th>user_id</th>\n",
       "      <th>created_date_time</th>\n",
       "      <th>lastLogin_date_time</th>\n",
       "    </tr>\n",
       "  </thead>\n",
       "  <tbody>\n",
       "    <tr>\n",
       "      <th>97</th>\n",
       "      <td>True</td>\n",
       "      <td>consumer</td>\n",
       "      <td>Email</td>\n",
       "      <td>KY</td>\n",
       "      <td>5ff616a68f142f11dd189163</td>\n",
       "      <td>2021-01-06 13:59:34.996</td>\n",
       "      <td>NaN</td>\n",
       "    </tr>\n",
       "    <tr>\n",
       "      <th>143</th>\n",
       "      <td>True</td>\n",
       "      <td>consumer</td>\n",
       "      <td>Email</td>\n",
       "      <td>AL</td>\n",
       "      <td>5ffe115404929101d0aaebb2</td>\n",
       "      <td>2021-01-12 15:15:00.208</td>\n",
       "      <td>NaN</td>\n",
       "    </tr>\n",
       "    <tr>\n",
       "      <th>170</th>\n",
       "      <td>True</td>\n",
       "      <td>consumer</td>\n",
       "      <td>Google</td>\n",
       "      <td>WI</td>\n",
       "      <td>5e27526d0bdb6a138c32b556</td>\n",
       "      <td>2020-01-21 13:35:09.795</td>\n",
       "      <td>NaN</td>\n",
       "    </tr>\n",
       "    <tr>\n",
       "      <th>180</th>\n",
       "      <td>True</td>\n",
       "      <td>consumer</td>\n",
       "      <td>Email</td>\n",
       "      <td>WI</td>\n",
       "      <td>6002475cfb296c121a81b98d</td>\n",
       "      <td>2021-01-15 19:54:36.571</td>\n",
       "      <td>NaN</td>\n",
       "    </tr>\n",
       "    <tr>\n",
       "      <th>181</th>\n",
       "      <td>True</td>\n",
       "      <td>consumer</td>\n",
       "      <td>Email</td>\n",
       "      <td>WI</td>\n",
       "      <td>60024f24e257124ec6b99a13</td>\n",
       "      <td>2021-01-15 20:27:49.345</td>\n",
       "      <td>NaN</td>\n",
       "    </tr>\n",
       "  </tbody>\n",
       "</table>\n",
       "</div>"
      ],
      "text/plain": [
       "     active      role signUpSource state                   user_id  \\\n",
       "97     True  consumer        Email    KY  5ff616a68f142f11dd189163   \n",
       "143    True  consumer        Email    AL  5ffe115404929101d0aaebb2   \n",
       "170    True  consumer       Google    WI  5e27526d0bdb6a138c32b556   \n",
       "180    True  consumer        Email    WI  6002475cfb296c121a81b98d   \n",
       "181    True  consumer        Email    WI  60024f24e257124ec6b99a13   \n",
       "\n",
       "           created_date_time lastLogin_date_time  \n",
       "97   2021-01-06 13:59:34.996                 NaN  \n",
       "143  2021-01-12 15:15:00.208                 NaN  \n",
       "170  2020-01-21 13:35:09.795                 NaN  \n",
       "180  2021-01-15 19:54:36.571                 NaN  \n",
       "181  2021-01-15 20:27:49.345                 NaN  "
      ]
     },
     "execution_count": 96,
     "metadata": {},
     "output_type": "execute_result"
    }
   ],
   "source": [
    "## Analyzing Missing Last Login Date:\n",
    "\n",
    "missing_last_login = users_df_no_duplicates[users_df_no_duplicates['lastLogin_date_time'].isna()]\n",
    "missing_last_login.head()\n",
    "# missing_last_login.groupby('signUpSource')\\\n",
    "#     .agg({'signUpSource':'size'})\\\n",
    "#     .rename(columns = {'signUpSource':'count'})\\\n",
    "#     .sort_values(by = 'count',ascending= False)\\\n",
    "#     *100/(missing_last_login.shape[0])"
   ]
  },
  {
   "cell_type": "markdown",
   "metadata": {},
   "source": [
    "The missing last login data indicates that users are not immediately logging in after signing up. Of the users with missing last login dates, 95% signed up via email, while only 5% signed up through Google. This suggests a potential bottleneck in the email sign-up process, where users may be unable to log in right after signing up. One possible cause could be permission issues or other technical restrictions that prevent the app from opening or proceeding to the login page after email registration. Further investigation is needed to identify and address this issue to streamline the sign-up and login experience, especially for email users."
   ]
  },
  {
   "cell_type": "markdown",
   "metadata": {},
   "source": [
    "It would be interesting to check if the user_ids for the above table could be present in receipts_df. It is expected that the user_ids would not be present in receipts_df."
   ]
  },
  {
   "cell_type": "code",
   "execution_count": 97,
   "metadata": {},
   "outputs": [
    {
     "name": "stdout",
     "output_type": "stream",
     "text": [
      "<class 'pandas.core.frame.DataFrame'>\n",
      "Int64Index: 57 entries, 0 to 56\n",
      "Data columns (total 6 columns):\n",
      " #   Column               Non-Null Count  Dtype  \n",
      "---  ------               --------------  -----  \n",
      " 0   user_id              57 non-null     object \n",
      " 1   created_date_time_x  57 non-null     object \n",
      " 2   lastLogin_date_time  0 non-null      object \n",
      " 3   bonusPointsEarned    32 non-null     float64\n",
      " 4   receipt_id           57 non-null     object \n",
      " 5   scanned_date_time    57 non-null     object \n",
      "dtypes: float64(1), object(5)\n",
      "memory usage: 3.1+ KB\n"
     ]
    }
   ],
   "source": [
    "## Checking if the user_id present in the missing last login date if they made any orders.\n",
    "missing_last_login_merge_receipts = missing_last_login\\\n",
    "    .merge(receipts_df, how = 'inner',left_on = 'user_id',right_on = 'userId')\\\n",
    "    [['user_id','created_date_time_x','lastLogin_date_time',\\\n",
    "      'bonusPointsEarned','receipt_id','scanned_date_time']]\n",
    "missing_last_login_merge_receipts.info()"
   ]
  },
  {
   "cell_type": "markdown",
   "metadata": {},
   "source": [
    "#### Data Quality Issue spotted!!\n",
    "It is interesting to see that the above data suggests that users with no recorded last login date are still able to scan receipts and earn bonus points. This is unexpected behavior, as we would typically expect a last login date to be present once a user interacts with the app to scan receipts. This anomaly needs to be investigated further, as it could indicate a logging issue or a flaw in the system where login events are not properly captured before allowing user actions such as receipt scanning."
   ]
  },
  {
   "cell_type": "markdown",
   "metadata": {},
   "source": [
    "#### 5) Timestamp validation"
   ]
  },
  {
   "cell_type": "code",
   "execution_count": 98,
   "metadata": {},
   "outputs": [
    {
     "data": {
      "text/plain": [
       "(0, 7)"
      ]
     },
     "execution_count": 98,
     "metadata": {},
     "output_type": "execute_result"
    }
   ],
   "source": [
    "##Checking if last login date is after creation date\n",
    "\n",
    "users_df_no_duplicates[users_df_no_duplicates['lastLogin_date_time'] \\\n",
    "                       < users_df_no_duplicates['created_date_time']].shape"
   ]
  },
  {
   "cell_type": "markdown",
   "metadata": {},
   "source": [
    "No data entries where last login date and time is before creation date and time."
   ]
  },
  {
   "cell_type": "markdown",
   "metadata": {},
   "source": [
    "#### 6) Appropriate formatting of the data"
   ]
  },
  {
   "cell_type": "code",
   "execution_count": 99,
   "metadata": {},
   "outputs": [
    {
     "data": {
      "text/plain": [
       "active                   bool\n",
       "role                   object\n",
       "signUpSource           object\n",
       "state                  object\n",
       "user_id                object\n",
       "created_date_time      object\n",
       "lastLogin_date_time    object\n",
       "dtype: object"
      ]
     },
     "execution_count": 99,
     "metadata": {},
     "output_type": "execute_result"
    }
   ],
   "source": [
    "## Data types for the users\n",
    "users_df_no_duplicates.dtypes"
   ]
  },
  {
   "cell_type": "markdown",
   "metadata": {},
   "source": [
    "I would check if there are any discrepancies in the way the strings are entered. Discrepancy definition: 'GOOGLE' and 'Google'"
   ]
  },
  {
   "cell_type": "code",
   "execution_count": 100,
   "metadata": {},
   "outputs": [
    {
     "name": "stdout",
     "output_type": "stream",
     "text": [
      "[ True False]\n",
      "['consumer' 'fetch-staff']\n",
      "['Email' 'Google' nan]\n",
      "['WI' 'KY' 'AL' 'CO' 'IL' nan 'OH' 'SC' 'NH']\n"
     ]
    }
   ],
   "source": [
    "## checking for discrepancies of the 'object' columns\n",
    "for columns in ['active','role','signUpSource','state']:\n",
    "    print(users_df_no_duplicates[columns].unique())"
   ]
  },
  {
   "cell_type": "markdown",
   "metadata": {},
   "source": [
    "There are no string discrepancies."
   ]
  },
  {
   "cell_type": "markdown",
   "metadata": {},
   "source": [
    "It would be better to convert Date columns from strings to datetime objects."
   ]
  },
  {
   "cell_type": "code",
   "execution_count": 101,
   "metadata": {},
   "outputs": [],
   "source": [
    "## Objects to date conversion:\n",
    "users_df_no_duplicates['created_date_time'] = pd.to_datetime(users_df_no_duplicates['created_date_time'], format='%Y-%m-%d %H:%M:%S.%f')\n",
    "users_df_no_duplicates['lastLogin_date_time'] = pd.to_datetime(users_df_no_duplicates['lastLogin_date_time'], format='%Y-%m-%d %H:%M:%S.%f')\n"
   ]
  },
  {
   "cell_type": "markdown",
   "metadata": {},
   "source": [
    "#### 7) Other Miscellaneous checks:\n",
    "\n",
    "I would check if the state column is in correct abbrevation and would belong to the states from USA.\n"
   ]
  },
  {
   "cell_type": "code",
   "execution_count": 102,
   "metadata": {},
   "outputs": [
    {
     "data": {
      "text/plain": [
       "[]"
      ]
     },
     "execution_count": 102,
     "metadata": {},
     "output_type": "execute_result"
    }
   ],
   "source": [
    "## Checking if the states from users_table are subset of the states_abbreviations\n",
    "states_abbr = [\n",
    "    'AL', 'AK', 'AZ', 'AR', 'CA', 'CO', 'CT', 'DE', 'FL', 'GA', 'HI', 'ID', \n",
    "    'IL', 'IN', 'IA', 'KS', 'KY', 'LA', 'ME', 'MD', 'MA', 'MI', 'MN', 'MS', \n",
    "    'MO', 'MT', 'NE', 'NV', 'NH', 'NJ', 'NM', 'NY', 'NC', 'ND', 'OH', 'OK', \n",
    "    'OR', 'PA', 'RI', 'SC', 'SD', 'TN', 'TX', 'UT', 'VT', 'VA', 'WA', 'WV', \n",
    "    'WI', 'WY', np.nan\n",
    "]\n",
    "\n",
    "[state for state in users_df_no_duplicates['state'] if state not in states_abbr]"
   ]
  },
  {
   "cell_type": "code",
   "execution_count": 103,
   "metadata": {},
   "outputs": [
    {
     "name": "stdout",
     "output_type": "stream",
     "text": [
      "Check passed for created_date_time\n",
      "Check passed for lastLogin_date_time\n"
     ]
    }
   ],
   "source": [
    "## Date range checks for date type columns\n",
    "## choosing a 100 year valid period starting from 2000\n",
    "start_date = pd.to_datetime('2000-01-01 00:00:00.000')\n",
    "end_date = pd.to_datetime('2100-12-31 00:00:00.000')\n",
    "\n",
    "for column in ['created_date_time','lastLogin_date_time']:\n",
    "    if users_df_no_duplicates[\\\n",
    "        (users_df_no_duplicates[column] > end_date) \\\n",
    "            | (users_df_no_duplicates[column] < start_date)].shape[0] == 0:\n",
    "        print(f'Check passed for {column}')\n",
    "    else:\n",
    "        print(f'Check failed for {column}')"
   ]
  },
  {
   "cell_type": "markdown",
   "metadata": {},
   "source": [
    "Checking if the range of the created_date_time and last_login_date_time to understand if the data is missing for certain months or years"
   ]
  },
  {
   "cell_type": "code",
   "execution_count": 104,
   "metadata": {},
   "outputs": [
    {
     "name": "stdout",
     "output_type": "stream",
     "text": [
      "Created date range: (Timestamp('2014-12-19 08:21:22.381000'), Timestamp('2021-02-12 08:11:06.240000'))\n",
      "Created counts by month:\n",
      " 2014-12      1\n",
      "2015-04      1\n",
      "2017-07      1\n",
      "2017-09      1\n",
      "2017-12      1\n",
      "2020-01      1\n",
      "2020-07      1\n",
      "2020-11      4\n",
      "2020-12      1\n",
      "2021-01    170\n",
      "2021-02     30\n",
      "Freq: M, Name: created_year_month, dtype: int64\n"
     ]
    }
   ],
   "source": [
    "# Extracting year and month for easier grouping\n",
    "users_df_no_duplicates['created_year_month'] = users_df_no_duplicates['created_date_time'].dt.to_period('M')\n",
    "\n",
    "# Checking the range of created dates\n",
    "created_range = users_df_no_duplicates['created_date_time'].min(), users_df_no_duplicates['created_date_time'].max()\n",
    "print(\"Created date range:\", created_range)\n",
    "\n",
    "# Grouping by month to check if data is missing for certain periods\n",
    "created_counts = users_df_no_duplicates['created_year_month'].value_counts().sort_index()\n",
    "\n",
    "print(\"Created counts by month:\\n\",created_counts)"
   ]
  },
  {
   "cell_type": "markdown",
   "metadata": {},
   "source": [
    "#### Data Quality issue spotted!! "
   ]
  },
  {
   "cell_type": "markdown",
   "metadata": {},
   "source": [
    "The sporadic distribution of `created_date_time`, with entire years like **2016**, **2018**, and **2019** missing, seems suspicious. Unless there's a specific reason for these gaps, I would flag it as a potential data quality issue for further investigation."
   ]
  },
  {
   "cell_type": "markdown",
   "metadata": {},
   "source": [
    "#### Data Quality Assessment - Brands table"
   ]
  },
  {
   "cell_type": "markdown",
   "metadata": {},
   "source": [
    "Similar to Data Quality Assessment of Users table, here is the \n",
    "Overview of data quality checks for the Brands table:\n",
    "\n",
    "1) Schema Verification: Ensuring the Schema of the table (possibly new data) be consistent with the already established schema for the Users table.\n",
    "2) Checking for Duplicates: Ensuring no duplicate records.\n",
    "3) If assigned primary key is unique: Verifying the uniqueness of the primary key.\n",
    "4) Missing values: Identifying the columns with missing values.\n",
    "5) Data Type Validaton: Ensuring the appropriate data types for all the columns.\n",
    "\n",
    "\n",
    "Additionally,\n",
    "Certain entities are expected to maintain one-one relationship between them. For example: Brand Name and Brand Code are expected to maintain one-one relationship. Some of the checks are written to analyze this in detail."
   ]
  },
  {
   "cell_type": "code",
   "execution_count": 105,
   "metadata": {},
   "outputs": [
    {
     "data": {
      "text/html": [
       "<div>\n",
       "<style scoped>\n",
       "    .dataframe tbody tr th:only-of-type {\n",
       "        vertical-align: middle;\n",
       "    }\n",
       "\n",
       "    .dataframe tbody tr th {\n",
       "        vertical-align: top;\n",
       "    }\n",
       "\n",
       "    .dataframe thead th {\n",
       "        text-align: right;\n",
       "    }\n",
       "</style>\n",
       "<table border=\"1\" class=\"dataframe\">\n",
       "  <thead>\n",
       "    <tr style=\"text-align: right;\">\n",
       "      <th></th>\n",
       "      <th>barcode</th>\n",
       "      <th>category</th>\n",
       "      <th>categoryCode</th>\n",
       "      <th>name</th>\n",
       "      <th>topBrand</th>\n",
       "      <th>brand_id</th>\n",
       "      <th>cpg_id</th>\n",
       "      <th>cpg_ref</th>\n",
       "      <th>brandCode</th>\n",
       "    </tr>\n",
       "  </thead>\n",
       "  <tbody>\n",
       "    <tr>\n",
       "      <th>0</th>\n",
       "      <td>511111019862</td>\n",
       "      <td>Baking</td>\n",
       "      <td>BAKING</td>\n",
       "      <td>test brand @1612366101024</td>\n",
       "      <td>False</td>\n",
       "      <td>601ac115be37ce2ead437551</td>\n",
       "      <td>601ac114be37ce2ead437550</td>\n",
       "      <td>Cogs</td>\n",
       "      <td>NaN</td>\n",
       "    </tr>\n",
       "    <tr>\n",
       "      <th>1</th>\n",
       "      <td>511111519928</td>\n",
       "      <td>Beverages</td>\n",
       "      <td>BEVERAGES</td>\n",
       "      <td>Starbucks</td>\n",
       "      <td>False</td>\n",
       "      <td>601c5460be37ce2ead43755f</td>\n",
       "      <td>5332f5fbe4b03c9a25efd0ba</td>\n",
       "      <td>Cogs</td>\n",
       "      <td>STARBUCKS</td>\n",
       "    </tr>\n",
       "    <tr>\n",
       "      <th>2</th>\n",
       "      <td>511111819905</td>\n",
       "      <td>Baking</td>\n",
       "      <td>BAKING</td>\n",
       "      <td>test brand @1612366146176</td>\n",
       "      <td>False</td>\n",
       "      <td>601ac142be37ce2ead43755d</td>\n",
       "      <td>601ac142be37ce2ead437559</td>\n",
       "      <td>Cogs</td>\n",
       "      <td>TEST BRANDCODE @1612366146176</td>\n",
       "    </tr>\n",
       "    <tr>\n",
       "      <th>3</th>\n",
       "      <td>511111519874</td>\n",
       "      <td>Baking</td>\n",
       "      <td>BAKING</td>\n",
       "      <td>test brand @1612366146051</td>\n",
       "      <td>False</td>\n",
       "      <td>601ac142be37ce2ead43755a</td>\n",
       "      <td>601ac142be37ce2ead437559</td>\n",
       "      <td>Cogs</td>\n",
       "      <td>TEST BRANDCODE @1612366146051</td>\n",
       "    </tr>\n",
       "    <tr>\n",
       "      <th>4</th>\n",
       "      <td>511111319917</td>\n",
       "      <td>Candy &amp; Sweets</td>\n",
       "      <td>CANDY_AND_SWEETS</td>\n",
       "      <td>test brand @1612366146827</td>\n",
       "      <td>False</td>\n",
       "      <td>601ac142be37ce2ead43755e</td>\n",
       "      <td>5332fa12e4b03c9a25efd1e7</td>\n",
       "      <td>Cogs</td>\n",
       "      <td>TEST BRANDCODE @1612366146827</td>\n",
       "    </tr>\n",
       "  </tbody>\n",
       "</table>\n",
       "</div>"
      ],
      "text/plain": [
       "        barcode        category      categoryCode                       name  \\\n",
       "0  511111019862          Baking            BAKING  test brand @1612366101024   \n",
       "1  511111519928       Beverages         BEVERAGES                  Starbucks   \n",
       "2  511111819905          Baking            BAKING  test brand @1612366146176   \n",
       "3  511111519874          Baking            BAKING  test brand @1612366146051   \n",
       "4  511111319917  Candy & Sweets  CANDY_AND_SWEETS  test brand @1612366146827   \n",
       "\n",
       "  topBrand                  brand_id                    cpg_id cpg_ref  \\\n",
       "0    False  601ac115be37ce2ead437551  601ac114be37ce2ead437550    Cogs   \n",
       "1    False  601c5460be37ce2ead43755f  5332f5fbe4b03c9a25efd0ba    Cogs   \n",
       "2    False  601ac142be37ce2ead43755d  601ac142be37ce2ead437559    Cogs   \n",
       "3    False  601ac142be37ce2ead43755a  601ac142be37ce2ead437559    Cogs   \n",
       "4    False  601ac142be37ce2ead43755e  5332fa12e4b03c9a25efd1e7    Cogs   \n",
       "\n",
       "                       brandCode  \n",
       "0                            NaN  \n",
       "1                      STARBUCKS  \n",
       "2  TEST BRANDCODE @1612366146176  \n",
       "3  TEST BRANDCODE @1612366146051  \n",
       "4  TEST BRANDCODE @1612366146827  "
      ]
     },
     "execution_count": 105,
     "metadata": {},
     "output_type": "execute_result"
    }
   ],
   "source": [
    "## over view of the contents of the brands table\n",
    "brands_df.head()"
   ]
  },
  {
   "cell_type": "markdown",
   "metadata": {},
   "source": [
    "#### 1) Schema Verification:\n"
   ]
  },
  {
   "cell_type": "code",
   "execution_count": 106,
   "metadata": {},
   "outputs": [
    {
     "data": {
      "text/plain": [
       "Index(['barcode', 'category', 'categoryCode', 'name', 'topBrand', 'brand_id',\n",
       "       'cpg_id', 'cpg_ref', 'brandCode'],\n",
       "      dtype='object')"
      ]
     },
     "execution_count": 106,
     "metadata": {},
     "output_type": "execute_result"
    }
   ],
   "source": [
    "##brand_df columns\n",
    "brands_df.columns"
   ]
  },
  {
   "cell_type": "markdown",
   "metadata": {},
   "source": [
    "Check passed. A more formal way of testing would be to write an expectation and verify which will be discussed in the end."
   ]
  },
  {
   "cell_type": "markdown",
   "metadata": {},
   "source": [
    "#### 2) Duplicates, Uniqueness of the primary key and Missing values of Primary Key check:"
   ]
  },
  {
   "cell_type": "code",
   "execution_count": 107,
   "metadata": {},
   "outputs": [
    {
     "name": "stdout",
     "output_type": "stream",
     "text": [
      "No Duplicate entries in Brands table\n",
      "brand_id is unique\n",
      "brand_id is not missing\n"
     ]
    }
   ],
   "source": [
    "## Checking for duplicate entries in brands table\n",
    "if brands_df[brands_df.duplicated()].shape[0] == 0:\n",
    "    print('No Duplicate entries in Brands table')\n",
    "else:\n",
    "    print('Duplicate entries in Brands table')\n",
    "\n",
    "## Checking if brand_id is unique\n",
    "if brands_df['brand_id'].is_unique:\n",
    "    print('brand_id is unique')\n",
    "else:\n",
    "    print('brand_id is not unique')\n",
    "\n",
    "## Checking if there are any missing values in brands_id\n",
    "if brands_df['brand_id'].isna().sum() == 0:\n",
    "    print('brand_id is not missing')\n",
    "else:\n",
    "    print('brand_id is missing')"
   ]
  },
  {
   "cell_type": "markdown",
   "metadata": {},
   "source": [
    "3) One-One relationship between columns"
   ]
  },
  {
   "cell_type": "code",
   "execution_count": 108,
   "metadata": {},
   "outputs": [
    {
     "data": {
      "text/html": [
       "<div>\n",
       "<style scoped>\n",
       "    .dataframe tbody tr th:only-of-type {\n",
       "        vertical-align: middle;\n",
       "    }\n",
       "\n",
       "    .dataframe tbody tr th {\n",
       "        vertical-align: top;\n",
       "    }\n",
       "\n",
       "    .dataframe thead th {\n",
       "        text-align: right;\n",
       "    }\n",
       "</style>\n",
       "<table border=\"1\" class=\"dataframe\">\n",
       "  <thead>\n",
       "    <tr style=\"text-align: right;\">\n",
       "      <th></th>\n",
       "      <th>name</th>\n",
       "      <th>brandCode</th>\n",
       "    </tr>\n",
       "  </thead>\n",
       "  <tbody>\n",
       "    <tr>\n",
       "      <th>73</th>\n",
       "      <td>Baken-Ets</td>\n",
       "      <td>2</td>\n",
       "    </tr>\n",
       "    <tr>\n",
       "      <th>129</th>\n",
       "      <td>Caleb's Kola</td>\n",
       "      <td>2</td>\n",
       "    </tr>\n",
       "    <tr>\n",
       "      <th>223</th>\n",
       "      <td>Dippin Dots® Cereal</td>\n",
       "      <td>2</td>\n",
       "    </tr>\n",
       "    <tr>\n",
       "      <th>313</th>\n",
       "      <td>Health Magazine</td>\n",
       "      <td>2</td>\n",
       "    </tr>\n",
       "    <tr>\n",
       "      <th>335</th>\n",
       "      <td>I CAN'T BELIEVE IT'S NOT BUTTER!</td>\n",
       "      <td>2</td>\n",
       "    </tr>\n",
       "    <tr>\n",
       "      <th>504</th>\n",
       "      <td>ONE A DAY® WOMENS</td>\n",
       "      <td>2</td>\n",
       "    </tr>\n",
       "    <tr>\n",
       "      <th>564</th>\n",
       "      <td>Pull-Ups</td>\n",
       "      <td>2</td>\n",
       "    </tr>\n",
       "  </tbody>\n",
       "</table>\n",
       "</div>"
      ],
      "text/plain": [
       "                                 name  brandCode\n",
       "73                          Baken-Ets          2\n",
       "129                      Caleb's Kola          2\n",
       "223               Dippin Dots® Cereal          2\n",
       "313                   Health Magazine          2\n",
       "335  I CAN'T BELIEVE IT'S NOT BUTTER!          2\n",
       "504                 ONE A DAY® WOMENS          2\n",
       "564                          Pull-Ups          2"
      ]
     },
     "execution_count": 108,
     "metadata": {},
     "output_type": "execute_result"
    }
   ],
   "source": [
    "##checking if brand name and brand code have one-one to relationship (which is expected)\n",
    "\n",
    "inconsistent = brands_df.groupby('name')['brandCode'].nunique().reset_index()\n",
    "inconsistent = inconsistent[inconsistent['brandCode'] > 1]\n",
    "inconsistent"
   ]
  },
  {
   "cell_type": "markdown",
   "metadata": {},
   "source": [
    "It is expected that brand name and brand code would go hand in hand but the above table disagrees. Sampling a couple of data points from the above table would bring us closer to the issue."
   ]
  },
  {
   "cell_type": "code",
   "execution_count": 109,
   "metadata": {},
   "outputs": [
    {
     "name": "stdout",
     "output_type": "stream",
     "text": [
      "          name  brandCode\n",
      "574  Baken-Ets  BAKEN ETS\n",
      "848  Baken-Ets  BAKEN-ETS\n",
      "             name     brandCode\n",
      "140  Caleb's Kola  CALEB'S KOLA\n",
      "740  Caleb's Kola   CALEBS KOLA\n",
      "                     name           brandCode\n",
      "1081  Dippin Dots® Cereal         DIPPIN DOTS\n",
      "1163  Dippin Dots® Cereal  DIPPIN DOTS CEREAL\n",
      "                                 name                         brandCode\n",
      "176  I CAN'T BELIEVE IT'S NOT BUTTER!  I CAN'T BELIEVE IT'S NOT BUTTER!\n",
      "846  I CAN'T BELIEVE IT'S NOT BUTTER!   I CAN'T BELIEVE IT'S NOT BUTTER\n"
     ]
    }
   ],
   "source": [
    "## Deep analysis of why the name and brandCode are inconsistent\n",
    "\n",
    "print(brands_df[brands_df['name'] == 'Baken-Ets'][['name','brandCode']])\n",
    "print(brands_df[brands_df['name'] == 'Caleb\\'s Kola'][['name','brandCode']])\n",
    "print(brands_df[brands_df['name'] == 'Dippin Dots® Cereal'][['name','brandCode']])\n",
    "print(brands_df[brands_df['name'] == 'I CAN\\'T BELIEVE IT\\'S NOT BUTTER!'][['name','brandCode']])"
   ]
  },
  {
   "cell_type": "markdown",
   "metadata": {},
   "source": [
    "#### Data Quality Issue spotted"
   ]
  },
  {
   "cell_type": "markdown",
   "metadata": {},
   "source": [
    "The spelling and punctuation mistakes in the brandCode highlight the inconsistency in the relationship between brandCode and brand name. This data quality issue needs to be addressed, as brandCode is a crucial parameter for identifying a brand. It is a serious problem when trying to understand and analyse brand related KPIs. Additionally, brandCode serves as a foreign key in the rewards_Receipts table, as discussed in the first part of this project. To ensure data integrity, it is essential to have a consistent, error-free one-to-one mapping between brandCode and brand name."
   ]
  },
  {
   "cell_type": "code",
   "execution_count": 110,
   "metadata": {},
   "outputs": [
    {
     "name": "stdout",
     "output_type": "stream",
     "text": [
      "one-one relationship does not exist between name and brandCode\n",
      "one-one relationship does not exist between name and topBrand\n",
      "one-one relationship does not exist between name and brand_id\n",
      "one-one relationship does not exist between brandCode and name\n",
      "one-one relationship does not exist between brandCode and topBrand\n",
      "one-one relationship does not exist between brandCode and brand_id\n",
      "one-one relationship does not exist between topBrand and name\n",
      "one-one relationship does not exist between topBrand and brandCode\n",
      "one-one relationship does not exist between topBrand and brand_id\n"
     ]
    }
   ],
   "source": [
    "## Automation code to check if there are any one-one relatipnship between non primary keys in a dataframe.\n",
    "\n",
    "df = brands_df # one of the four tables: Brands, Users, Receipts and Rewards_Receipts\n",
    "\n",
    "columns_might_have_one_one_relationship = ['name','brandCode','topBrand','brand_id']\n",
    "\n",
    "for columni in columns_might_have_one_one_relationship:\n",
    "    for columnj in columns_might_have_one_one_relationship:\n",
    "\n",
    "        if columni != columnj: \n",
    "            inconsistent = df.groupby(columni)[columnj].nunique().reset_index()\n",
    "            inconsistent = inconsistent[inconsistent[columnj] > 1]\n",
    "            if  not inconsistent.empty:\n",
    "                print(f'one-one relationship does not exist between {columni} and {columnj}')"
   ]
  },
  {
   "cell_type": "code",
   "execution_count": 111,
   "metadata": {},
   "outputs": [
    {
     "data": {
      "text/html": [
       "<div>\n",
       "<style scoped>\n",
       "    .dataframe tbody tr th:only-of-type {\n",
       "        vertical-align: middle;\n",
       "    }\n",
       "\n",
       "    .dataframe tbody tr th {\n",
       "        vertical-align: top;\n",
       "    }\n",
       "\n",
       "    .dataframe thead th {\n",
       "        text-align: right;\n",
       "    }\n",
       "</style>\n",
       "<table border=\"1\" class=\"dataframe\">\n",
       "  <thead>\n",
       "    <tr style=\"text-align: right;\">\n",
       "      <th></th>\n",
       "      <th>name</th>\n",
       "      <th>topBrand</th>\n",
       "    </tr>\n",
       "  </thead>\n",
       "  <tbody>\n",
       "    <tr>\n",
       "      <th>333</th>\n",
       "      <td>Huggies</td>\n",
       "      <td>2</td>\n",
       "    </tr>\n",
       "    <tr>\n",
       "      <th>564</th>\n",
       "      <td>Pull-Ups</td>\n",
       "      <td>2</td>\n",
       "    </tr>\n",
       "  </tbody>\n",
       "</table>\n",
       "</div>"
      ],
      "text/plain": [
       "         name  topBrand\n",
       "333   Huggies         2\n",
       "564  Pull-Ups         2"
      ]
     },
     "execution_count": 111,
     "metadata": {},
     "output_type": "execute_result"
    }
   ],
   "source": [
    "##checking if brand name and topbrand have one-one to relationship (which is expected)\n",
    "\n",
    "inconsistent = brands_df.groupby('name')['topBrand'].nunique().reset_index()\n",
    "inconsistent = inconsistent[inconsistent['topBrand'] > 1]\n",
    "inconsistent"
   ]
  },
  {
   "cell_type": "code",
   "execution_count": 112,
   "metadata": {},
   "outputs": [
    {
     "name": "stdout",
     "output_type": "stream",
     "text": [
      "         name topBrand\n",
      "628   Huggies    False\n",
      "1074  Huggies     True\n",
      "         name topBrand\n",
      "126  Pull-Ups    False\n",
      "978  Pull-Ups     True\n"
     ]
    }
   ],
   "source": [
    "## Deep analysis of why the name and topbrand are inconsistent\n",
    "\n",
    "print(brands_df[brands_df['name'] == 'Huggies'][['name','topBrand']])\n",
    "\n",
    "print(brands_df[brands_df['name'] == 'Pull-Ups'][['name','topBrand']])"
   ]
  },
  {
   "cell_type": "markdown",
   "metadata": {},
   "source": [
    "#### Data Quality Issue spotted"
   ]
  },
  {
   "cell_type": "markdown",
   "metadata": {},
   "source": [
    "Based on the above table, it is difficult to determine whether Huggies qualifies as a top brand due to the inconsistency in the data. Such inconsistencies are undesirable and may impede further analysis, especially when evaluating key performance indicators (KPIs) related to brand performance. For meaningful insights, the classification of topBrand should be consistently defined and applied at the brand level to ensure accurate and reliable analysis."
   ]
  },
  {
   "cell_type": "code",
   "execution_count": 113,
   "metadata": {},
   "outputs": [
    {
     "data": {
      "text/html": [
       "<div>\n",
       "<style scoped>\n",
       "    .dataframe tbody tr th:only-of-type {\n",
       "        vertical-align: middle;\n",
       "    }\n",
       "\n",
       "    .dataframe tbody tr th {\n",
       "        vertical-align: top;\n",
       "    }\n",
       "\n",
       "    .dataframe thead th {\n",
       "        text-align: right;\n",
       "    }\n",
       "</style>\n",
       "<table border=\"1\" class=\"dataframe\">\n",
       "  <thead>\n",
       "    <tr style=\"text-align: right;\">\n",
       "      <th></th>\n",
       "      <th>name</th>\n",
       "      <th>brand_id</th>\n",
       "    </tr>\n",
       "  </thead>\n",
       "  <tbody>\n",
       "    <tr>\n",
       "      <th>73</th>\n",
       "      <td>Baken-Ets</td>\n",
       "      <td>2</td>\n",
       "    </tr>\n",
       "    <tr>\n",
       "      <th>129</th>\n",
       "      <td>Caleb's Kola</td>\n",
       "      <td>2</td>\n",
       "    </tr>\n",
       "    <tr>\n",
       "      <th>215</th>\n",
       "      <td>Diabetic Living Magazine</td>\n",
       "      <td>2</td>\n",
       "    </tr>\n",
       "    <tr>\n",
       "      <th>223</th>\n",
       "      <td>Dippin Dots® Cereal</td>\n",
       "      <td>2</td>\n",
       "    </tr>\n",
       "    <tr>\n",
       "      <th>313</th>\n",
       "      <td>Health Magazine</td>\n",
       "      <td>2</td>\n",
       "    </tr>\n",
       "    <tr>\n",
       "      <th>333</th>\n",
       "      <td>Huggies</td>\n",
       "      <td>2</td>\n",
       "    </tr>\n",
       "    <tr>\n",
       "      <th>335</th>\n",
       "      <td>I CAN'T BELIEVE IT'S NOT BUTTER!</td>\n",
       "      <td>2</td>\n",
       "    </tr>\n",
       "    <tr>\n",
       "      <th>504</th>\n",
       "      <td>ONE A DAY® WOMENS</td>\n",
       "      <td>2</td>\n",
       "    </tr>\n",
       "    <tr>\n",
       "      <th>564</th>\n",
       "      <td>Pull-Ups</td>\n",
       "      <td>2</td>\n",
       "    </tr>\n",
       "    <tr>\n",
       "      <th>627</th>\n",
       "      <td>Sierra Mist</td>\n",
       "      <td>2</td>\n",
       "    </tr>\n",
       "    <tr>\n",
       "      <th>699</th>\n",
       "      <td>V8 Hydrate</td>\n",
       "      <td>2</td>\n",
       "    </tr>\n",
       "  </tbody>\n",
       "</table>\n",
       "</div>"
      ],
      "text/plain": [
       "                                 name  brand_id\n",
       "73                          Baken-Ets         2\n",
       "129                      Caleb's Kola         2\n",
       "215          Diabetic Living Magazine         2\n",
       "223               Dippin Dots® Cereal         2\n",
       "313                   Health Magazine         2\n",
       "333                           Huggies         2\n",
       "335  I CAN'T BELIEVE IT'S NOT BUTTER!         2\n",
       "504                 ONE A DAY® WOMENS         2\n",
       "564                          Pull-Ups         2\n",
       "627                       Sierra Mist         2\n",
       "699                        V8 Hydrate         2"
      ]
     },
     "execution_count": 113,
     "metadata": {},
     "output_type": "execute_result"
    }
   ],
   "source": [
    "##checking if brand name and brand_id have one-one to relationship (which is expected)\n",
    "\n",
    "inconsistent = brands_df.groupby('name')['brand_id'].nunique().reset_index()\n",
    "inconsistent = inconsistent[inconsistent['brand_id'] > 1]\n",
    "inconsistent"
   ]
  },
  {
   "cell_type": "markdown",
   "metadata": {},
   "source": [
    "An interesting question arises here. Can the same brand name have a different brand_uuid? The answer to this question depends on how FETCH assigns brand_uuids to the products/brands."
   ]
  },
  {
   "cell_type": "markdown",
   "metadata": {},
   "source": [
    "#### Missing Value checks"
   ]
  },
  {
   "cell_type": "code",
   "execution_count": 114,
   "metadata": {},
   "outputs": [
    {
     "data": {
      "text/plain": [
       "barcode          0.000000\n",
       "category        13.281919\n",
       "categoryCode    55.698372\n",
       "name             0.000000\n",
       "topBrand        52.442159\n",
       "brand_id         0.000000\n",
       "cpg_id           0.000000\n",
       "cpg_ref          0.000000\n",
       "brandCode       23.050557\n",
       "dtype: float64"
      ]
     },
     "execution_count": 114,
     "metadata": {},
     "output_type": "execute_result"
    }
   ],
   "source": [
    "## Missing value percentages in brands_df\n",
    "brands_df.isna().sum()*100/brands_df.shape[0]"
   ]
  },
  {
   "cell_type": "markdown",
   "metadata": {},
   "source": [
    "#### Data Quality issue spotted (Missing category values)"
   ]
  },
  {
   "cell_type": "markdown",
   "metadata": {},
   "source": [
    "13% percent of the category data is missing. Can the category field be imputed using the brand name? Maybe yes. However, there could be cases for example the brand 'Nike'; they could sell shoes and apparels, so the category could be ambiguous here. Therefore, it would not be straight forward to impute category and just by the brand name. \n",
    "\n",
    "Ways like automating data entry processes using reference tables that map barcode or brandCode to a specific category and categoryCode could be explored."
   ]
  },
  {
   "cell_type": "code",
   "execution_count": 115,
   "metadata": {},
   "outputs": [
    {
     "data": {
      "text/html": [
       "<div>\n",
       "<style scoped>\n",
       "    .dataframe tbody tr th:only-of-type {\n",
       "        vertical-align: middle;\n",
       "    }\n",
       "\n",
       "    .dataframe tbody tr th {\n",
       "        vertical-align: top;\n",
       "    }\n",
       "\n",
       "    .dataframe thead th {\n",
       "        text-align: right;\n",
       "    }\n",
       "</style>\n",
       "<table border=\"1\" class=\"dataframe\">\n",
       "  <thead>\n",
       "    <tr style=\"text-align: right;\">\n",
       "      <th></th>\n",
       "      <th>barcode</th>\n",
       "      <th>category</th>\n",
       "      <th>categoryCode</th>\n",
       "      <th>name</th>\n",
       "      <th>topBrand</th>\n",
       "      <th>brand_id</th>\n",
       "      <th>cpg_id</th>\n",
       "      <th>cpg_ref</th>\n",
       "      <th>brandCode</th>\n",
       "    </tr>\n",
       "  </thead>\n",
       "  <tbody>\n",
       "    <tr>\n",
       "      <th>11</th>\n",
       "      <td>511111102540</td>\n",
       "      <td>NaN</td>\n",
       "      <td>NaN</td>\n",
       "      <td>MorningStar</td>\n",
       "      <td>NaN</td>\n",
       "      <td>57c08106e4b0718ff5fcb02c</td>\n",
       "      <td>5332f5f2e4b03c9a25efd0aa</td>\n",
       "      <td>Cpgs</td>\n",
       "      <td>NaN</td>\n",
       "    </tr>\n",
       "    <tr>\n",
       "      <th>23</th>\n",
       "      <td>511111303947</td>\n",
       "      <td>NaN</td>\n",
       "      <td>NaN</td>\n",
       "      <td>Bottled Starbucks</td>\n",
       "      <td>NaN</td>\n",
       "      <td>5332f5fee4b03c9a25efd0bd</td>\n",
       "      <td>53e10d6368abd3c7065097cc</td>\n",
       "      <td>Cpgs</td>\n",
       "      <td>NaN</td>\n",
       "    </tr>\n",
       "    <tr>\n",
       "      <th>24</th>\n",
       "      <td>511111802914</td>\n",
       "      <td>NaN</td>\n",
       "      <td>NaN</td>\n",
       "      <td>Full Throttle</td>\n",
       "      <td>NaN</td>\n",
       "      <td>5332fa7ce4b03c9a25efd22e</td>\n",
       "      <td>5332f5ebe4b03c9a25efd0a8</td>\n",
       "      <td>Cpgs</td>\n",
       "      <td>NaN</td>\n",
       "    </tr>\n",
       "    <tr>\n",
       "      <th>34</th>\n",
       "      <td>511111103653</td>\n",
       "      <td>NaN</td>\n",
       "      <td>NaN</td>\n",
       "      <td>Gold Medal</td>\n",
       "      <td>NaN</td>\n",
       "      <td>5332f772e4b03c9a25efd125</td>\n",
       "      <td>5332f5f3e4b03c9a25efd0ae</td>\n",
       "      <td>Cpgs</td>\n",
       "      <td>NaN</td>\n",
       "    </tr>\n",
       "    <tr>\n",
       "      <th>43</th>\n",
       "      <td>511111503699</td>\n",
       "      <td>NaN</td>\n",
       "      <td>NaN</td>\n",
       "      <td>Glaceau vitaminwater</td>\n",
       "      <td>NaN</td>\n",
       "      <td>5332f765e4b03c9a25efd11f</td>\n",
       "      <td>5332f5ebe4b03c9a25efd0a8</td>\n",
       "      <td>Cpgs</td>\n",
       "      <td>NaN</td>\n",
       "    </tr>\n",
       "  </tbody>\n",
       "</table>\n",
       "</div>"
      ],
      "text/plain": [
       "         barcode category categoryCode                  name topBrand  \\\n",
       "11  511111102540      NaN          NaN           MorningStar      NaN   \n",
       "23  511111303947      NaN          NaN     Bottled Starbucks      NaN   \n",
       "24  511111802914      NaN          NaN         Full Throttle      NaN   \n",
       "34  511111103653      NaN          NaN            Gold Medal      NaN   \n",
       "43  511111503699      NaN          NaN  Glaceau vitaminwater      NaN   \n",
       "\n",
       "                    brand_id                    cpg_id cpg_ref brandCode  \n",
       "11  57c08106e4b0718ff5fcb02c  5332f5f2e4b03c9a25efd0aa    Cpgs       NaN  \n",
       "23  5332f5fee4b03c9a25efd0bd  53e10d6368abd3c7065097cc    Cpgs       NaN  \n",
       "24  5332fa7ce4b03c9a25efd22e  5332f5ebe4b03c9a25efd0a8    Cpgs       NaN  \n",
       "34  5332f772e4b03c9a25efd125  5332f5f3e4b03c9a25efd0ae    Cpgs       NaN  \n",
       "43  5332f765e4b03c9a25efd11f  5332f5ebe4b03c9a25efd0a8    Cpgs       NaN  "
      ]
     },
     "execution_count": 115,
     "metadata": {},
     "output_type": "execute_result"
    }
   ],
   "source": [
    "## Understanding why category is missing.\n",
    "\n",
    "category_missing_brands = brands_df[brands_df['category'].isna()]\n",
    "category_missing_brands.head()"
   ]
  },
  {
   "cell_type": "markdown",
   "metadata": {},
   "source": [
    "#### Data Quality issue spotted (Missing categoryCode values)"
   ]
  },
  {
   "cell_type": "code",
   "execution_count": 116,
   "metadata": {},
   "outputs": [
    {
     "data": {
      "text/html": [
       "<div>\n",
       "<style scoped>\n",
       "    .dataframe tbody tr th:only-of-type {\n",
       "        vertical-align: middle;\n",
       "    }\n",
       "\n",
       "    .dataframe tbody tr th {\n",
       "        vertical-align: top;\n",
       "    }\n",
       "\n",
       "    .dataframe thead th {\n",
       "        text-align: right;\n",
       "    }\n",
       "</style>\n",
       "<table border=\"1\" class=\"dataframe\">\n",
       "  <thead>\n",
       "    <tr style=\"text-align: right;\">\n",
       "      <th></th>\n",
       "      <th>category</th>\n",
       "      <th>categoryCode_missing</th>\n",
       "      <th>categoryCode_present</th>\n",
       "    </tr>\n",
       "  </thead>\n",
       "  <tbody>\n",
       "    <tr>\n",
       "      <th>16</th>\n",
       "      <td>Personal Care</td>\n",
       "      <td>NaN</td>\n",
       "      <td>PERSONAL_CARE</td>\n",
       "    </tr>\n",
       "    <tr>\n",
       "      <th>15</th>\n",
       "      <td>Magazines</td>\n",
       "      <td>NaN</td>\n",
       "      <td>MAGAZINES</td>\n",
       "    </tr>\n",
       "    <tr>\n",
       "      <th>13</th>\n",
       "      <td>Health &amp; Wellness</td>\n",
       "      <td>NaN</td>\n",
       "      <td>HEALTHY_AND_WELLNESS</td>\n",
       "    </tr>\n",
       "    <tr>\n",
       "      <th>12</th>\n",
       "      <td>Grocery</td>\n",
       "      <td>NaN</td>\n",
       "      <td>GROCERY</td>\n",
       "    </tr>\n",
       "    <tr>\n",
       "      <th>11</th>\n",
       "      <td>Frozen</td>\n",
       "      <td>NaN</td>\n",
       "      <td>FROZEN</td>\n",
       "    </tr>\n",
       "    <tr>\n",
       "      <th>5</th>\n",
       "      <td>Beverages</td>\n",
       "      <td>NaN</td>\n",
       "      <td>BEVERAGES</td>\n",
       "    </tr>\n",
       "    <tr>\n",
       "      <th>4</th>\n",
       "      <td>Beer Wine Spirits</td>\n",
       "      <td>NaN</td>\n",
       "      <td>BEER_WINE_SPIRITS</td>\n",
       "    </tr>\n",
       "    <tr>\n",
       "      <th>1</th>\n",
       "      <td>Baking</td>\n",
       "      <td>NaN</td>\n",
       "      <td>BAKING</td>\n",
       "    </tr>\n",
       "    <tr>\n",
       "      <th>0</th>\n",
       "      <td>Baby</td>\n",
       "      <td>NaN</td>\n",
       "      <td>BABY</td>\n",
       "    </tr>\n",
       "  </tbody>\n",
       "</table>\n",
       "</div>"
      ],
      "text/plain": [
       "             category categoryCode_missing  categoryCode_present\n",
       "16      Personal Care                  NaN         PERSONAL_CARE\n",
       "15          Magazines                  NaN             MAGAZINES\n",
       "13  Health & Wellness                  NaN  HEALTHY_AND_WELLNESS\n",
       "12            Grocery                  NaN               GROCERY\n",
       "11             Frozen                  NaN                FROZEN\n",
       "5           Beverages                  NaN             BEVERAGES\n",
       "4   Beer Wine Spirits                  NaN     BEER_WINE_SPIRITS\n",
       "1              Baking                  NaN                BAKING\n",
       "0                Baby                  NaN                  BABY"
      ]
     },
     "execution_count": 116,
     "metadata": {},
     "output_type": "execute_result"
    }
   ],
   "source": [
    "## Understanding why categoryCode is missing given category.\n",
    "## Later checking if missing categoryCode values are missing for all the respective categories\n",
    "\n",
    "categoryCode_missing_brands = brands_df[(~brands_df['category'].isna()) & (brands_df['categoryCode'].isna())]\\\n",
    "    [['category','categoryCode']].drop_duplicates().sort_values(by='category')\n",
    "categoryCode_missing_brands\n",
    "\n",
    "categoryCode_present_brands = brands_df[(~brands_df['category'].isna()) & (~brands_df['categoryCode'].isna())]\\\n",
    "    [['category','categoryCode']].drop_duplicates().sort_values(by='category')\n",
    "\n",
    "categoryCode_missing_brands.merge(categoryCode_present_brands, \\\n",
    "                                how = 'left', suffixes=('_missing', '_present'),\\\n",
    "                                on = 'category').sort_values(by = 'categoryCode_present',ascending=False).head(9)"
   ]
  },
  {
   "cell_type": "markdown",
   "metadata": {},
   "source": [
    "#### Data Quality Issue spotted.\n",
    "The table above reveals that for certain categories, the categoryCode is missing in some instances, while it is properly filled for the same category in other records. This inconsistency highlights a data quality issue where categoryCode has not been filled appropriately, despite having clear information on how it should be completed."
   ]
  },
  {
   "cell_type": "markdown",
   "metadata": {},
   "source": [
    "#### Data Quality Issue spotted (Missing brandCodes)"
   ]
  },
  {
   "cell_type": "markdown",
   "metadata": {},
   "source": [
    "23% of the brandCodes are missing. This is a huge Data Quality issue as 'brandCode' is going to play a key role in connecting tables (connecting rewards_Receipts table in this project). The missing values need to be imputed appropriately. The way the brandCode information is entered could be further investigated to ensure completeness."
   ]
  },
  {
   "cell_type": "code",
   "execution_count": 117,
   "metadata": {},
   "outputs": [
    {
     "data": {
      "text/html": [
       "<div>\n",
       "<style scoped>\n",
       "    .dataframe tbody tr th:only-of-type {\n",
       "        vertical-align: middle;\n",
       "    }\n",
       "\n",
       "    .dataframe tbody tr th {\n",
       "        vertical-align: top;\n",
       "    }\n",
       "\n",
       "    .dataframe thead th {\n",
       "        text-align: right;\n",
       "    }\n",
       "</style>\n",
       "<table border=\"1\" class=\"dataframe\">\n",
       "  <thead>\n",
       "    <tr style=\"text-align: right;\">\n",
       "      <th></th>\n",
       "      <th>brandCode_missing</th>\n",
       "      <th>name</th>\n",
       "      <th>brandCode_present</th>\n",
       "    </tr>\n",
       "  </thead>\n",
       "  <tbody>\n",
       "    <tr>\n",
       "      <th>193</th>\n",
       "      <td>NaN</td>\n",
       "      <td>V8 Hydrate</td>\n",
       "      <td>V8 HYDRATE</td>\n",
       "    </tr>\n",
       "    <tr>\n",
       "      <th>173</th>\n",
       "      <td>NaN</td>\n",
       "      <td>Sierra Mist</td>\n",
       "      <td>SIERRA MIST</td>\n",
       "    </tr>\n",
       "    <tr>\n",
       "      <th>57</th>\n",
       "      <td>NaN</td>\n",
       "      <td>Diabetic Living Magazine</td>\n",
       "      <td>511111805298</td>\n",
       "    </tr>\n",
       "  </tbody>\n",
       "</table>\n",
       "</div>"
      ],
      "text/plain": [
       "    brandCode_missing                      name brandCode_present\n",
       "193               NaN                V8 Hydrate        V8 HYDRATE\n",
       "173               NaN               Sierra Mist       SIERRA MIST\n",
       "57                NaN  Diabetic Living Magazine      511111805298"
      ]
     },
     "execution_count": 117,
     "metadata": {},
     "output_type": "execute_result"
    }
   ],
   "source": [
    "## Understanding why brandCode is missing given brand_name.\n",
    "## Later checking if missing brandCode values are missing for all the respective brand_names\n",
    "\n",
    "brandCode_missing_brands = brands_df[(~brands_df['name'].isna()) & (brands_df['brandCode'].isna())]\\\n",
    "    [['brandCode','name']].drop_duplicates().sort_values(by='name')\n",
    "brandCode_missing_brands\n",
    "\n",
    "brandCode_present_brands = brands_df[(~brands_df['name'].isna()) & (~brands_df['brandCode'].isna())]\\\n",
    "    [['brandCode','name']].drop_duplicates().sort_values(by='name')\n",
    "\n",
    "brandCode_missing_brands.merge(brandCode_present_brands, \\\n",
    "                                how = 'left', suffixes=('_missing', '_present'),\\\n",
    "                                on = 'name').sort_values(by = 'brandCode_present',ascending=False).head(3)"
   ]
  },
  {
   "cell_type": "markdown",
   "metadata": {},
   "source": [
    "#### Data Quality Issue spotted.\n",
    "The table above reveals that for certain brands, the brandCode is missing in some instances, while it is properly filled for the same brand in other records. This inconsistency highlights a data quality issue where brandCode has not been filled appropriately, despite having clear information on how it should be completed."
   ]
  },
  {
   "cell_type": "markdown",
   "metadata": {},
   "source": [
    "Missing top_brand information can be flagged as a mild Data Quality Issue. A third category, such as ‘undecided,’ could be introduced to handle these cases."
   ]
  },
  {
   "cell_type": "markdown",
   "metadata": {},
   "source": [
    "#### Consistent Data formatting"
   ]
  },
  {
   "cell_type": "code",
   "execution_count": 118,
   "metadata": {},
   "outputs": [
    {
     "data": {
      "text/plain": [
       "barcode          int64\n",
       "category        object\n",
       "categoryCode    object\n",
       "name            object\n",
       "topBrand        object\n",
       "brand_id        object\n",
       "cpg_id          object\n",
       "cpg_ref         object\n",
       "brandCode       object\n",
       "dtype: object"
      ]
     },
     "execution_count": 118,
     "metadata": {},
     "output_type": "execute_result"
    }
   ],
   "source": [
    "brands_df.dtypes"
   ]
  },
  {
   "cell_type": "markdown",
   "metadata": {},
   "source": [
    "For TopBrand The ideal data type would be Boolean. There is a need to update that."
   ]
  },
  {
   "cell_type": "code",
   "execution_count": 119,
   "metadata": {},
   "outputs": [
    {
     "data": {
      "text/plain": [
       "barcode           int64\n",
       "category         object\n",
       "categoryCode     object\n",
       "name             object\n",
       "topBrand        boolean\n",
       "brand_id         object\n",
       "cpg_id           object\n",
       "cpg_ref          object\n",
       "brandCode        object\n",
       "dtype: object"
      ]
     },
     "execution_count": 119,
     "metadata": {},
     "output_type": "execute_result"
    }
   ],
   "source": [
    "## Converting Top brand to Boolean\n",
    "\n",
    "brands_df['topBrand'] = brands_df['topBrand'].astype('boolean')\n",
    "brands_df.dtypes"
   ]
  },
  {
   "cell_type": "code",
   "execution_count": 120,
   "metadata": {},
   "outputs": [
    {
     "name": "stdout",
     "output_type": "stream",
     "text": [
      "All the barcodes are in consistent format -> 12 digits\n"
     ]
    }
   ],
   "source": [
    "## Verifying if the barcode is in consistent format -> 12 digit\n",
    "if brands_df[brands_df['barcode'].apply(lambda x: len(str(x))) != 12].empty:\n",
    "    print('All the barcodes are in consistent format -> 12 digits')\n",
    "else:\n",
    "    print('Barcodes is not in consistent format')\n",
    "    print(brands_df[brands_df['barcode'].apply(lambda x: len(str(x))) != 12]['barcode'])"
   ]
  },
  {
   "cell_type": "markdown",
   "metadata": {},
   "source": [
    "#### Data Quality Assessment for Receipts table"
   ]
  },
  {
   "cell_type": "markdown",
   "metadata": {},
   "source": [
    "#### Schema verification:\n"
   ]
  },
  {
   "cell_type": "code",
   "execution_count": 121,
   "metadata": {},
   "outputs": [
    {
     "data": {
      "text/plain": [
       "Index(['bonusPointsEarned', 'bonusPointsEarnedReason', 'pointsEarned',\n",
       "       'purchasedItemCount', 'rewardsReceiptItemList', 'rewardsReceiptStatus',\n",
       "       'totalSpent', 'userId', 'receipt_id', 'created_date_time',\n",
       "       'scanned_date_time', 'finished_date_time', 'modify_date_time',\n",
       "       'pointsAwarded_date_time', 'purchased_date_time'],\n",
       "      dtype='object')"
      ]
     },
     "execution_count": 121,
     "metadata": {},
     "output_type": "execute_result"
    }
   ],
   "source": [
    "receipts_df.columns"
   ]
  },
  {
   "cell_type": "code",
   "execution_count": 122,
   "metadata": {},
   "outputs": [
    {
     "data": {
      "text/html": [
       "<div>\n",
       "<style scoped>\n",
       "    .dataframe tbody tr th:only-of-type {\n",
       "        vertical-align: middle;\n",
       "    }\n",
       "\n",
       "    .dataframe tbody tr th {\n",
       "        vertical-align: top;\n",
       "    }\n",
       "\n",
       "    .dataframe thead th {\n",
       "        text-align: right;\n",
       "    }\n",
       "</style>\n",
       "<table border=\"1\" class=\"dataframe\">\n",
       "  <thead>\n",
       "    <tr style=\"text-align: right;\">\n",
       "      <th></th>\n",
       "      <th>bonusPointsEarned</th>\n",
       "      <th>bonusPointsEarnedReason</th>\n",
       "      <th>pointsEarned</th>\n",
       "      <th>purchasedItemCount</th>\n",
       "      <th>rewardsReceiptItemList</th>\n",
       "      <th>rewardsReceiptStatus</th>\n",
       "      <th>totalSpent</th>\n",
       "      <th>userId</th>\n",
       "      <th>receipt_id</th>\n",
       "      <th>created_date_time</th>\n",
       "      <th>scanned_date_time</th>\n",
       "      <th>finished_date_time</th>\n",
       "      <th>modify_date_time</th>\n",
       "      <th>pointsAwarded_date_time</th>\n",
       "      <th>purchased_date_time</th>\n",
       "    </tr>\n",
       "  </thead>\n",
       "  <tbody>\n",
       "    <tr>\n",
       "      <th>0</th>\n",
       "      <td>500.0</td>\n",
       "      <td>Receipt number 2 completed, bonus point schedu...</td>\n",
       "      <td>500.0</td>\n",
       "      <td>5.0</td>\n",
       "      <td>[{'barcode': '4011', 'description': 'ITEM NOT ...</td>\n",
       "      <td>FINISHED</td>\n",
       "      <td>26.0</td>\n",
       "      <td>5ff1e1eacfcf6c399c274ae6</td>\n",
       "      <td>5ff1e1eb0a720f0523000575</td>\n",
       "      <td>2021-01-03 09:25:31.000</td>\n",
       "      <td>2021-01-03 09:25:31.000</td>\n",
       "      <td>2021-01-03 09:25:31.000</td>\n",
       "      <td>2021-01-03 09:25:36.000</td>\n",
       "      <td>2021-01-03 09:25:31</td>\n",
       "      <td>2021-01-02 18:00:00</td>\n",
       "    </tr>\n",
       "    <tr>\n",
       "      <th>1</th>\n",
       "      <td>150.0</td>\n",
       "      <td>Receipt number 5 completed, bonus point schedu...</td>\n",
       "      <td>150.0</td>\n",
       "      <td>2.0</td>\n",
       "      <td>[{'barcode': '4011', 'description': 'ITEM NOT ...</td>\n",
       "      <td>FINISHED</td>\n",
       "      <td>11.0</td>\n",
       "      <td>5ff1e194b6a9d73a3a9f1052</td>\n",
       "      <td>5ff1e1bb0a720f052300056b</td>\n",
       "      <td>2021-01-03 09:24:43.000</td>\n",
       "      <td>2021-01-03 09:24:43.000</td>\n",
       "      <td>2021-01-03 09:24:43.000</td>\n",
       "      <td>2021-01-03 09:24:48.000</td>\n",
       "      <td>2021-01-03 09:24:43</td>\n",
       "      <td>2021-01-02 09:24:43</td>\n",
       "    </tr>\n",
       "  </tbody>\n",
       "</table>\n",
       "</div>"
      ],
      "text/plain": [
       "   bonusPointsEarned                            bonusPointsEarnedReason  \\\n",
       "0              500.0  Receipt number 2 completed, bonus point schedu...   \n",
       "1              150.0  Receipt number 5 completed, bonus point schedu...   \n",
       "\n",
       "   pointsEarned  purchasedItemCount  \\\n",
       "0         500.0                 5.0   \n",
       "1         150.0                 2.0   \n",
       "\n",
       "                              rewardsReceiptItemList rewardsReceiptStatus  \\\n",
       "0  [{'barcode': '4011', 'description': 'ITEM NOT ...             FINISHED   \n",
       "1  [{'barcode': '4011', 'description': 'ITEM NOT ...             FINISHED   \n",
       "\n",
       "   totalSpent                    userId                receipt_id  \\\n",
       "0        26.0  5ff1e1eacfcf6c399c274ae6  5ff1e1eb0a720f0523000575   \n",
       "1        11.0  5ff1e194b6a9d73a3a9f1052  5ff1e1bb0a720f052300056b   \n",
       "\n",
       "         created_date_time        scanned_date_time       finished_date_time  \\\n",
       "0  2021-01-03 09:25:31.000  2021-01-03 09:25:31.000  2021-01-03 09:25:31.000   \n",
       "1  2021-01-03 09:24:43.000  2021-01-03 09:24:43.000  2021-01-03 09:24:43.000   \n",
       "\n",
       "          modify_date_time pointsAwarded_date_time  purchased_date_time  \n",
       "0  2021-01-03 09:25:36.000     2021-01-03 09:25:31  2021-01-02 18:00:00  \n",
       "1  2021-01-03 09:24:48.000     2021-01-03 09:24:43  2021-01-02 09:24:43  "
      ]
     },
     "execution_count": 122,
     "metadata": {},
     "output_type": "execute_result"
    }
   ],
   "source": [
    "## Overview of the Receipts table\n",
    "receipts_df.head(2)"
   ]
  },
  {
   "cell_type": "code",
   "execution_count": 123,
   "metadata": {},
   "outputs": [
    {
     "name": "stdout",
     "output_type": "stream",
     "text": [
      "No Duplicate entries in Receipts table\n",
      "receipt_id is unique\n",
      "receipt_id is not missing\n"
     ]
    }
   ],
   "source": [
    "## Checking for duplicate entries in receipts table\n",
    "if receipts_df[receipts_df.duplicated()].shape[0] == 0:\n",
    "    print('No Duplicate entries in Receipts table')\n",
    "else:\n",
    "    print('Duplicate entries in Brands table')\n",
    "## Checking if receipt_id is unique\n",
    "if receipts_df['receipt_id'].is_unique:\n",
    "    print('receipt_id is unique')\n",
    "else:\n",
    "    print('receipt_id is not unique')\n",
    "## Checking if there are any missing values in brands_id\n",
    "if receipts_df['receipt_id'].isna().sum() == 0:\n",
    "    print('receipt_id is not missing')\n",
    "else:\n",
    "    print('receipt_id is missing')"
   ]
  },
  {
   "cell_type": "markdown",
   "metadata": {},
   "source": [
    "Standard Data Quality checks are passed, concering the primary key that is receipt_id."
   ]
  },
  {
   "cell_type": "markdown",
   "metadata": {},
   "source": [
    "#### Missing Value Checks"
   ]
  },
  {
   "cell_type": "code",
   "execution_count": 124,
   "metadata": {},
   "outputs": [
    {
     "data": {
      "text/plain": [
       "bonusPointsEarned          51.385165\n",
       "bonusPointsEarnedReason    51.385165\n",
       "pointsEarned               45.576408\n",
       "purchasedItemCount         43.252904\n",
       "rewardsReceiptItemList     39.320822\n",
       "rewardsReceiptStatus        0.000000\n",
       "totalSpent                 38.873995\n",
       "userId                      0.000000\n",
       "receipt_id                  0.000000\n",
       "created_date_time           0.000000\n",
       "scanned_date_time           0.000000\n",
       "finished_date_time         49.240393\n",
       "modify_date_time            0.000000\n",
       "pointsAwarded_date_time    52.010724\n",
       "purchased_date_time        40.035746\n",
       "dtype: float64"
      ]
     },
     "execution_count": 124,
     "metadata": {},
     "output_type": "execute_result"
    }
   ],
   "source": [
    "## Missing value percentage for Receipts table\n",
    "\n",
    "receipts_df.isna().sum()*100/receipts_df.shape[0]"
   ]
  },
  {
   "cell_type": "code",
   "execution_count": 125,
   "metadata": {},
   "outputs": [
    {
     "data": {
      "text/html": [
       "<div>\n",
       "<style scoped>\n",
       "    .dataframe tbody tr th:only-of-type {\n",
       "        vertical-align: middle;\n",
       "    }\n",
       "\n",
       "    .dataframe tbody tr th {\n",
       "        vertical-align: top;\n",
       "    }\n",
       "\n",
       "    .dataframe thead th {\n",
       "        text-align: right;\n",
       "    }\n",
       "</style>\n",
       "<table border=\"1\" class=\"dataframe\">\n",
       "  <thead>\n",
       "    <tr style=\"text-align: right;\">\n",
       "      <th></th>\n",
       "      <th>Missing_Percentage</th>\n",
       "    </tr>\n",
       "    <tr>\n",
       "      <th>rewardsReceiptStatus</th>\n",
       "      <th></th>\n",
       "    </tr>\n",
       "  </thead>\n",
       "  <tbody>\n",
       "    <tr>\n",
       "      <th>SUBMITTED</th>\n",
       "      <td>85.098039</td>\n",
       "    </tr>\n",
       "    <tr>\n",
       "      <th>PENDING</th>\n",
       "      <td>9.803922</td>\n",
       "    </tr>\n",
       "    <tr>\n",
       "      <th>FLAGGED</th>\n",
       "      <td>2.549020</td>\n",
       "    </tr>\n",
       "    <tr>\n",
       "      <th>REJECTED</th>\n",
       "      <td>2.549020</td>\n",
       "    </tr>\n",
       "  </tbody>\n",
       "</table>\n",
       "</div>"
      ],
      "text/plain": [
       "                      Missing_Percentage\n",
       "rewardsReceiptStatus                    \n",
       "SUBMITTED                      85.098039\n",
       "PENDING                         9.803922\n",
       "FLAGGED                         2.549020\n",
       "REJECTED                        2.549020"
      ]
     },
     "execution_count": 125,
     "metadata": {},
     "output_type": "execute_result"
    }
   ],
   "source": [
    "#### Understanding if the missing points are related to the rewards_status, as it could be that for status being not finished, the rewards points are missing.\n",
    "missing_points_df = receipts_df[receipts_df['pointsEarned'].isna()]\n",
    "missing_points_percent_count = missing_points_df\\\n",
    "    .groupby('rewardsReceiptStatus').agg({'rewardsReceiptStatus':'size'})\\\n",
    "    .rename(columns = {'rewardsReceiptStatus':'Missing_Percentage'})\\\n",
    "    .sort_values(by = 'Missing_Percentage',ascending = False)*100/missing_points_df.shape[0]\n",
    "missing_points_percent_count"
   ]
  },
  {
   "cell_type": "code",
   "execution_count": 126,
   "metadata": {},
   "outputs": [
    {
     "data": {
      "text/plain": [
       "array(['FINISHED', 'REJECTED', 'FLAGGED', 'SUBMITTED', 'PENDING'],\n",
       "      dtype=object)"
      ]
     },
     "execution_count": 126,
     "metadata": {},
     "output_type": "execute_result"
    }
   ],
   "source": [
    "## Unique values of the Status\n",
    "receipts_df['rewardsReceiptStatus'].unique()"
   ]
  },
  {
   "cell_type": "markdown",
   "metadata": {},
   "source": [
    "The two cells above show that points are missing for entries with a status of ‘NOT FINISHED,’ which makes sense since it likely indicates the records are still awaiting points. Therefore, I don’t consider missing points/bonusPoints/bonusPointsEarnedReason a serious data quality issue."
   ]
  },
  {
   "cell_type": "code",
   "execution_count": 127,
   "metadata": {},
   "outputs": [
    {
     "data": {
      "text/html": [
       "<div>\n",
       "<style scoped>\n",
       "    .dataframe tbody tr th:only-of-type {\n",
       "        vertical-align: middle;\n",
       "    }\n",
       "\n",
       "    .dataframe tbody tr th {\n",
       "        vertical-align: top;\n",
       "    }\n",
       "\n",
       "    .dataframe thead th {\n",
       "        text-align: right;\n",
       "    }\n",
       "</style>\n",
       "<table border=\"1\" class=\"dataframe\">\n",
       "  <thead>\n",
       "    <tr style=\"text-align: right;\">\n",
       "      <th></th>\n",
       "      <th>bonusPointsEarned</th>\n",
       "      <th>pointsEarned</th>\n",
       "      <th>purchasedItemCount</th>\n",
       "      <th>totalSpent</th>\n",
       "    </tr>\n",
       "  </thead>\n",
       "  <tbody>\n",
       "    <tr>\n",
       "      <th>count</th>\n",
       "      <td>2.000000</td>\n",
       "      <td>2.000000</td>\n",
       "      <td>5.0</td>\n",
       "      <td>5.0</td>\n",
       "    </tr>\n",
       "    <tr>\n",
       "      <th>mean</th>\n",
       "      <td>375.000000</td>\n",
       "      <td>375.000000</td>\n",
       "      <td>0.0</td>\n",
       "      <td>0.0</td>\n",
       "    </tr>\n",
       "    <tr>\n",
       "      <th>std</th>\n",
       "      <td>176.776695</td>\n",
       "      <td>176.776695</td>\n",
       "      <td>0.0</td>\n",
       "      <td>0.0</td>\n",
       "    </tr>\n",
       "    <tr>\n",
       "      <th>min</th>\n",
       "      <td>250.000000</td>\n",
       "      <td>250.000000</td>\n",
       "      <td>0.0</td>\n",
       "      <td>0.0</td>\n",
       "    </tr>\n",
       "    <tr>\n",
       "      <th>25%</th>\n",
       "      <td>312.500000</td>\n",
       "      <td>312.500000</td>\n",
       "      <td>0.0</td>\n",
       "      <td>0.0</td>\n",
       "    </tr>\n",
       "    <tr>\n",
       "      <th>50%</th>\n",
       "      <td>375.000000</td>\n",
       "      <td>375.000000</td>\n",
       "      <td>0.0</td>\n",
       "      <td>0.0</td>\n",
       "    </tr>\n",
       "    <tr>\n",
       "      <th>75%</th>\n",
       "      <td>437.500000</td>\n",
       "      <td>437.500000</td>\n",
       "      <td>0.0</td>\n",
       "      <td>0.0</td>\n",
       "    </tr>\n",
       "    <tr>\n",
       "      <th>max</th>\n",
       "      <td>500.000000</td>\n",
       "      <td>500.000000</td>\n",
       "      <td>0.0</td>\n",
       "      <td>0.0</td>\n",
       "    </tr>\n",
       "  </tbody>\n",
       "</table>\n",
       "</div>"
      ],
      "text/plain": [
       "       bonusPointsEarned  pointsEarned  purchasedItemCount  totalSpent\n",
       "count           2.000000      2.000000                 5.0         5.0\n",
       "mean          375.000000    375.000000                 0.0         0.0\n",
       "std           176.776695    176.776695                 0.0         0.0\n",
       "min           250.000000    250.000000                 0.0         0.0\n",
       "25%           312.500000    312.500000                 0.0         0.0\n",
       "50%           375.000000    375.000000                 0.0         0.0\n",
       "75%           437.500000    437.500000                 0.0         0.0\n",
       "max           500.000000    500.000000                 0.0         0.0"
      ]
     },
     "execution_count": 127,
     "metadata": {},
     "output_type": "execute_result"
    }
   ],
   "source": [
    "##Checking rewards item list that are empty\n",
    "\n",
    "missing_items = receipts_df[receipts_df['rewardsReceiptItemList'].isna()]\n",
    "missing_items.describe()"
   ]
  },
  {
   "cell_type": "code",
   "execution_count": 128,
   "metadata": {},
   "outputs": [
    {
     "name": "stdout",
     "output_type": "stream",
     "text": [
      "<class 'pandas.core.frame.DataFrame'>\n",
      "Int64Index: 440 entries, 71 to 1118\n",
      "Data columns (total 15 columns):\n",
      " #   Column                   Non-Null Count  Dtype  \n",
      "---  ------                   --------------  -----  \n",
      " 0   bonusPointsEarned        2 non-null      float64\n",
      " 1   bonusPointsEarnedReason  2 non-null      object \n",
      " 2   pointsEarned             2 non-null      float64\n",
      " 3   purchasedItemCount       5 non-null      float64\n",
      " 4   rewardsReceiptItemList   0 non-null      object \n",
      " 5   rewardsReceiptStatus     440 non-null    object \n",
      " 6   totalSpent               5 non-null      float64\n",
      " 7   userId                   440 non-null    object \n",
      " 8   receipt_id               440 non-null    object \n",
      " 9   created_date_time        440 non-null    object \n",
      " 10  scanned_date_time        440 non-null    object \n",
      " 11  finished_date_time       3 non-null      object \n",
      " 12  modify_date_time         440 non-null    object \n",
      " 13  pointsAwarded_date_time  2 non-null      object \n",
      " 14  purchased_date_time      3 non-null      object \n",
      "dtypes: float64(4), object(11)\n",
      "memory usage: 55.0+ KB\n"
     ]
    }
   ],
   "source": [
    "## Understanding how the missing values distributed across other columns when items are missing\n",
    "missing_items.info()"
   ]
  },
  {
   "cell_type": "markdown",
   "metadata": {},
   "source": [
    "From the above information, it’s clear that the receipt scanning algorithm is not capturing the contents of some receipts. This could be due to illegible receipt content or technical issues with the computer vision algorithm. While I wouldn’t flag this as a major data quality issue, I would store this information and use it to notify users that their receipts couldn’t be scanned, prompting them to try again later."
   ]
  },
  {
   "cell_type": "markdown",
   "metadata": {},
   "source": [
    "#### Chronology of the Date variables check\n",
    "\n",
    "The expected order is as follows: first, the items are purchased (1), then the instance is created (2), followed by the contents being scanned (3), then finished (4), and finally modified (5)."
   ]
  },
  {
   "cell_type": "code",
   "execution_count": 129,
   "metadata": {},
   "outputs": [
    {
     "name": "stdout",
     "output_type": "stream",
     "text": [
      "Percentage of the Data not following the above mentioned chronological order = 1.1618\n"
     ]
    }
   ],
   "source": [
    "# Check if chronology is maintained across multiple columns\n",
    "chronology_issues = receipts_df[\n",
    "    (receipts_df['purchased_date_time'] > receipts_df['created_date_time']) |\n",
    "    (receipts_df['created_date_time'] > receipts_df['scanned_date_time']) |\n",
    "    (receipts_df['scanned_date_time'] > receipts_df['finished_date_time'])\n",
    "]\n",
    "# Display the Data percentage where chronology is not maintained\n",
    "print(f'Percentage of the Data not following the above mentioned chronological order \\\n",
    "= {round(100*chronology_issues.shape[0]/receipts_df.shape[0],4)}')"
   ]
  },
  {
   "cell_type": "markdown",
   "metadata": {},
   "source": [
    "#### Data Quality Issue spotted\n",
    "\n",
    "There’s a need for further investigation to understand why these chronological issues are occurring."
   ]
  },
  {
   "cell_type": "markdown",
   "metadata": {},
   "source": [
    "#### Checking if the users in the Receipts table are present in the Users table"
   ]
  },
  {
   "cell_type": "code",
   "execution_count": 130,
   "metadata": {},
   "outputs": [
    {
     "name": "stdout",
     "output_type": "stream",
     "text": [
      "Percentage of the Users not present in the Users table = 57.3643%\n"
     ]
    }
   ],
   "source": [
    "## checking for presence of the users present in the receipts table but not in the Users table\n",
    "percentage_of_users_not_in_users_table = 100*receipts_df[~receipts_df['userId']\\\n",
    "    .isin(users_df_no_duplicates['user_id'])].shape[0]/len(receipts_df['userId'].unique())\n",
    "\n",
    "print(f'Percentage of the Users not present in the Users table = {round(percentage_of_users_not_in_users_table,4)}%')\n"
   ]
  },
  {
   "cell_type": "code",
   "execution_count": 131,
   "metadata": {},
   "outputs": [
    {
     "name": "stdout",
     "output_type": "stream",
     "text": [
      "Percentage of the Users not present in the Users table = 45.3488%\n"
     ]
    }
   ],
   "source": [
    "## checking for presence of the users present in the receipts table but not in the Users table\n",
    "user_id_in_receipts_df = list(receipts_df['userId'].unique())\n",
    "user_id_in_users_df = list(users_df_no_duplicates['user_id'].unique())\n",
    "\n",
    "missing_user_id = [x for x in user_id_in_receipts_df if x not in user_id_in_users_df]\n",
    "percentage_of_users_not_in_users_table = 100*len(missing_user_id)/len(user_id_in_receipts_df)\n",
    "\n",
    "print(f'Percentage of the Users not present in the Users table = {round(percentage_of_users_not_in_users_table,4)}%')"
   ]
  },
  {
   "cell_type": "markdown",
   "metadata": {},
   "source": [
    "#### Data Quality Issue spotted\n",
    "It's expected that users who made purchases should appear in the Users table. 45.38% suggests that the Users table is not being refreshed in a timely manner, and consistency needs to be ensured."
   ]
  },
  {
   "cell_type": "markdown",
   "metadata": {},
   "source": [
    "#### Data Format Checks"
   ]
  },
  {
   "cell_type": "code",
   "execution_count": 132,
   "metadata": {},
   "outputs": [],
   "source": [
    "## Objects to date conversion:\n",
    "receipts_df['created_date_time'] = pd.to_datetime(receipts_df['created_date_time'], format='%Y-%m-%d %H:%M:%S.%f')\n",
    "receipts_df['scanned_date_time'] = pd.to_datetime(receipts_df['scanned_date_time'], format='%Y-%m-%d %H:%M:%S.%f')\n",
    "receipts_df['finished_date_time'] = pd.to_datetime(receipts_df['finished_date_time'], format='%Y-%m-%d %H:%M:%S.%f')\n",
    "receipts_df['modify_date_time'] = pd.to_datetime(receipts_df['modify_date_time'], format='%Y-%m-%d %H:%M:%S.%f')\n",
    "receipts_df['pointsAwarded_date_time'] = pd.to_datetime(receipts_df['pointsAwarded_date_time'], format='%Y-%m-%d %H:%M:%S.%f')\n",
    "receipts_df['purchased_date_time'] = pd.to_datetime(receipts_df['purchased_date_time'], format='%Y-%m-%d %H:%M:%S.%f')"
   ]
  },
  {
   "cell_type": "markdown",
   "metadata": {},
   "source": [
    "#### Data Range Checks"
   ]
  },
  {
   "cell_type": "code",
   "execution_count": 133,
   "metadata": {},
   "outputs": [
    {
     "data": {
      "text/html": [
       "<div>\n",
       "<style scoped>\n",
       "    .dataframe tbody tr th:only-of-type {\n",
       "        vertical-align: middle;\n",
       "    }\n",
       "\n",
       "    .dataframe tbody tr th {\n",
       "        vertical-align: top;\n",
       "    }\n",
       "\n",
       "    .dataframe thead th {\n",
       "        text-align: right;\n",
       "    }\n",
       "</style>\n",
       "<table border=\"1\" class=\"dataframe\">\n",
       "  <thead>\n",
       "    <tr style=\"text-align: right;\">\n",
       "      <th></th>\n",
       "      <th>bonusPointsEarned</th>\n",
       "      <th>pointsEarned</th>\n",
       "      <th>purchasedItemCount</th>\n",
       "      <th>totalSpent</th>\n",
       "    </tr>\n",
       "  </thead>\n",
       "  <tbody>\n",
       "    <tr>\n",
       "      <th>count</th>\n",
       "      <td>544.000000</td>\n",
       "      <td>609.000000</td>\n",
       "      <td>635.00000</td>\n",
       "      <td>684.000000</td>\n",
       "    </tr>\n",
       "    <tr>\n",
       "      <th>mean</th>\n",
       "      <td>238.893382</td>\n",
       "      <td>585.962890</td>\n",
       "      <td>14.75748</td>\n",
       "      <td>77.796857</td>\n",
       "    </tr>\n",
       "    <tr>\n",
       "      <th>std</th>\n",
       "      <td>299.091731</td>\n",
       "      <td>1357.166947</td>\n",
       "      <td>61.13424</td>\n",
       "      <td>347.110349</td>\n",
       "    </tr>\n",
       "    <tr>\n",
       "      <th>min</th>\n",
       "      <td>5.000000</td>\n",
       "      <td>0.000000</td>\n",
       "      <td>0.00000</td>\n",
       "      <td>0.000000</td>\n",
       "    </tr>\n",
       "    <tr>\n",
       "      <th>25%</th>\n",
       "      <td>5.000000</td>\n",
       "      <td>5.000000</td>\n",
       "      <td>1.00000</td>\n",
       "      <td>1.000000</td>\n",
       "    </tr>\n",
       "    <tr>\n",
       "      <th>50%</th>\n",
       "      <td>45.000000</td>\n",
       "      <td>150.000000</td>\n",
       "      <td>2.00000</td>\n",
       "      <td>18.200000</td>\n",
       "    </tr>\n",
       "    <tr>\n",
       "      <th>75%</th>\n",
       "      <td>500.000000</td>\n",
       "      <td>750.000000</td>\n",
       "      <td>5.00000</td>\n",
       "      <td>34.960000</td>\n",
       "    </tr>\n",
       "    <tr>\n",
       "      <th>max</th>\n",
       "      <td>750.000000</td>\n",
       "      <td>10199.800000</td>\n",
       "      <td>689.00000</td>\n",
       "      <td>4721.950000</td>\n",
       "    </tr>\n",
       "  </tbody>\n",
       "</table>\n",
       "</div>"
      ],
      "text/plain": [
       "       bonusPointsEarned  pointsEarned  purchasedItemCount   totalSpent\n",
       "count         544.000000    609.000000           635.00000   684.000000\n",
       "mean          238.893382    585.962890            14.75748    77.796857\n",
       "std           299.091731   1357.166947            61.13424   347.110349\n",
       "min             5.000000      0.000000             0.00000     0.000000\n",
       "25%             5.000000      5.000000             1.00000     1.000000\n",
       "50%            45.000000    150.000000             2.00000    18.200000\n",
       "75%           500.000000    750.000000             5.00000    34.960000\n",
       "max           750.000000  10199.800000           689.00000  4721.950000"
      ]
     },
     "execution_count": 133,
     "metadata": {},
     "output_type": "execute_result"
    }
   ],
   "source": [
    "## Description of numerical variables in receipts table\n",
    "receipts_df.describe()"
   ]
  },
  {
   "cell_type": "markdown",
   "metadata": {},
   "source": [
    "From the table above, we can see that the median is much smaller than the average, indicating a right-skewed distribution. This suggests the presence of outliers in the data. While outliers don't necessarily signal a major data quality issue, they could be flagged as a mild concern. These outliers should be monitored closely for any signs of fraudulent scans or unusual patterns, but they don’t indicate a serious data quality problem on their own."
   ]
  },
  {
   "cell_type": "code",
   "execution_count": 134,
   "metadata": {},
   "outputs": [
    {
     "name": "stdout",
     "output_type": "stream",
     "text": [
      "Check passed for created_date_time\n",
      "Check passed for scanned_date_time\n",
      "Check passed for finished_date_time\n",
      "Check passed for modify_date_time\n",
      "Check passed for pointsAwarded_date_time\n",
      "Check passed for purchased_date_time\n"
     ]
    }
   ],
   "source": [
    "## Date range checks for date type columns\n",
    "## choosing a 100 year valid period starting from 2000\n",
    "start_date = pd.to_datetime('2000-01-01 00:00:00.000')\n",
    "end_date = pd.to_datetime('2100-12-31 00:00:00.000')\n",
    "\n",
    "for column in ['created_date_time','scanned_date_time','finished_date_time','modify_date_time','pointsAwarded_date_time','purchased_date_time']:\n",
    "    if receipts_df[\\\n",
    "        (receipts_df[column] > end_date) \\\n",
    "            | (receipts_df[column] < start_date)].shape[0] == 0:\n",
    "        print(f'Check passed for {column}')\n",
    "    else:\n",
    "        print(f'Check failed for {column}')"
   ]
  },
  {
   "cell_type": "markdown",
   "metadata": {},
   "source": [
    "#### Data Quality Assessment - Rewards_Receipts table:"
   ]
  },
  {
   "cell_type": "code",
   "execution_count": 135,
   "metadata": {},
   "outputs": [
    {
     "data": {
      "text/plain": [
       "Index(['barcode', 'description', 'finalPrice', 'itemPrice', 'needsFetchReview',\n",
       "       'partnerItemId', 'preventTargetGapPoints', 'quantityPurchased',\n",
       "       'userFlaggedBarcode', 'userFlaggedNewItem', 'userFlaggedPrice',\n",
       "       'userFlaggedQuantity', 'needsFetchReviewReason',\n",
       "       'pointsNotAwardedReason', 'pointsPayerId', 'rewardsGroup',\n",
       "       'rewardsProductPartnerId', 'userFlaggedDescription',\n",
       "       'originalMetaBriteBarcode', 'originalMetaBriteDescription', 'brandCode',\n",
       "       'competitorRewardsGroup', 'discountedItemPrice',\n",
       "       'originalReceiptItemText', 'itemNumber',\n",
       "       'originalMetaBriteQuantityPurchased', 'pointsEarned', 'targetPrice',\n",
       "       'competitiveProduct', 'originalFinalPrice',\n",
       "       'originalMetaBriteItemPrice', 'deleted', 'priceAfterCoupon',\n",
       "       'metabriteCampaignId', 'receipt_id'],\n",
       "      dtype='object')"
      ]
     },
     "execution_count": 135,
     "metadata": {},
     "output_type": "execute_result"
    }
   ],
   "source": [
    "## Schema verification\n",
    "rewards_receipts_df.columns"
   ]
  },
  {
   "cell_type": "markdown",
   "metadata": {},
   "source": [
    "#### Standard Data Quality Checks:"
   ]
  },
  {
   "cell_type": "code",
   "execution_count": 136,
   "metadata": {},
   "outputs": [
    {
     "name": "stdout",
     "output_type": "stream",
     "text": [
      "No Duplicate entries in Rewards_Receipts table\n",
      "receipt_id and partnerItemId pair is unique\n",
      "receipt_id and partnerItemId pair is not missing\n"
     ]
    }
   ],
   "source": [
    "## Checking for duplicate entries in rewards_receipts table\n",
    "if rewards_receipts_df[rewards_receipts_df.duplicated()].shape[0] == 0:\n",
    "    print('No Duplicate entries in Rewards_Receipts table')\n",
    "else:\n",
    "    print('Duplicate entries in rewards_receipts table')\n",
    "## Checking if receipt_id is unique\n",
    "if rewards_receipts_df[['receipt_id','partnerItemId']].drop_duplicates().shape[0] == rewards_receipts_df.shape[0]:\n",
    "    print('receipt_id and partnerItemId pair is unique')\n",
    "else:\n",
    "    print('receipt_id and partnerItemId pair is not unique')\n",
    "## Checking if there are any missing values in brands_id\n",
    "if rewards_receipts_df[['receipt_id','partnerItemId']].isna().sum().sum() == 0:\n",
    "    print('receipt_id and partnerItemId pair is not missing')\n",
    "else:\n",
    "    print('receipt_id and partnerItemId pair is missing')"
   ]
  },
  {
   "cell_type": "markdown",
   "metadata": {},
   "source": [
    "#### Missing Value Checks"
   ]
  },
  {
   "cell_type": "code",
   "execution_count": 137,
   "metadata": {},
   "outputs": [
    {
     "data": {
      "text/plain": [
       "barcode                               3851\n",
       "description                            381\n",
       "finalPrice                             174\n",
       "itemPrice                              174\n",
       "needsFetchReview                      6128\n",
       "partnerItemId                            0\n",
       "preventTargetGapPoints                6583\n",
       "quantityPurchased                      174\n",
       "userFlaggedBarcode                    6604\n",
       "userFlaggedNewItem                    6618\n",
       "userFlaggedPrice                      6642\n",
       "userFlaggedQuantity                   6642\n",
       "needsFetchReviewReason                6722\n",
       "pointsNotAwardedReason                6601\n",
       "pointsPayerId                         5674\n",
       "rewardsGroup                          5210\n",
       "rewardsProductPartnerId               4672\n",
       "userFlaggedDescription                6787\n",
       "originalMetaBriteBarcode              6917\n",
       "originalMetaBriteDescription          6931\n",
       "brandCode                             4341\n",
       "competitorRewardsGroup                6666\n",
       "discountedItemPrice                   1172\n",
       "originalReceiptItemText               1181\n",
       "itemNumber                            6788\n",
       "originalMetaBriteQuantityPurchased    6926\n",
       "pointsEarned                          6014\n",
       "targetPrice                           6563\n",
       "competitiveProduct                    6296\n",
       "originalFinalPrice                    6932\n",
       "originalMetaBriteItemPrice            6932\n",
       "deleted                               6932\n",
       "priceAfterCoupon                      5985\n",
       "metabriteCampaignId                   6078\n",
       "receipt_id                               0\n",
       "dtype: int64"
      ]
     },
     "execution_count": 137,
     "metadata": {},
     "output_type": "execute_result"
    }
   ],
   "source": [
    "## Missing Value Checks\n",
    "rewards_receipts_df.isna().sum()"
   ]
  },
  {
   "cell_type": "markdown",
   "metadata": {},
   "source": [
    "A significant portion of the data is missing, with some occurring in groups, such as the 'userflagged_' variables, which have many missing values. A reasonable assumption is that these missing values correspond to instances where the user did not flag anything. Similarly, missing values in pointsNotAwardedReason might indicate that points were awarded. Another similar group is OriginalMetaBrite. It should be reviewed whether it's valuable to retain such largely missing data, depending on the business use case. Further investigation is needed to determine the reason for these missing values. Since the foreign key used is brandCode, we can dig deeper to explore potential improvements."
   ]
  },
  {
   "cell_type": "markdown",
   "metadata": {},
   "source": [
    "#### Missing BrandCode values and possible imputation techniques"
   ]
  },
  {
   "cell_type": "markdown",
   "metadata": {},
   "source": [
    "First, we could verify if the chosen foreign key, brandCode, is more suitable than barcode for establishing the link between the rewards_receipts table and the brands table to understand the associated brands."
   ]
  },
  {
   "cell_type": "code",
   "execution_count": 138,
   "metadata": {},
   "outputs": [
    {
     "name": "stdout",
     "output_type": "stream",
     "text": [
      "Number of the barcodes present in both the tables = 16\n"
     ]
    }
   ],
   "source": [
    "## checking for presence of the barcodes present in the rewards_receipts table and in the brands table\n",
    "def convert_barcode(barcode):\n",
    "    try:\n",
    "        return int(barcode)\n",
    "    except:\n",
    "        return barcode\n",
    "\n",
    "barcode_in_rewards_receipts_df = list(rewards_receipts_df['barcode'].apply(convert_barcode).unique())\n",
    "barcode_in_brands_df = list(brands_df['barcode'].unique())\n",
    "\n",
    "barcode_present = [x for x in barcode_in_rewards_receipts_df if x in barcode_in_brands_df]\n",
    "print(f'Number of the barcodes present in both the tables = {len(barcode_present)}')"
   ]
  },
  {
   "cell_type": "code",
   "execution_count": 139,
   "metadata": {},
   "outputs": [
    {
     "name": "stdout",
     "output_type": "stream",
     "text": [
      "Number of the brandCodes present in both the tables = 42\n"
     ]
    }
   ],
   "source": [
    "## checking for presence of the brandCodes present in the rewards_receipts table and in the brands table\n",
    "brandCode_in_rewards_receipts_df = list(rewards_receipts_df['brandCode'].unique())\n",
    "brandCode_in_brands_df = list(brands_df['brandCode'].unique())\n",
    "\n",
    "brandCode_present = [x for x in brandCode_in_rewards_receipts_df if x in brandCode_in_brands_df]\n",
    "print(f'Number of the brandCodes present in both the tables = {len(brandCode_present)}')"
   ]
  },
  {
   "cell_type": "markdown",
   "metadata": {},
   "source": [
    "Since the intersection of brandCodes is greater than that of barcodes, it reinforces the decision to use brandCode as the foreign key over barcode."
   ]
  },
  {
   "cell_type": "markdown",
   "metadata": {},
   "source": [
    "Can the current intersection number of brandCodes be improved? I propose a union of two changes:\n",
    "\n",
    "1) The description field often contains brand information, particularly in the first word. Extracting that could serve as a potential imputation method for missing brandCodes in the rewards_receipts table.\n",
    "2) Impute missing brandCodes in the brands table using the brand's name."
   ]
  },
  {
   "cell_type": "code",
   "execution_count": 140,
   "metadata": {},
   "outputs": [],
   "source": [
    "## Imputing missing brandCode information with the first word of the item description\n",
    "\n",
    "rewards_receipts_df['description_first_word'] = rewards_receipts_df['description']\\\n",
    "    .apply(lambda x: x.split()[0].upper()\\\n",
    "            if pd.notna(x) else np.nan)\n",
    "rewards_copy = rewards_receipts_df.copy()\n",
    "rewards_copy['brandCode'] = rewards_copy['brandCode'].fillna(rewards_copy['description_first_word'])\n",
    "\n",
    "## Imputing missing brandCode information with the brand name in brands table\n",
    "def impute_brandcode(name):\n",
    "    if pd.notna(name):\n",
    "\n",
    "        if name.split()[0].upper() == 'TEST':\n",
    "            return name.upper()\n",
    "        else:\n",
    "            return name.split()[0].upper()\n",
    "    else:\n",
    "        return np.nan\n",
    "\n",
    "brands_df['name_first_word'] = brands_df['name']\\\n",
    "    .apply(impute_brandcode)\n",
    "brands_copy_df = brands_df.copy()\n",
    "brands_copy_df['brandCode'] = brands_copy_df['brandCode'].fillna(brands_copy_df['name_first_word'])"
   ]
  },
  {
   "cell_type": "code",
   "execution_count": 141,
   "metadata": {},
   "outputs": [
    {
     "data": {
      "text/html": [
       "<div>\n",
       "<style scoped>\n",
       "    .dataframe tbody tr th:only-of-type {\n",
       "        vertical-align: middle;\n",
       "    }\n",
       "\n",
       "    .dataframe tbody tr th {\n",
       "        vertical-align: top;\n",
       "    }\n",
       "\n",
       "    .dataframe thead th {\n",
       "        text-align: right;\n",
       "    }\n",
       "</style>\n",
       "<table border=\"1\" class=\"dataframe\">\n",
       "  <thead>\n",
       "    <tr style=\"text-align: right;\">\n",
       "      <th></th>\n",
       "      <th>description_first_word</th>\n",
       "      <th>description</th>\n",
       "    </tr>\n",
       "  </thead>\n",
       "  <tbody>\n",
       "    <tr>\n",
       "      <th>5991</th>\n",
       "      <td>BLACK</td>\n",
       "      <td>Black and White Easter Bunny 16 1/2\" tall by n...</td>\n",
       "    </tr>\n",
       "    <tr>\n",
       "      <th>3820</th>\n",
       "      <td>1OZ</td>\n",
       "      <td>1OZ DFP</td>\n",
       "    </tr>\n",
       "    <tr>\n",
       "      <th>159</th>\n",
       "      <td>TASSIMO</td>\n",
       "      <td>TASSIMO French Vanilla T-Discs, 80ct</td>\n",
       "    </tr>\n",
       "    <tr>\n",
       "      <th>4214</th>\n",
       "      <td>146</td>\n",
       "      <td>146 MSLRG RLNG</td>\n",
       "    </tr>\n",
       "    <tr>\n",
       "      <th>1261</th>\n",
       "      <td>SASSY</td>\n",
       "      <td>SASSY COW 1% MILK</td>\n",
       "    </tr>\n",
       "  </tbody>\n",
       "</table>\n",
       "</div>"
      ],
      "text/plain": [
       "     description_first_word                                        description\n",
       "5991                  BLACK  Black and White Easter Bunny 16 1/2\" tall by n...\n",
       "3820                    1OZ                                            1OZ DFP\n",
       "159                 TASSIMO               TASSIMO French Vanilla T-Discs, 80ct\n",
       "4214                    146                                     146 MSLRG RLNG\n",
       "1261                  SASSY                                  SASSY COW 1% MILK"
      ]
     },
     "execution_count": 141,
     "metadata": {},
     "output_type": "execute_result"
    }
   ],
   "source": [
    "## Rationale for the above chosen imputer for missing brandCode\n",
    "rewards_receipts_df[rewards_receipts_df['brandCode'].isna()][['description_first_word','description']].drop_duplicates().sample(5)"
   ]
  },
  {
   "cell_type": "code",
   "execution_count": 142,
   "metadata": {},
   "outputs": [
    {
     "data": {
      "text/html": [
       "<div>\n",
       "<style scoped>\n",
       "    .dataframe tbody tr th:only-of-type {\n",
       "        vertical-align: middle;\n",
       "    }\n",
       "\n",
       "    .dataframe tbody tr th {\n",
       "        vertical-align: top;\n",
       "    }\n",
       "\n",
       "    .dataframe thead th {\n",
       "        text-align: right;\n",
       "    }\n",
       "</style>\n",
       "<table border=\"1\" class=\"dataframe\">\n",
       "  <thead>\n",
       "    <tr style=\"text-align: right;\">\n",
       "      <th></th>\n",
       "      <th>count</th>\n",
       "    </tr>\n",
       "    <tr>\n",
       "      <th>description_first_word</th>\n",
       "      <th></th>\n",
       "    </tr>\n",
       "  </thead>\n",
       "  <tbody>\n",
       "    <tr>\n",
       "      <th>ITEM</th>\n",
       "      <td>173</td>\n",
       "    </tr>\n",
       "    <tr>\n",
       "      <th>PC</th>\n",
       "      <td>138</td>\n",
       "    </tr>\n",
       "    <tr>\n",
       "      <th>KLARBRUNN</th>\n",
       "      <td>128</td>\n",
       "    </tr>\n",
       "    <tr>\n",
       "      <th>HUGGIES</th>\n",
       "      <td>93</td>\n",
       "    </tr>\n",
       "    <tr>\n",
       "      <th>MILLER</th>\n",
       "      <td>90</td>\n",
       "    </tr>\n",
       "    <tr>\n",
       "      <th>HYV</th>\n",
       "      <td>84</td>\n",
       "    </tr>\n",
       "    <tr>\n",
       "      <th>COMP</th>\n",
       "      <td>74</td>\n",
       "    </tr>\n",
       "    <tr>\n",
       "      <th>OSCAR</th>\n",
       "      <td>73</td>\n",
       "    </tr>\n",
       "    <tr>\n",
       "      <th>LEGO</th>\n",
       "      <td>56</td>\n",
       "    </tr>\n",
       "    <tr>\n",
       "      <th>PLAY</th>\n",
       "      <td>55</td>\n",
       "    </tr>\n",
       "    <tr>\n",
       "      <th>EMIL'</th>\n",
       "      <td>55</td>\n",
       "    </tr>\n",
       "    <tr>\n",
       "      <th>GREEN</th>\n",
       "      <td>51</td>\n",
       "    </tr>\n",
       "    <tr>\n",
       "      <th>FLIPBELT</th>\n",
       "      <td>50</td>\n",
       "    </tr>\n",
       "    <tr>\n",
       "      <th>SIG</th>\n",
       "      <td>47</td>\n",
       "    </tr>\n",
       "    <tr>\n",
       "      <th>THINDUST</th>\n",
       "      <td>44</td>\n",
       "    </tr>\n",
       "    <tr>\n",
       "      <th>MUELLER</th>\n",
       "      <td>44</td>\n",
       "    </tr>\n",
       "    <tr>\n",
       "      <th>KRAFT</th>\n",
       "      <td>38</td>\n",
       "    </tr>\n",
       "    <tr>\n",
       "      <th>JELL-O</th>\n",
       "      <td>35</td>\n",
       "    </tr>\n",
       "    <tr>\n",
       "      <th>EMILS</th>\n",
       "      <td>32</td>\n",
       "    </tr>\n",
       "    <tr>\n",
       "      <th>HEINZ</th>\n",
       "      <td>32</td>\n",
       "    </tr>\n",
       "    <tr>\n",
       "      <th>CHEESE</th>\n",
       "      <td>31</td>\n",
       "    </tr>\n",
       "    <tr>\n",
       "      <th>BEN</th>\n",
       "      <td>30</td>\n",
       "    </tr>\n",
       "    <tr>\n",
       "      <th>PLANTERS</th>\n",
       "      <td>26</td>\n",
       "    </tr>\n",
       "    <tr>\n",
       "      <th>BORDEN</th>\n",
       "      <td>25</td>\n",
       "    </tr>\n",
       "    <tr>\n",
       "      <th>TC</th>\n",
       "      <td>25</td>\n",
       "    </tr>\n",
       "  </tbody>\n",
       "</table>\n",
       "</div>"
      ],
      "text/plain": [
       "                        count\n",
       "description_first_word       \n",
       "ITEM                      173\n",
       "PC                        138\n",
       "KLARBRUNN                 128\n",
       "HUGGIES                    93\n",
       "MILLER                     90\n",
       "HYV                        84\n",
       "COMP                       74\n",
       "OSCAR                      73\n",
       "LEGO                       56\n",
       "PLAY                       55\n",
       "EMIL'                      55\n",
       "GREEN                      51\n",
       "FLIPBELT                   50\n",
       "SIG                        47\n",
       "THINDUST                   44\n",
       "MUELLER                    44\n",
       "KRAFT                      38\n",
       "JELL-O                     35\n",
       "EMILS                      32\n",
       "HEINZ                      32\n",
       "CHEESE                     31\n",
       "BEN                        30\n",
       "PLANTERS                   26\n",
       "BORDEN                     25\n",
       "TC                         25"
      ]
     },
     "execution_count": 142,
     "metadata": {},
     "output_type": "execute_result"
    }
   ],
   "source": [
    "## Another rationale of the above chosen imputer for missing\n",
    "missing_brandcode_desc_present_df = rewards_receipts_df[(rewards_receipts_df['brandCode'].isna()) & (~rewards_receipts_df['description'].isna())]\n",
    "missing_brandcode_desc_present_df.groupby('description_first_word')\\\n",
    "    .agg({'description_first_word':'size'})\\\n",
    "    .rename(columns={'description_first_word':'count'})\\\n",
    "    .sort_values(by = ['count'],ascending= False)\\\n",
    "    .head(25)"
   ]
  },
  {
   "cell_type": "markdown",
   "metadata": {},
   "source": [
    "Because of the above imputation method, brands like KLARBRUNN, HUGGIES, MUELLER etc are coming into picture. Of course, the imputation is not perfect (for example: ITEM NOT FOUND would become ITEM). Therefore, when performing brand related queries, one needs to keep in mind about this imputation method."
   ]
  },
  {
   "cell_type": "code",
   "execution_count": 143,
   "metadata": {},
   "outputs": [
    {
     "data": {
      "text/html": [
       "<div>\n",
       "<style scoped>\n",
       "    .dataframe tbody tr th:only-of-type {\n",
       "        vertical-align: middle;\n",
       "    }\n",
       "\n",
       "    .dataframe tbody tr th {\n",
       "        vertical-align: top;\n",
       "    }\n",
       "\n",
       "    .dataframe thead th {\n",
       "        text-align: right;\n",
       "    }\n",
       "</style>\n",
       "<table border=\"1\" class=\"dataframe\">\n",
       "  <thead>\n",
       "    <tr style=\"text-align: right;\">\n",
       "      <th></th>\n",
       "      <th>name_first_word</th>\n",
       "      <th>name</th>\n",
       "    </tr>\n",
       "  </thead>\n",
       "  <tbody>\n",
       "    <tr>\n",
       "      <th>748</th>\n",
       "      <td>TEST BRAND @1595968944654</td>\n",
       "      <td>test brand @1595968944654</td>\n",
       "    </tr>\n",
       "    <tr>\n",
       "      <th>147</th>\n",
       "      <td>HONEST</td>\n",
       "      <td>Honest Ade</td>\n",
       "    </tr>\n",
       "    <tr>\n",
       "      <th>23</th>\n",
       "      <td>BOTTLED</td>\n",
       "      <td>Bottled Starbucks</td>\n",
       "    </tr>\n",
       "    <tr>\n",
       "      <th>441</th>\n",
       "      <td>TEST BRAND @1610039587818</td>\n",
       "      <td>test brand @1610039587818</td>\n",
       "    </tr>\n",
       "    <tr>\n",
       "      <th>718</th>\n",
       "      <td>SKOL</td>\n",
       "      <td>Skol</td>\n",
       "    </tr>\n",
       "  </tbody>\n",
       "</table>\n",
       "</div>"
      ],
      "text/plain": [
       "               name_first_word                       name\n",
       "748  TEST BRAND @1595968944654  test brand @1595968944654\n",
       "147                     HONEST                 Honest Ade\n",
       "23                     BOTTLED          Bottled Starbucks\n",
       "441  TEST BRAND @1610039587818  test brand @1610039587818\n",
       "718                       SKOL                       Skol"
      ]
     },
     "execution_count": 143,
     "metadata": {},
     "output_type": "execute_result"
    }
   ],
   "source": [
    "## Rationale for the above chosen imputer for missing brandCode\n",
    "brands_df[brands_df['brandCode'].isna()][['name_first_word','name']].drop_duplicates().sample(5)"
   ]
  },
  {
   "cell_type": "code",
   "execution_count": 144,
   "metadata": {},
   "outputs": [
    {
     "name": "stdout",
     "output_type": "stream",
     "text": [
      "Number of the brandCodes present in both the Brands table after new imputation technique = 88\n"
     ]
    }
   ],
   "source": [
    "## checking for presence of the brandCodes present in the rewards_receipts table and in the brands table\n",
    "brandCode_in_rewards_receipts_df = list(rewards_copy['brandCode'].unique())\n",
    "brandCode_in_brands_df = list(brands_copy_df['brandCode'].unique())\n",
    "\n",
    "present_brandCode_new = [x for x in brandCode_in_rewards_receipts_df if x in brandCode_in_brands_df]\n",
    "print(f'Number of the brandCodes present in both the Brands table after new imputation technique = {len(present_brandCode_new)}')"
   ]
  },
  {
   "cell_type": "code",
   "execution_count": 145,
   "metadata": {},
   "outputs": [
    {
     "name": "stdout",
     "output_type": "stream",
     "text": [
      "Number of the brandCodes present in both the tables before new imputation technique = 42\n"
     ]
    }
   ],
   "source": [
    "## checking for presence of the brandCodes present in the rewards_receipts table and in the brands table\n",
    "brandCode_in_rewards_receipts_df = list(rewards_receipts_df['brandCode'].unique())\n",
    "brandCode_in_brands_df = list(brands_df['brandCode'].unique())\n",
    "\n",
    "brandCode_present = [x for x in brandCode_in_rewards_receipts_df if x in brandCode_in_brands_df]\n",
    "print(f'Number of the brandCodes present in both the tables before new imputation technique = {len(brandCode_present)}')"
   ]
  },
  {
   "cell_type": "markdown",
   "metadata": {},
   "source": [
    "There has been an increase of over 200% due to the new imputation techniques. But is this the best approach? Not necessarily, though it is better than leaving the brandCodes missing. Other potential methods to explore include extracting brand information directly from the barcodes, especially if there is a pattern, such as the first four digits indicating something relevant."
   ]
  },
  {
   "cell_type": "markdown",
   "metadata": {},
   "source": [
    "The proper approach would be to map the barcodes to their respective brands, store that information, and then use it to accurately extract brand details."
   ]
  },
  {
   "cell_type": "markdown",
   "metadata": {},
   "source": [
    "#### Foreign key integrity check\n",
    "\n",
    "Let's understand about the brandCodes which are present in rewards_receipts table but not present in the Brands table, verifying foreign key integrity. Note that the follow test is done before the proposed imputation."
   ]
  },
  {
   "cell_type": "code",
   "execution_count": 146,
   "metadata": {},
   "outputs": [
    {
     "data": {
      "text/plain": [
       "['7UP',\n",
       " 'ADVIL',\n",
       " 'AMERICAN BEAUTY',\n",
       " 'ARROWHEAD',\n",
       " 'AZTECA',\n",
       " 'BANZA',\n",
       " 'BEAR CREEK COUNTRY KITCHENS',\n",
       " 'BEN AND JERRYS']"
      ]
     },
     "execution_count": 146,
     "metadata": {},
     "output_type": "execute_result"
    }
   ],
   "source": [
    "##checking if unique brandcodes exist in receipt but not in brands\n",
    "\n",
    "brandcodes_rewards_receipt = list(rewards_receipts_df['brandCode'].unique())\n",
    "brandcodes_brands = list(brands_df['brandCode'].unique())\n",
    "len(brandcodes_rewards_receipt)\n",
    "missing_bar_codes = [x for x in brandcodes_rewards_receipt if x not in brandcodes_brands]\n",
    "sorted(missing_bar_codes)[:8]"
   ]
  },
  {
   "cell_type": "markdown",
   "metadata": {},
   "source": [
    "Are the brandCodes actually missing?\n",
    "Answer: No.\n",
    "\n",
    "After some initial eyeball checks, a few observations were made:\n",
    "\n",
    "1) '7UP' in the rewards_receipts table and '7 up' in brands_df refer to the same brand, but lack consistency in structure.\n",
    "2) \"BEN AND JERRYS\" in rewards_receipts_df and \"BEN & JERRY'S\" in brands_df are also inconsistent in spelling and punctuation.\n",
    "3) These are just a few examples of errors, whether in spelling or punctuation, which impact the consistency of brandCodes. \n",
    "\n",
    "Given that brandCode is used as a foreign key, this poses a significant issue."
   ]
  },
  {
   "cell_type": "markdown",
   "metadata": {},
   "source": [
    "#### Data Quality Issue spotted.\n",
    "Creating a data pipeline to directly replace eyeball checks for grammatical errors would be challenging. The core issue, as mentioned earlier, lies in the lack of a proper mapping between barcode and brand information. Establishing this mapping would greatly improve data quality."
   ]
  },
  {
   "cell_type": "markdown",
   "metadata": {},
   "source": [
    "#### Data format consistency check.\n",
    "\n",
    "Given the presence of barcodes, it is essential that they follow a consistent format: 1) numeric and 2) 12 digits long."
   ]
  },
  {
   "cell_type": "code",
   "execution_count": 147,
   "metadata": {},
   "outputs": [
    {
     "data": {
      "text/plain": [
       "dtype('O')"
      ]
     },
     "execution_count": 147,
     "metadata": {},
     "output_type": "execute_result"
    }
   ],
   "source": [
    "## Checking if Barcodes are numeric type variables.\n",
    "rewards_receipt_df_bc_present = rewards_receipts_df[~rewards_receipts_df['barcode'].isna()]\n",
    "rewards_receipt_df_bc_present['barcode'].dtype"
   ]
  },
  {
   "cell_type": "markdown",
   "metadata": {},
   "source": [
    "#### Data Quality Issue Spotted\n",
    "It is an object datatype."
   ]
  },
  {
   "cell_type": "code",
   "execution_count": 148,
   "metadata": {},
   "outputs": [
    {
     "name": "stdout",
     "output_type": "stream",
     "text": [
      "Barcodes is not in consistent format \n",
      " Examples:\n",
      "\n",
      "6878    B07BRRLSVC\n",
      "2608          4011\n",
      "171           4011\n",
      "657           4011\n",
      "59            4011\n",
      "Name: barcode, dtype: object\n"
     ]
    }
   ],
   "source": [
    "## Verifying if the barcode is in consistent format -> 12 digit\n",
    "if rewards_receipt_df_bc_present[rewards_receipt_df_bc_present['barcode'].apply(lambda x: len(str(x))) != 12].empty:\n",
    "    print('All the barcodes are in consistent format -> 12 digits')\n",
    "else:\n",
    "    print('Barcodes is not in consistent format \\n Examples:\\n')\n",
    "    print(rewards_receipt_df_bc_present[rewards_receipt_df_bc_present['barcode'].apply(lambda x: len(str(x))) != 12]['barcode'].sample(5))"
   ]
  },
  {
   "cell_type": "markdown",
   "metadata": {},
   "source": [
    "#### Data Quality Issue spotted\n",
    "Some of the values contain letters and some of them are not 12 digits, indicating the data quality issue with the barcodes."
   ]
  },
  {
   "cell_type": "code",
   "execution_count": 149,
   "metadata": {},
   "outputs": [
    {
     "name": "stdout",
     "output_type": "stream",
     "text": [
      "Datatype of needsFetchReview column is object\n",
      "Datatype of preventTargetGapPoints column is object\n",
      "Datatype of userFlaggedNewItem column is object\n",
      "Datatype of competitiveProduct column is object\n",
      "Datatype of deleted column is object\n"
     ]
    }
   ],
   "source": [
    "#### Boolean Variables consistency check\n",
    "bool_cols = ['needsFetchReview','preventTargetGapPoints','userFlaggedNewItem','competitiveProduct','deleted']\n",
    "for col in bool_cols:\n",
    "    print(f'Datatype of {col} column is {rewards_receipts_df[col].dtype}')\n"
   ]
  },
  {
   "cell_type": "markdown",
   "metadata": {},
   "source": [
    "#### Data Quality Issue Spotted\n",
    "\n",
    "There is a need to convert the above variables into boolean type variables."
   ]
  },
  {
   "cell_type": "code",
   "execution_count": 150,
   "metadata": {},
   "outputs": [],
   "source": [
    "#### Making sure Boolean variables in Rewards_receipts_df to be Boolean values\n",
    "for col in bool_cols:\n",
    "    rewards_receipts_df[col] = rewards_receipts_df[col].astype('boolean')"
   ]
  },
  {
   "cell_type": "markdown",
   "metadata": {},
   "source": [
    "#### Finalizing Data Quality Assessment of Rewards_Receipts table"
   ]
  },
  {
   "cell_type": "code",
   "execution_count": 151,
   "metadata": {},
   "outputs": [],
   "source": [
    "#### Implementing the above brandCode imputation methods that were discussed to finalize Data Quality Assessment\n",
    "\n",
    "brands_df['brandCode'] = brands_df['brandCode'].fillna(brands_df['name_first_word'])\n",
    "rewards_receipts_df['brandCode'] = rewards_receipts_df['brandCode'].fillna(rewards_receipts_df['description_first_word'])"
   ]
  },
  {
   "cell_type": "markdown",
   "metadata": {},
   "source": [
    "#### Sample Great Expectations framework"
   ]
  },
  {
   "cell_type": "code",
   "execution_count": 152,
   "metadata": {},
   "outputs": [
    {
     "data": {
      "application/vnd.jupyter.widget-view+json": {
       "model_id": "4680a1390bf048c287f9bb5036e2549d",
       "version_major": 2,
       "version_minor": 0
      },
      "text/plain": [
       "Calculating Metrics:   0%|          | 0/10 [00:00<?, ?it/s]"
      ]
     },
     "metadata": {},
     "output_type": "display_data"
    },
    {
     "name": "stdout",
     "output_type": "stream",
     "text": [
      "{\n",
      "  \"success\": true,\n",
      "  \"result\": {\n",
      "    \"element_count\": 212,\n",
      "    \"unexpected_count\": 0,\n",
      "    \"unexpected_percent\": 0.0,\n",
      "    \"partial_unexpected_list\": [],\n",
      "    \"missing_count\": 0,\n",
      "    \"missing_percent\": 0.0,\n",
      "    \"unexpected_percent_total\": 0.0,\n",
      "    \"unexpected_percent_nonmissing\": 0.0,\n",
      "    \"partial_unexpected_counts\": [],\n",
      "    \"partial_unexpected_index_list\": []\n",
      "  },\n",
      "  \"expectation_config\": {\n",
      "    \"kwargs\": {\n",
      "      \"batch_id\": \"pandas-pd dataframe asset\",\n",
      "      \"column\": \"user_id\"\n",
      "    },\n",
      "    \"type\": \"expect_column_values_to_be_unique\",\n",
      "    \"meta\": {}\n",
      "  },\n",
      "  \"exception_info\": {\n",
      "    \"raised_exception\": false,\n",
      "    \"exception_traceback\": null,\n",
      "    \"exception_message\": null\n",
      "  },\n",
      "  \"meta\": {}\n",
      "}\n"
     ]
    }
   ],
   "source": [
    "## Unique test:\n",
    "\n",
    "context = ge.get_context()\n",
    "data_source = context.data_sources.add_pandas(\"pandas\")\n",
    "data_asset = data_source.add_dataframe_asset(name=\"pd dataframe asset\")\n",
    "\n",
    "batch_definition = data_asset.add_batch_definition_whole_dataframe(\"batch definition\")\n",
    "batch = batch_definition.get_batch(batch_parameters={\"dataframe\": users_df_no_duplicates})\n",
    "\n",
    "#expect user_id to exist:\n",
    "unique_user_expectation = ge.expectations.ExpectColumnValuesToBeUnique(column = 'user_id')\n",
    "validation_result = batch.validate(unique_user_expectation)\n",
    "print(validation_result)"
   ]
  },
  {
   "cell_type": "markdown",
   "metadata": {},
   "source": [
    "#### Data loading to MYSQL"
   ]
  },
  {
   "cell_type": "markdown",
   "metadata": {},
   "source": [
    "Now the data is ready to be loaded in the MYSQL database."
   ]
  },
  {
   "cell_type": "code",
   "execution_count": 153,
   "metadata": {},
   "outputs": [
    {
     "data": {
      "text/html": [
       "<div>\n",
       "<style scoped>\n",
       "    .dataframe tbody tr th:only-of-type {\n",
       "        vertical-align: middle;\n",
       "    }\n",
       "\n",
       "    .dataframe tbody tr th {\n",
       "        vertical-align: top;\n",
       "    }\n",
       "\n",
       "    .dataframe thead th {\n",
       "        text-align: right;\n",
       "    }\n",
       "</style>\n",
       "<table border=\"1\" class=\"dataframe\">\n",
       "  <thead>\n",
       "    <tr style=\"text-align: right;\">\n",
       "      <th></th>\n",
       "      <th>bonusPointsEarned</th>\n",
       "      <th>bonusPointsEarnedReason</th>\n",
       "      <th>pointsEarned</th>\n",
       "      <th>purchasedItemCount</th>\n",
       "      <th>rewardsReceiptStatus</th>\n",
       "      <th>totalSpent</th>\n",
       "      <th>userId</th>\n",
       "      <th>receipt_id</th>\n",
       "      <th>created_date_time</th>\n",
       "      <th>scanned_date_time</th>\n",
       "      <th>finished_date_time</th>\n",
       "      <th>modify_date_time</th>\n",
       "      <th>pointsAwarded_date_time</th>\n",
       "      <th>purchased_date_time</th>\n",
       "    </tr>\n",
       "  </thead>\n",
       "  <tbody>\n",
       "    <tr>\n",
       "      <th>0</th>\n",
       "      <td>500.0</td>\n",
       "      <td>Receipt number 2 completed, bonus point schedu...</td>\n",
       "      <td>500.0</td>\n",
       "      <td>5.0</td>\n",
       "      <td>FINISHED</td>\n",
       "      <td>26.0</td>\n",
       "      <td>5ff1e1eacfcf6c399c274ae6</td>\n",
       "      <td>5ff1e1eb0a720f0523000575</td>\n",
       "      <td>2021-01-03 09:25:31</td>\n",
       "      <td>2021-01-03 09:25:31</td>\n",
       "      <td>2021-01-03 09:25:31</td>\n",
       "      <td>2021-01-03 09:25:36</td>\n",
       "      <td>2021-01-03 09:25:31</td>\n",
       "      <td>2021-01-02 18:00:00</td>\n",
       "    </tr>\n",
       "    <tr>\n",
       "      <th>1</th>\n",
       "      <td>150.0</td>\n",
       "      <td>Receipt number 5 completed, bonus point schedu...</td>\n",
       "      <td>150.0</td>\n",
       "      <td>2.0</td>\n",
       "      <td>FINISHED</td>\n",
       "      <td>11.0</td>\n",
       "      <td>5ff1e194b6a9d73a3a9f1052</td>\n",
       "      <td>5ff1e1bb0a720f052300056b</td>\n",
       "      <td>2021-01-03 09:24:43</td>\n",
       "      <td>2021-01-03 09:24:43</td>\n",
       "      <td>2021-01-03 09:24:43</td>\n",
       "      <td>2021-01-03 09:24:48</td>\n",
       "      <td>2021-01-03 09:24:43</td>\n",
       "      <td>2021-01-02 09:24:43</td>\n",
       "    </tr>\n",
       "    <tr>\n",
       "      <th>2</th>\n",
       "      <td>5.0</td>\n",
       "      <td>All-receipts receipt bonus</td>\n",
       "      <td>5.0</td>\n",
       "      <td>1.0</td>\n",
       "      <td>REJECTED</td>\n",
       "      <td>10.0</td>\n",
       "      <td>5ff1e1f1cfcf6c399c274b0b</td>\n",
       "      <td>5ff1e1f10a720f052300057a</td>\n",
       "      <td>2021-01-03 09:25:37</td>\n",
       "      <td>2021-01-03 09:25:37</td>\n",
       "      <td>NaT</td>\n",
       "      <td>2021-01-03 09:25:42</td>\n",
       "      <td>NaT</td>\n",
       "      <td>2021-01-02 18:00:00</td>\n",
       "    </tr>\n",
       "    <tr>\n",
       "      <th>3</th>\n",
       "      <td>5.0</td>\n",
       "      <td>All-receipts receipt bonus</td>\n",
       "      <td>5.0</td>\n",
       "      <td>4.0</td>\n",
       "      <td>FINISHED</td>\n",
       "      <td>28.0</td>\n",
       "      <td>5ff1e1eacfcf6c399c274ae6</td>\n",
       "      <td>5ff1e1ee0a7214ada100056f</td>\n",
       "      <td>2021-01-03 09:25:34</td>\n",
       "      <td>2021-01-03 09:25:34</td>\n",
       "      <td>2021-01-03 09:25:34</td>\n",
       "      <td>2021-01-03 09:25:39</td>\n",
       "      <td>2021-01-03 09:25:34</td>\n",
       "      <td>2021-01-02 18:00:00</td>\n",
       "    </tr>\n",
       "    <tr>\n",
       "      <th>4</th>\n",
       "      <td>5.0</td>\n",
       "      <td>All-receipts receipt bonus</td>\n",
       "      <td>5.0</td>\n",
       "      <td>2.0</td>\n",
       "      <td>FINISHED</td>\n",
       "      <td>1.0</td>\n",
       "      <td>5ff1e194b6a9d73a3a9f1052</td>\n",
       "      <td>5ff1e1d20a7214ada1000561</td>\n",
       "      <td>2021-01-03 09:25:06</td>\n",
       "      <td>2021-01-03 09:25:06</td>\n",
       "      <td>2021-01-03 09:25:11</td>\n",
       "      <td>2021-01-03 09:25:11</td>\n",
       "      <td>2021-01-03 09:25:06</td>\n",
       "      <td>2021-01-02 09:25:06</td>\n",
       "    </tr>\n",
       "  </tbody>\n",
       "</table>\n",
       "</div>"
      ],
      "text/plain": [
       "   bonusPointsEarned                            bonusPointsEarnedReason  \\\n",
       "0              500.0  Receipt number 2 completed, bonus point schedu...   \n",
       "1              150.0  Receipt number 5 completed, bonus point schedu...   \n",
       "2                5.0                         All-receipts receipt bonus   \n",
       "3                5.0                         All-receipts receipt bonus   \n",
       "4                5.0                         All-receipts receipt bonus   \n",
       "\n",
       "   pointsEarned  purchasedItemCount rewardsReceiptStatus  totalSpent  \\\n",
       "0         500.0                 5.0             FINISHED        26.0   \n",
       "1         150.0                 2.0             FINISHED        11.0   \n",
       "2           5.0                 1.0             REJECTED        10.0   \n",
       "3           5.0                 4.0             FINISHED        28.0   \n",
       "4           5.0                 2.0             FINISHED         1.0   \n",
       "\n",
       "                     userId                receipt_id   created_date_time  \\\n",
       "0  5ff1e1eacfcf6c399c274ae6  5ff1e1eb0a720f0523000575 2021-01-03 09:25:31   \n",
       "1  5ff1e194b6a9d73a3a9f1052  5ff1e1bb0a720f052300056b 2021-01-03 09:24:43   \n",
       "2  5ff1e1f1cfcf6c399c274b0b  5ff1e1f10a720f052300057a 2021-01-03 09:25:37   \n",
       "3  5ff1e1eacfcf6c399c274ae6  5ff1e1ee0a7214ada100056f 2021-01-03 09:25:34   \n",
       "4  5ff1e194b6a9d73a3a9f1052  5ff1e1d20a7214ada1000561 2021-01-03 09:25:06   \n",
       "\n",
       "    scanned_date_time  finished_date_time    modify_date_time  \\\n",
       "0 2021-01-03 09:25:31 2021-01-03 09:25:31 2021-01-03 09:25:36   \n",
       "1 2021-01-03 09:24:43 2021-01-03 09:24:43 2021-01-03 09:24:48   \n",
       "2 2021-01-03 09:25:37                 NaT 2021-01-03 09:25:42   \n",
       "3 2021-01-03 09:25:34 2021-01-03 09:25:34 2021-01-03 09:25:39   \n",
       "4 2021-01-03 09:25:06 2021-01-03 09:25:11 2021-01-03 09:25:11   \n",
       "\n",
       "  pointsAwarded_date_time purchased_date_time  \n",
       "0     2021-01-03 09:25:31 2021-01-02 18:00:00  \n",
       "1     2021-01-03 09:24:43 2021-01-02 09:24:43  \n",
       "2                     NaT 2021-01-02 18:00:00  \n",
       "3     2021-01-03 09:25:34 2021-01-02 18:00:00  \n",
       "4     2021-01-03 09:25:06 2021-01-02 09:25:06  "
      ]
     },
     "execution_count": 153,
     "metadata": {},
     "output_type": "execute_result"
    }
   ],
   "source": [
    "## dropping the items list from receipts_df since we already have extracted the table Rewards_Receipts:\n",
    "\n",
    "new_receipts_df = receipts_df.drop(columns = 'rewardsReceiptItemList')\n",
    "new_receipts_df.head()"
   ]
  },
  {
   "cell_type": "code",
   "execution_count": 154,
   "metadata": {},
   "outputs": [],
   "source": [
    "## Not Including Description first word in Rewards_receipts table\n",
    "\n",
    "rewards_receipts_df = rewards_receipts_df[[x for x in rewards_receipts_df.columns if x != 'description_first_word']]"
   ]
  },
  {
   "cell_type": "code",
   "execution_count": 155,
   "metadata": {},
   "outputs": [],
   "source": [
    "#### Extracting MYSQL configuration files\n",
    "\n",
    "file_path = os.path.join(root_dir,'MYSQL_user_config.yaml')\n",
    "config = read_yaml(file_path)\n",
    "\n",
    "user = config.get('MYSQL_credentials')['user']\n",
    "password = config.get('MYSQL_credentials')['password']\n",
    "host = config.get('MYSQL_credentials')['host']\n",
    "port = config.get('MYSQL_credentials')['port']"
   ]
  },
  {
   "cell_type": "markdown",
   "metadata": {},
   "source": [
    "##### Make sure that MYSQL 'services' is running locally. In windows OS,one can always check witn Win + R and searching for services.msc) and starting MYSQL"
   ]
  },
  {
   "cell_type": "code",
   "execution_count": 156,
   "metadata": {},
   "outputs": [
    {
     "name": "stdout",
     "output_type": "stream",
     "text": [
      "Database 'FETCH_DB_Amarthya' created successfully!\n"
     ]
    }
   ],
   "source": [
    "## Creating the Database\n",
    "\n",
    "db_url = f'mysql+pymysql://{user}:{password}@{host}:{port}'\n",
    "db_name = \"FETCH_DB_Amarthya\"\n",
    "\n",
    "create_database(db_url, db_name)"
   ]
  },
  {
   "cell_type": "code",
   "execution_count": 157,
   "metadata": {},
   "outputs": [
    {
     "name": "stdout",
     "output_type": "stream",
     "text": [
      "Error in the query -> This result object does not return rows. It has been closed automatically.\n"
     ]
    }
   ],
   "source": [
    "##Engine creation for data loading\n",
    "engine = create_engine(f'{db_url}'+'/'+f'{db_name}')\n",
    "run_query(engine, f'USE {db_name}')\n"
   ]
  },
  {
   "cell_type": "code",
   "execution_count": 158,
   "metadata": {},
   "outputs": [
    {
     "name": "stdout",
     "output_type": "stream",
     "text": [
      "Error in the query -> This result object does not return rows. It has been closed automatically.\n",
      "Error in the query -> This result object does not return rows. It has been closed automatically.\n"
     ]
    }
   ],
   "source": [
    "## Creating Users table\n",
    "create_user_df_query = \"\"\"\n",
    "CREATE TABLE users (\n",
    "    user_id VARCHAR(24) PRIMARY KEY,\n",
    "    created_date_time DATETIME(3),\n",
    "    lastLogin_date_time DATETIME(3),\n",
    "    state VARCHAR(2),\n",
    "    signUpSource VARCHAR(15),\n",
    "    role VARCHAR(15),\n",
    "    active BOOLEAN\n",
    ")\n",
    "\"\"\"\n",
    "run_query(engine,'DROP TABLE IF EXISTS users')\n",
    "run_query(engine,create_user_df_query)"
   ]
  },
  {
   "cell_type": "code",
   "execution_count": 159,
   "metadata": {},
   "outputs": [
    {
     "name": "stdout",
     "output_type": "stream",
     "text": [
      "Error in the query -> This result object does not return rows. It has been closed automatically.\n",
      "Error in the query -> This result object does not return rows. It has been closed automatically.\n"
     ]
    }
   ],
   "source": [
    "## creating Brands table\n",
    "\n",
    "create_brands_df_query = \"\"\"\n",
    "CREATE TABLE brands (\n",
    "    brand_id VARCHAR(24) PRIMARY KEY,\n",
    "    name VARCHAR(25),\n",
    "    category VARCHAR(25),\n",
    "    categoryCode VARCHAR(25),\n",
    "    barcode VARCHAR(20),\n",
    "    cpg_id VARCHAR(6),\n",
    "    cpg_ref VARCHAR(6),\n",
    "    brandCode VARCHAR(50),\n",
    "    topBrand BOOLEAN\n",
    ");\n",
    "\"\"\"\n",
    "run_query(engine,'DROP TABLE IF EXISTS brands')\n",
    "run_query(engine,create_brands_df_query)"
   ]
  },
  {
   "cell_type": "code",
   "execution_count": 160,
   "metadata": {},
   "outputs": [
    {
     "name": "stdout",
     "output_type": "stream",
     "text": [
      "Error in the query -> This result object does not return rows. It has been closed automatically.\n",
      "Error in the query -> This result object does not return rows. It has been closed automatically.\n"
     ]
    }
   ],
   "source": [
    "## Creating Receipts table\n",
    "\n",
    "create_receipts_df_query = \"\"\"\n",
    "CREATE TABLE receipts (\n",
    "    receipt_id VARCHAR(25) PRIMARY KEY,\n",
    "    created_date_time DATETIME(3),\n",
    "    scanned_date_time DATETIME(3),\n",
    "    finished_date_time DATETIME(3),\n",
    "    modify_date_time DATETIME(3),\n",
    "    purchased_date_time DATETIME(3),\n",
    "    pointsAwarded_date_time DATETIME(3),\n",
    "    bonusPointsEarned DECIMAL(7,3),\n",
    "    bonusPointsEarnedReason VARCHAR(35),\n",
    "    pointsEarned DECIMAL(7,3),\n",
    "    purchasedItemCount INT(7),\n",
    "    rewardsReceiptStatus VARCHAR(10),\n",
    "    totalSpent DECIMAL(7,3),\n",
    "    userId VARCHAR(24)\n",
    ");\n",
    "\"\"\"\n",
    "run_query(engine,'DROP TABLE IF EXISTS receipts')\n",
    "run_query(engine,create_receipts_df_query)"
   ]
  },
  {
   "cell_type": "code",
   "execution_count": 161,
   "metadata": {},
   "outputs": [
    {
     "name": "stdout",
     "output_type": "stream",
     "text": [
      "Error in the query -> This result object does not return rows. It has been closed automatically.\n",
      "Error in the query -> This result object does not return rows. It has been closed automatically.\n"
     ]
    }
   ],
   "source": [
    "## Creating rewards_receipts table\n",
    "\n",
    "create_rewards_receipts_df_query = \"\"\"\n",
    "CREATE TABLE rewards_receipts (\n",
    "    barcode VARCHAR(20),\n",
    "    description VARCHAR(50),\n",
    "    finalPrice DECIMAL(8,3),\n",
    "    itemPrice DECIMAL(8,3),\n",
    "    needsFetchReview Boolean,\n",
    "    partnerItemId INT,\n",
    "    preventTargetGapPoints Boolean,\n",
    "    quantityPurchased DECIMAL(8,3),\n",
    "    userFlaggedBarcode VARCHAR(20),\n",
    "    userFlaggedNewItem BOOLEAN,\n",
    "    userFlaggedPrice DECIMAL(8,3),\n",
    "    userFlaggedQuantity DECIMAL(8,3),\n",
    "    needsFetchReviewReason VARCHAR(20),\n",
    "    pointsNotAwardedReason VARCHAR(50),\n",
    "    pointsPayerId VARCHAR(25),\n",
    "    rewardsGroup VARCHAR(20),\n",
    "    rewardsProductPartnerId VARCHAR(25),\n",
    "    userFlaggedDescription VARCHAR(50),\n",
    "    originalMetaBriteBarcode VARCHAR(20),\n",
    "    originalMetaBriteDescription VARCHAR(50),\n",
    "    brandCode VARCHAR(20),\n",
    "    competitorRewardsGroup VARCHAR(30),\n",
    "    discountedItemPrice DECIMAL(8,3),\n",
    "    originalReceiptItemText VARCHAR(50),\n",
    "    itemNumber INT,\n",
    "    originalMetaBriteQuantityPurchased DECIMAL(8,3),\n",
    "    pointsEarned DECIMAL(8,3),\n",
    "    targetPrice DECIMAL(8,3),\n",
    "    competitiveProduct BOOLEAN,\n",
    "    originalFinalPrice DECIMAL(8,3),\n",
    "    originalMetaBriteItemPrice DECIMAL(8,3),\n",
    "    deleted BOOLEAN,\n",
    "    priceAfterCoupon DECIMAL(8,3),\n",
    "    metabriteCampaignId VARCHAR(50),\n",
    "    receipt_id VARCHAR(25),\n",
    "    PRIMARY KEY (receipt_id,partnerItemId)    \n",
    ");\n",
    "\"\"\"\n",
    "run_query(engine,'DROP TABLE IF EXISTS rewards_receipts')\n",
    "run_query(engine,create_rewards_receipts_df_query)"
   ]
  },
  {
   "cell_type": "code",
   "execution_count": 162,
   "metadata": {},
   "outputs": [
    {
     "data": {
      "text/plain": [
       "6941"
      ]
     },
     "execution_count": 162,
     "metadata": {},
     "output_type": "execute_result"
    }
   ],
   "source": [
    "## Loading tables:\n",
    "\n",
    "### Time to load tables\n",
    "\n",
    "#user_df\n",
    "users_df_no_duplicates.to_sql('users',con = engine, if_exists = 'replace',index = False)\n",
    "\n",
    "#brands_df\n",
    "brands_df.to_sql('brands',con = engine, if_exists = 'replace',index = False)\n",
    "\n",
    "#receipts_df\n",
    "new_receipts_df.to_sql('receipts',con = engine, if_exists = 'replace',index = False)\n",
    "\n",
    "#rewards_receipts_df\n",
    "rewards_receipts_df.to_sql('rewards_receipts',con = engine, if_exists = 'replace',index = False)"
   ]
  }
 ],
 "metadata": {
  "kernelspec": {
   "display_name": "base",
   "language": "python",
   "name": "python3"
  },
  "language_info": {
   "codemirror_mode": {
    "name": "ipython",
    "version": 3
   },
   "file_extension": ".py",
   "mimetype": "text/x-python",
   "name": "python",
   "nbconvert_exporter": "python",
   "pygments_lexer": "ipython3",
   "version": "3.9.13"
  }
 },
 "nbformat": 4,
 "nbformat_minor": 2
}
