{
 "cells": [
  {
   "cell_type": "code",
   "execution_count": 1,
   "metadata": {},
   "outputs": [],
   "source": [
    "## Importing Libraries\n",
    "import pandas as pd\n",
    "import numpy as np\n",
    "import os\n",
    "\n",
    "import datetime\n",
    "from prettytable import PrettyTable\n",
    "import pymysql\n",
    "import yaml\n",
    "from sqlalchemy import create_engine, text"
   ]
  },
  {
   "cell_type": "code",
   "execution_count": 2,
   "metadata": {},
   "outputs": [],
   "source": [
    "## Root Directory to read the configuration files\n",
    "root_dir = os.getcwd()"
   ]
  },
  {
   "cell_type": "code",
   "execution_count": 3,
   "metadata": {},
   "outputs": [],
   "source": [
    "## Fucntions\n",
    "\n",
    "# Function to read YAML file\n",
    "def read_yaml(file_path):\n",
    "    with open(file_path, 'r') as file:\n",
    "        try:\n",
    "            # Load the YAML content into a Python dictionary\n",
    "            data = yaml.safe_load(file)\n",
    "            return data\n",
    "        except yaml.YAMLError as exc:\n",
    "            print(f\"Error reading YAML file: {exc}\")\n",
    "            return None\n",
    "\n",
    "# Function to execute the query\n",
    "def run_query(engine,query):\n",
    "    try:\n",
    "        with engine.connect() as connection:\n",
    "            result = connection.execute(text(query))\n",
    "            return result.fetchall()\n",
    "    except Exception as e:\n",
    "        print(f\"Error in the query -> {e}\")"
   ]
  },
  {
   "cell_type": "code",
   "execution_count": 4,
   "metadata": {},
   "outputs": [],
   "source": [
    "## Reading Configuration file\n",
    "\n",
    "file_path = os.path.join(root_dir,'MYSQL_user_config.yaml')\n",
    "config = read_yaml(file_path)\n",
    "\n",
    "user = config.get('MYSQL_credentials')['user']\n",
    "password = config.get('MYSQL_credentials')['password']\n",
    "host = config.get('MYSQL_credentials')['host']\n",
    "port = config.get('MYSQL_credentials')['port']"
   ]
  },
  {
   "cell_type": "code",
   "execution_count": 5,
   "metadata": {},
   "outputs": [
    {
     "name": "stdout",
     "output_type": "stream",
     "text": [
      "Error in the query -> This result object does not return rows. It has been closed automatically.\n"
     ]
    }
   ],
   "source": [
    "## Engine Configuration\n",
    "\n",
    "db_url = f'mysql+pymysql://{user}:{password}@{host}:{port}'\n",
    "db_name = \"FETCH_DB_Amarthya\"\n",
    "engine = create_engine(f'{db_url}'+'/'+f'{db_name}')\n",
    "run_query(engine, f'USE {db_name}')"
   ]
  },
  {
   "cell_type": "markdown",
   "metadata": {},
   "source": [
    "### What are the top 5 brands by receipts scanned for most recent month?"
   ]
  },
  {
   "cell_type": "markdown",
   "metadata": {},
   "source": [
    "Brands with the highest number of occurrences on all receipts: This measures the total number of times items from the brand appear across all receipts, counting every instance where an item from the brand is scanned."
   ]
  },
  {
   "cell_type": "markdown",
   "metadata": {},
   "source": [
    "Note that, as discussed in the Data Quality Section about brand and BrandCodes, since the best possible way to relate receipts and brands is by brandCode which is half empty, the imputing method of extracting the first word from description is used below. Additionally, brandCode is still treated as the primary identifier for naming."
   ]
  },
  {
   "cell_type": "markdown",
   "metadata": {},
   "source": [
    "The most recent month is 2021-01-03, which is dynamically calculated and not hard-coded. The query below ensures this is handled appropriately."
   ]
  },
  {
   "cell_type": "code",
   "execution_count": 6,
   "metadata": {},
   "outputs": [
    {
     "name": "stdout",
     "output_type": "stream",
     "text": [
      "For the Most Recent Month:\n",
      "+-----------+------------------+------------+\n",
      "| brandCode | Receipts Scanned | Brand_Rank |\n",
      "+-----------+------------------+------------+\n",
      "|  MUELLER  |        11        |     1      |\n",
      "|  THINDUST |        11        |     1      |\n",
      "+-----------+------------------+------------+\n"
     ]
    }
   ],
   "source": [
    "#### For most recent month:\n",
    "\n",
    "query_1 = \"\"\"\n",
    "WITH COUNT_BRAND_RECEIPTS AS(\n",
    "    SELECT RR.brandCode AS Brand,\n",
    "    COUNT(RR.receipt_id) AS ReceiptCount,\n",
    "    DENSE_RANK() OVER(ORDER BY COUNT(RR.receipt_id) DESC) AS BrandRank\n",
    "    FROM rewards_receipts RR\n",
    "    INNER JOIN receipts R\n",
    "    ON RR.receipt_id = R.receipt_id\n",
    "    WHERE DATE_FORMAT(R.scanned_date_time,'%Y%m') = (SELECT DATE_FORMAT(MAX(scanned_date_time),'%Y%m') FROM receipts) \n",
    "        AND RR.brandCode IS NOT NULL \n",
    "        AND RR.brandCode != 'ITEM'\n",
    "    GROUP BY Brand\n",
    ")\n",
    "\n",
    "SELECT Brand, ReceiptCount, BrandRank\n",
    "FROM COUNT_BRAND_RECEIPTS\n",
    "WHERE BrandRank <= 5\n",
    "ORDER BY BrandRank ASC;\n",
    "\"\"\"\n",
    "\n",
    "results=run_query(engine,query_1)\n",
    "\n",
    "columns = [\"brandCode\", \"Receipts Scanned\", \"Brand_Rank\"]\n",
    "table = PrettyTable()\n",
    "table.field_names = columns\n",
    "print('For the Most Recent Month:')\n",
    "for row in results:\n",
    "    table.add_row(row)\n",
    "\n",
    "print(table)"
   ]
  },
  {
   "cell_type": "markdown",
   "metadata": {},
   "source": [
    "Since there are not atleast 5 distinct Brands, We could explore the top 5 brands for previous months."
   ]
  },
  {
   "cell_type": "markdown",
   "metadata": {},
   "source": [
    "#### For month = '2021-02'"
   ]
  },
  {
   "cell_type": "code",
   "execution_count": 7,
   "metadata": {},
   "outputs": [
    {
     "name": "stdout",
     "output_type": "stream",
     "text": [
      "Error in the query -> This result object does not return rows. It has been closed automatically.\n",
      "For the Month: '2021-02-01'\n",
      "+-----------+------------------+------------+\n",
      "| brandCode | Receipts Scanned | Brand_Rank |\n",
      "+-----------+------------------+------------+\n",
      "|  MUELLER  |        29        |     1      |\n",
      "|  THINDUST |        29        |     1      |\n",
      "|  FLIPBELT |        28        |     2      |\n",
      "|   HEINZ   |        10        |     3      |\n",
      "|   BRAND   |        3         |     4      |\n",
      "|  DORITOS  |        3         |     4      |\n",
      "|  DELETED  |        2         |     5      |\n",
      "|    JIF    |        2         |     5      |\n",
      "|   SUAVE   |        2         |     5      |\n",
      "|  MISSION  |        2         |     5      |\n",
      "|   CAPRI   |        2         |     5      |\n",
      "|   SPIGEN  |        2         |     5      |\n",
      "+-----------+------------------+------------+\n"
     ]
    }
   ],
   "source": [
    "## Hard coded month\n",
    "set_month = \"'2021-02-01'\"\n",
    "set_most_recent_month_query = f\"SET @MOST_RECENT_MONTH = {set_month};\"\n",
    "run_query(engine,query = set_most_recent_month_query)\n",
    "\n",
    "query_1 = \"\"\"\n",
    "WITH COUNT_BRAND_RECEIPTS AS(\n",
    "    SELECT RR.brandCode AS Brand,\n",
    "    COUNT(RR.receipt_id) AS ReceiptCount,\n",
    "    DENSE_RANK() OVER(ORDER BY COUNT(RR.receipt_id) DESC) AS BrandRank\n",
    "    FROM rewards_receipts RR\n",
    "    INNER JOIN receipts R\n",
    "    ON RR.receipt_id = R.receipt_id\n",
    "    WHERE DATE_FORMAT(R.scanned_date_time,'%Y%m') = DATE_FORMAT(@MOST_RECENT_MONTH, '%Y%m')\n",
    "      AND RR.brandCode IS NOT NULL \n",
    "      AND RR.brandCode != 'ITEM'\n",
    "    GROUP BY Brand\n",
    ")\n",
    "\n",
    "SELECT Brand, ReceiptCount, BrandRank\n",
    "FROM COUNT_BRAND_RECEIPTS\n",
    "WHERE BrandRank <= 5\n",
    "ORDER BY BrandRank ASC;\n",
    "\"\"\"\n",
    "results=run_query(engine,query_1)\n",
    "\n",
    "columns = [\"brandCode\", \"Receipts Scanned\", \"Brand_Rank\"]\n",
    "table = PrettyTable()\n",
    "table.field_names = columns\n",
    "print(f'For the Month: {set_month}')\n",
    "for row in results:\n",
    "    table.add_row(row)\n",
    "\n",
    "print(table)"
   ]
  },
  {
   "cell_type": "markdown",
   "metadata": {},
   "source": [
    "From the above list, brands like 'DELETED','BRAND' do not make sense. This is due to the limitation of the imputation method discussed earlier. In some cases, the brand codes may not be accurate when extracted from the description."
   ]
  },
  {
   "cell_type": "markdown",
   "metadata": {},
   "source": [
    "#### For Month = '202101'"
   ]
  },
  {
   "cell_type": "code",
   "execution_count": 8,
   "metadata": {},
   "outputs": [
    {
     "name": "stdout",
     "output_type": "stream",
     "text": [
      "Error in the query -> This result object does not return rows. It has been closed automatically.\n",
      "For the Month: '2021-01-01'\n",
      "+----------------+------------------+------------+\n",
      "|   brandCode    | Receipts Scanned | Brand_Rank |\n",
      "+----------------+------------------+------------+\n",
      "|     HY-VEE     |       296        |     1      |\n",
      "| BEN AND JERRYS |       180        |     2      |\n",
      "|       PC       |       138        |     3      |\n",
      "|   KLARBRUNN    |       133        |     4      |\n",
      "|     PEPSI      |       103        |     5      |\n",
      "+----------------+------------------+------------+\n"
     ]
    }
   ],
   "source": [
    "## Hard coded month\n",
    "set_month = \"'2021-01-01'\"\n",
    "set_most_recent_month_query = f\"SET @MOST_RECENT_MONTH = {set_month};\"\n",
    "run_query(engine,query = set_most_recent_month_query)\n",
    "\n",
    "query_1 = \"\"\"\n",
    "WITH COUNT_BRAND_RECEIPTS AS(\n",
    "    SELECT RR.brandCode AS Brand,\n",
    "    COUNT(RR.receipt_id) AS ReceiptCount,\n",
    "    DENSE_RANK() OVER(ORDER BY COUNT(RR.receipt_id) DESC) AS BrandRank\n",
    "    FROM rewards_receipts RR\n",
    "    INNER JOIN receipts R\n",
    "    ON RR.receipt_id = R.receipt_id\n",
    "    WHERE DATE_FORMAT(R.scanned_date_time,'%Y%m') = DATE_FORMAT(@MOST_RECENT_MONTH, '%Y%m')\n",
    "        AND RR.brandCode IS NOT NULL\n",
    "        AND RR.brandCode != 'ITEM'\n",
    "    GROUP BY Brand\n",
    ")\n",
    "\n",
    "SELECT Brand, ReceiptCount, BrandRank\n",
    "FROM COUNT_BRAND_RECEIPTS\n",
    "WHERE BrandRank <= 5\n",
    "ORDER BY BrandRank ASC;\n",
    "\"\"\"\n",
    "results=run_query(engine,query_1)\n",
    "\n",
    "columns = [\"brandCode\", \"Receipts Scanned\", \"Brand_Rank\"]\n",
    "table = PrettyTable()\n",
    "table.field_names = columns\n",
    "print(f'For the Month: {set_month}')\n",
    "for row in results:\n",
    "    table.add_row(row)\n",
    "\n",
    "print(table)"
   ]
  },
  {
   "cell_type": "markdown",
   "metadata": {},
   "source": [
    "The brand 'PC' might not be reasonable. This is due to the limitation of the imputation method discussed earlier. In some cases, the brand codes may not be accurate when extracted from the description."
   ]
  },
  {
   "cell_type": "markdown",
   "metadata": {},
   "source": [
    "### 2) How does the ranking of the top 5 brands by receipts scanned for the recent month compare to the ranking for the previous month"
   ]
  },
  {
   "cell_type": "markdown",
   "metadata": {},
   "source": [
    "#### For the most Recent month"
   ]
  },
  {
   "cell_type": "code",
   "execution_count": 9,
   "metadata": {},
   "outputs": [
    {
     "name": "stdout",
     "output_type": "stream",
     "text": [
      "Error in the query -> This result object does not return rows. It has been closed automatically.\n",
      "For the most recent Month:\n",
      "+----------+-----------------------------+------------------------------+--------------------+---------------------+-----------------+\n",
      "|  Brand   | Current_Month_ReceiptsCount | Previous_Month_ReceiptsCount | Current_Month_Rank | Previous_Month_Rank | rank_Difference |\n",
      "+----------+-----------------------------+------------------------------+--------------------+---------------------+-----------------+\n",
      "| MUELLER  |              11             |              29              |         1          |          1          |        0        |\n",
      "| THINDUST |              11             |              29              |         1          |          1          |        0        |\n",
      "+----------+-----------------------------+------------------------------+--------------------+---------------------+-----------------+\n"
     ]
    }
   ],
   "source": [
    "set_most_recent_month_query = \"\"\"SET @MOST_RECENT_MONTH = (SELECT DATE_FORMAT(MAX(scanned_date_time), '%Y-%m-01') FROM receipts);\"\"\"\n",
    "run_query(engine,query = set_most_recent_month_query)\n",
    "\n",
    "query_2 = \"\"\"\n",
    "WITH CURRENT_RANK_TABLE AS (\n",
    "    SELECT RR.brandCode AS Brand,\n",
    "    SUM(IF(\n",
    "    DATE_FORMAT(R.scanned_date_time,'%Y%m') = DATE_FORMAT(@MOST_RECENT_MONTH,'%Y%m'),1,0\n",
    "    )) AS Current_Month_ReceiptsCount,\n",
    "    SUM(IF(\n",
    "    DATE_FORMAT(R.scanned_date_time, '%Y%m') = DATE_FORMAT(DATE_SUB(@MOST_RECENT_MONTH, INTERVAL 1 MONTH), '%Y%m'), 1, 0\n",
    "    )) AS Previous_Month_ReceiptsCount,\n",
    "    \n",
    "    -- Apply DENSE_RANK() for Current Month Count\n",
    "    DENSE_RANK() OVER \n",
    "    (ORDER BY SUM(IF(DATE_FORMAT(R.scanned_date_time,'%Y%m') = DATE_FORMAT(@MOST_RECENT_MONTH,'%Y%m'), 1, 0)) DESC)\n",
    "    AS Current_Brand_Rank,\n",
    "\n",
    "    -- Apply DENSE_RANK() for Previous Month Count\n",
    "    DENSE_RANK() OVER \n",
    "    (ORDER BY SUM(IF(DATE_FORMAT(R.scanned_date_time, '%Y%m') = DATE_FORMAT(DATE_SUB(@MOST_RECENT_MONTH, INTERVAL 1 MONTH), '%Y%m'), 1, 0)) DESC)\n",
    "    AS Previous_Brand_Rank\n",
    "\n",
    "    FROM rewards_receipts RR\n",
    "    INNER JOIN receipts R\n",
    "    ON RR.receipt_id = R.receipt_id\n",
    "    WHERE RR.brandCode IS NOT NULL AND RR.brandCode != 'ITEM'\n",
    "    GROUP BY Brand\n",
    ")\n",
    "SELECT Brand, \n",
    "Current_Month_ReceiptsCount, \n",
    "Previous_Month_ReceiptsCount, \n",
    "Current_Brand_Rank, \n",
    "Previous_Brand_Rank, \n",
    "CAST(Previous_Brand_Rank AS SIGNED) - CAST(Current_Brand_Rank AS SIGNED) Rank_Difference\n",
    "FROM CURRENT_RANK_TABLE\n",
    "WHERE Current_Brand_Rank <= 5 AND Current_Month_ReceiptsCount!= 0\n",
    "ORDER BY Current_Brand_Rank ASC;\n",
    "\"\"\"\n",
    "results=run_query(engine,query_2)\n",
    "\n",
    "columns = [\"Brand\", \"Current_Month_ReceiptsCount\",\"Previous_Month_ReceiptsCount\",\"Current_Month_Rank\", \"Previous_Month_Rank\",\"rank_Difference\"]\n",
    "table = PrettyTable()\n",
    "table.field_names = columns\n",
    "print('For the most recent Month:')\n",
    "for row in results:\n",
    "    table.add_row(row)\n",
    "\n",
    "print(table)"
   ]
  },
  {
   "cell_type": "markdown",
   "metadata": {},
   "source": [
    "#### For Month: 2021-02"
   ]
  },
  {
   "cell_type": "code",
   "execution_count": 10,
   "metadata": {},
   "outputs": [
    {
     "name": "stdout",
     "output_type": "stream",
     "text": [
      "Error in the query -> This result object does not return rows. It has been closed automatically.\n",
      "For the most recent Month as '2021-02-01':\n",
      "+----------+-----------------------------+------------------------------+--------------------+---------------------+-----------------+\n",
      "|  Brand   | Current_Month_ReceiptsCount | Previous_Month_ReceiptsCount | Current_Month_Rank | Previous_Month_Rank | rank_Difference |\n",
      "+----------+-----------------------------+------------------------------+--------------------+---------------------+-----------------+\n",
      "| MUELLER  |              29             |              4               |         1          |          51         |        50       |\n",
      "| THINDUST |              29             |              4               |         1          |          51         |        50       |\n",
      "| FLIPBELT |              28             |              22              |         2          |          33         |        31       |\n",
      "|  HEINZ   |              10             |              22              |         3          |          33         |        30       |\n",
      "| DORITOS  |              3              |              92              |         4          |          10         |        6        |\n",
      "|  BRAND   |              3              |              19              |         4          |          36         |        32       |\n",
      "| MISSION  |              2              |              17              |         5          |          38         |        33       |\n",
      "|  CAPRI   |              2              |              12              |         5          |          43         |        38       |\n",
      "|  SUAVE   |              2              |              9               |         5          |          46         |        41       |\n",
      "| DELETED  |              2              |              7               |         5          |          48         |        43       |\n",
      "|   JIF    |              2              |              7               |         5          |          48         |        43       |\n",
      "|  SPIGEN  |              2              |              0               |         5          |          55         |        50       |\n",
      "+----------+-----------------------------+------------------------------+--------------------+---------------------+-----------------+\n"
     ]
    }
   ],
   "source": [
    "set_month = \"'2021-02-01'\"\n",
    "set_most_recent_month_query = f\"SET @MOST_RECENT_MONTH = {set_month};\"\n",
    "run_query(engine,query = set_most_recent_month_query)\n",
    "\n",
    "query_2 = \"\"\"\n",
    "WITH CURRENT_RANK_TABLE AS (\n",
    "    SELECT RR.brandCode AS Brand,\n",
    "    SUM(IF(\n",
    "    DATE_FORMAT(R.scanned_date_time,'%Y%m') = DATE_FORMAT(@MOST_RECENT_MONTH,'%Y%m'),1,0\n",
    "    )) AS Current_Month_ReceiptsCount,\n",
    "    SUM(IF(\n",
    "    DATE_FORMAT(R.scanned_date_time, '%Y%m') = DATE_FORMAT(DATE_SUB(@MOST_RECENT_MONTH, INTERVAL 1 MONTH), '%Y%m'), 1, 0\n",
    "    )) AS Previous_Month_ReceiptsCount,\n",
    "    \n",
    "    -- Apply DENSE_RANK() for Current Month Count\n",
    "    DENSE_RANK() OVER \n",
    "    (ORDER BY SUM(IF(DATE_FORMAT(R.scanned_date_time,'%Y%m') = DATE_FORMAT(@MOST_RECENT_MONTH,'%Y%m'), 1, 0)) DESC)\n",
    "    AS Current_Brand_Rank,\n",
    "\n",
    "    -- Apply DENSE_RANK() for Previous Month Count\n",
    "    DENSE_RANK() OVER \n",
    "    (ORDER BY SUM(IF(DATE_FORMAT(R.scanned_date_time, '%Y%m') = DATE_FORMAT(DATE_SUB(@MOST_RECENT_MONTH, INTERVAL 1 MONTH), '%Y%m'), 1, 0)) DESC)\n",
    "    AS Previous_Brand_Rank\n",
    "\n",
    "    FROM rewards_receipts RR\n",
    "    INNER JOIN receipts R\n",
    "    ON RR.receipt_id = R.receipt_id\n",
    "    WHERE RR.brandCode IS NOT NULL AND RR.brandCode != 'ITEM'\n",
    "    GROUP BY Brand\n",
    ")\n",
    "SELECT Brand, \n",
    "Current_Month_ReceiptsCount, \n",
    "Previous_Month_ReceiptsCount, \n",
    "Current_Brand_Rank, \n",
    "Previous_Brand_Rank, \n",
    "CAST(Previous_Brand_Rank AS SIGNED) - CAST(Current_Brand_Rank AS SIGNED) Rank_Difference\n",
    "FROM CURRENT_RANK_TABLE\n",
    "WHERE Current_Brand_Rank <= 5 AND Current_Month_ReceiptsCount!= 0\n",
    "ORDER BY Current_Brand_Rank ASC;\n",
    "\"\"\"\n",
    "results=run_query(engine,query_2)\n",
    "\n",
    "columns = [\"Brand\", \"Current_Month_ReceiptsCount\",\"Previous_Month_ReceiptsCount\",\"Current_Month_Rank\", \"Previous_Month_Rank\",\"rank_Difference\"]\n",
    "table = PrettyTable()\n",
    "table.field_names = columns\n",
    "print(f'For the most recent Month as {set_month}:')\n",
    "for row in results:\n",
    "    table.add_row(row)\n",
    "\n",
    "print(table)"
   ]
  },
  {
   "cell_type": "markdown",
   "metadata": {},
   "source": [
    "#### For Month 2021-01:"
   ]
  },
  {
   "cell_type": "code",
   "execution_count": 11,
   "metadata": {},
   "outputs": [
    {
     "name": "stdout",
     "output_type": "stream",
     "text": [
      "Error in the query -> This result object does not return rows. It has been closed automatically.\n",
      "For the most recent Month as '2021-01-01':\n",
      "+----------------+-----------------------------+------------------------------+--------------------+---------------------+-----------------+\n",
      "|     Brand      | Current_Month_ReceiptsCount | Previous_Month_ReceiptsCount | Current_Month_Rank | Previous_Month_Rank | rank_Difference |\n",
      "+----------------+-----------------------------+------------------------------+--------------------+---------------------+-----------------+\n",
      "|     HY-VEE     |             296             |              0               |         1          |          1          |        0        |\n",
      "| BEN AND JERRYS |             180             |              0               |         2          |          1          |        -1       |\n",
      "|       PC       |             138             |              0               |         3          |          1          |        -2       |\n",
      "|   KLARBRUNN    |             133             |              0               |         4          |          1          |        -3       |\n",
      "|     PEPSI      |             103             |              0               |         5          |          1          |        -4       |\n",
      "+----------------+-----------------------------+------------------------------+--------------------+---------------------+-----------------+\n"
     ]
    }
   ],
   "source": [
    "set_month = \"'2021-01-01'\"\n",
    "set_most_recent_month_query = f\"SET @MOST_RECENT_MONTH = {set_month};\"\n",
    "run_query(engine,query = set_most_recent_month_query)\n",
    "\n",
    "query_2 = \"\"\"\n",
    "WITH CURRENT_RANK_TABLE AS (\n",
    "    SELECT RR.brandCode AS Brand,\n",
    "    SUM(IF(\n",
    "    DATE_FORMAT(R.scanned_date_time,'%Y%m') = DATE_FORMAT(@MOST_RECENT_MONTH,'%Y%m'),1,0\n",
    "    )) AS Current_Month_ReceiptsCount,\n",
    "    SUM(IF(\n",
    "    DATE_FORMAT(R.scanned_date_time, '%Y%m') = DATE_FORMAT(DATE_SUB(@MOST_RECENT_MONTH, INTERVAL 1 MONTH), '%Y%m'), 1, 0\n",
    "    )) AS Previous_Month_ReceiptsCount,\n",
    "    \n",
    "    -- Apply DENSE_RANK() for Current Month Count\n",
    "    DENSE_RANK() OVER \n",
    "    (ORDER BY SUM(IF(DATE_FORMAT(R.scanned_date_time,'%Y%m') = DATE_FORMAT(@MOST_RECENT_MONTH,'%Y%m'), 1, 0)) DESC)\n",
    "    AS Current_Brand_Rank,\n",
    "\n",
    "    -- Apply DENSE_RANK() for Previous Month Count\n",
    "    DENSE_RANK() OVER \n",
    "    (ORDER BY SUM(IF(DATE_FORMAT(R.scanned_date_time, '%Y%m') = DATE_FORMAT(DATE_SUB(@MOST_RECENT_MONTH, INTERVAL 1 MONTH), '%Y%m'), 1, 0)) DESC)\n",
    "    AS Previous_Brand_Rank\n",
    "\n",
    "    FROM rewards_receipts RR\n",
    "    INNER JOIN receipts R\n",
    "    ON RR.receipt_id = R.receipt_id\n",
    "    WHERE RR.brandCode IS NOT NULL AND RR.brandCode != 'ITEM'\n",
    "    GROUP BY Brand\n",
    ")\n",
    "SELECT Brand, \n",
    "Current_Month_ReceiptsCount, \n",
    "Previous_Month_ReceiptsCount, \n",
    "Current_Brand_Rank, \n",
    "Previous_Brand_Rank, \n",
    "CAST(Previous_Brand_Rank AS SIGNED) - CAST(Current_Brand_Rank AS SIGNED) Rank_Difference\n",
    "FROM CURRENT_RANK_TABLE\n",
    "WHERE Current_Brand_Rank <= 5 AND Current_Month_ReceiptsCount!= 0\n",
    "ORDER BY Current_Brand_Rank ASC;\n",
    "\"\"\"\n",
    "results=run_query(engine,query_2)\n",
    "\n",
    "columns = [\"Brand\", \"Current_Month_ReceiptsCount\",\"Previous_Month_ReceiptsCount\",\"Current_Month_Rank\", \"Previous_Month_Rank\",\"rank_Difference\"]\n",
    "table = PrettyTable()\n",
    "table.field_names = columns\n",
    "print(f'For the most recent Month as {set_month}:')\n",
    "for row in results:\n",
    "    table.add_row(row)\n",
    "\n",
    "print(table)"
   ]
  }
 ],
 "metadata": {
  "kernelspec": {
   "display_name": "base",
   "language": "python",
   "name": "python3"
  },
  "language_info": {
   "codemirror_mode": {
    "name": "ipython",
    "version": 3
   },
   "file_extension": ".py",
   "mimetype": "text/x-python",
   "name": "python",
   "nbconvert_exporter": "python",
   "pygments_lexer": "ipython3",
   "version": "3.9.13"
  }
 },
 "nbformat": 4,
 "nbformat_minor": 2
}
