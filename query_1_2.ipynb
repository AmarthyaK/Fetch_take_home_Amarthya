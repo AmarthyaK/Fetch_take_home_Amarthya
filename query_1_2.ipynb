{
 "cells": [
  {
   "cell_type": "code",
   "execution_count": 41,
   "metadata": {},
   "outputs": [],
   "source": [
    "import pandas as pd\n",
    "import numpy as np\n",
    "import os\n",
    "\n",
    "import datetime\n",
    "from prettytable import PrettyTable\n",
    "import pymysql\n",
    "import yaml\n",
    "from sqlalchemy import create_engine\n",
    "from sqlalchemy import text\n"
   ]
  },
  {
   "cell_type": "code",
   "execution_count": 42,
   "metadata": {},
   "outputs": [],
   "source": [
    "root_dir = os.getcwd()"
   ]
  },
  {
   "cell_type": "code",
   "execution_count": 43,
   "metadata": {},
   "outputs": [],
   "source": [
    "# Function to read YAML file\n",
    "def read_yaml(file_path):\n",
    "    with open(file_path, 'r') as file:\n",
    "        try:\n",
    "            # Load the YAML content into a Python dictionary\n",
    "            data = yaml.safe_load(file)\n",
    "            return data\n",
    "        except yaml.YAMLError as exc:\n",
    "            print(f\"Error reading YAML file: {exc}\")\n",
    "            return None"
   ]
  },
  {
   "cell_type": "code",
   "execution_count": 44,
   "metadata": {},
   "outputs": [],
   "source": [
    "file_path = os.path.join(root_dir,'MYSQL_user_config.yaml')\n",
    "config = read_yaml(file_path)\n",
    "\n",
    "user = config.get('MYSQL_credentials')['user']\n",
    "password = config.get('MYSQL_credentials')['password']\n",
    "host = config.get('MYSQL_credentials')['host']\n",
    "port = config.get('MYSQL_credentials')['port']"
   ]
  },
  {
   "cell_type": "code",
   "execution_count": 45,
   "metadata": {},
   "outputs": [],
   "source": [
    "def run_query(engine,query):\n",
    "    try:\n",
    "        with engine.connect() as connection:\n",
    "            result = connection.execute(text(query))\n",
    "            return result.fetchall()\n",
    "    except Exception as e:\n",
    "        print(f\"Error in the query -> {e}\")"
   ]
  },
  {
   "cell_type": "code",
   "execution_count": 46,
   "metadata": {},
   "outputs": [],
   "source": [
    "db_url = f'mysql+pymysql://{user}:{password}@{host}:{port}'\n",
    "db_name = \"FETCH_DB\"\n",
    "engine = create_engine(f'{db_url}'+'/'+f'{db_name}')"
   ]
  },
  {
   "cell_type": "markdown",
   "metadata": {},
   "source": [
    "### What are the top 5 brands by receipts scanned for most recent month?"
   ]
  },
  {
   "cell_type": "markdown",
   "metadata": {},
   "source": [
    "Here are two ideas to make the query more flexible, to incorporate the following things.\n",
    "1) Definition of Top Brand\n",
    "2) Scanned Month\n",
    "\n",
    "\"Top Brand\" can be defined in several ways, depending on the context. Some possible definitions include:\n",
    "\n",
    "i) Brands appearing in the highest number of unique receipts: This measures how many distinct receipts contain items from the brand, regardless of how many items are from that brand on each receipt.\n",
    "\n",
    "ii) Brands that have been awarded the highest total points: This tracks the total number of points awarded to a brand across all receipts, reflecting the overall value or loyalty associated with the brand.\n",
    "\n",
    "iii) Brands with the highest number of occurrences on all receipts: This measures the total number of times items from the brand appear across all receipts, counting every instance where an item from the brand is scanned, even if multiple items from the same brand are present on a single receipt."
   ]
  },
  {
   "cell_type": "markdown",
   "metadata": {},
   "source": [
    "To offer more flexibility, the following query takes care of user defined month (also including the option of recent_month)"
   ]
  },
  {
   "cell_type": "markdown",
   "metadata": {},
   "source": [
    "Note that, as discussed in the Data Quality Section about brand and BrandCodes, since the best possible way to relate receipts and brands is by brandCode which is half empty, the imputing method of extracting the first word from description is used below."
   ]
  },
  {
   "cell_type": "code",
   "execution_count": 47,
   "metadata": {},
   "outputs": [],
   "source": [
    "## Definition of TopBrand\n",
    "\n",
    "brands_in_unique_receipts = False\n",
    "brands_with_highest_points = True\n",
    "total_brand_occurences_in_all_receipts = False\n",
    "\n",
    "##Setting Recent_month\n",
    "\n",
    "most_recent_month = False\n",
    "user_defined_month = '202101'\n",
    "\n",
    "if most_recent_month == True:\n",
    "    set_month = '(SELECT DATE_FORMAT(MAX(scanned_date_time),\\'%Y%m\\') FROM receipts)'\n",
    "else:\n",
    "    set_month = user_defined_month\n"
   ]
  },
  {
   "cell_type": "code",
   "execution_count": 48,
   "metadata": {},
   "outputs": [
    {
     "name": "stdout",
     "output_type": "stream",
     "text": [
      "Error in the query -> This result object does not return rows. It has been closed automatically.\n"
     ]
    }
   ],
   "source": [
    "set_most_recent_month_query = f\"SET @MOST_RECENT_MONTH = {set_month};\"\n",
    "run_query(engine,query = set_most_recent_month_query)\n",
    "\n",
    "if brands_in_unique_receipts:\n",
    "    agg_func = 'COUNT(DISTINCT RR.receipt_id)'\n",
    "    table_col_name = 'Unique_Receipts'\n",
    "elif brands_with_highest_points:\n",
    "    agg_func = 'SUM(COALESCE(RR.pointsEarned,0))'\n",
    "    table_col_name = 'Total Points Earned'\n",
    "elif total_brand_occurences_in_all_receipts:\n",
    "    agg_func = 'COUNT(RR.receipt_id)'\n",
    "    table_col_name = 'Total Entries'"
   ]
  },
  {
   "cell_type": "code",
   "execution_count": 49,
   "metadata": {},
   "outputs": [
    {
     "name": "stdout",
     "output_type": "stream",
     "text": [
      "+----------------+---------------------+------------+\n",
      "|   brandCode    | Total Points Earned | Brand_Rank |\n",
      "+----------------+---------------------+------------+\n",
      "|     MILLER     |       52530.0       |     1      |\n",
      "|    HUGGIES     |       20618.5       |     2      |\n",
      "| BEN AND JERRYS |       20548.6       |     3      |\n",
      "|     KNORR      |        7003.5       |     4      |\n",
      "|    KLEENEX     |        4440.3       |     5      |\n",
      "+----------------+---------------------+------------+\n"
     ]
    }
   ],
   "source": [
    "query_1 = f\"\"\"\n",
    "SELECT brand,ROUND(score,4) AS score,\n",
    "DENSE_RANK() OVER(ORDER BY score DESC) AS brandRank\n",
    "FROM \n",
    "(\n",
    "SELECT COALESCE(RR.brandCode,RR.description_first_word) AS brand,\n",
    "{agg_func} AS score\n",
    "FROM rewards_receipts RR\n",
    "INNER JOIN receipts R\n",
    "ON RR.receipt_id = R.receipt_id\n",
    "WHERE DATE_FORMAT(R.scanned_date_time,'%Y%m') = @MOST_RECENT_MONTH\n",
    "GROUP BY COALESCE(RR.brandCode,RR.description_first_word)\n",
    ") S1\n",
    "WHERE brand IS NOT NULL AND brand != 'ITEM' AND score != 0\n",
    "LIMIT 5;\n",
    "\"\"\"\n",
    "results=run_query(engine,query_1)\n",
    "\n",
    "columns = [\"brandCode\", table_col_name, \"Brand_Rank\"]\n",
    "table = PrettyTable()\n",
    "table.field_names = columns\n",
    "\n",
    "\n",
    "for row in results:\n",
    "    table.add_row(row)\n",
    "\n",
    "print(table)"
   ]
  },
  {
   "cell_type": "code",
   "execution_count": 50,
   "metadata": {},
   "outputs": [
    {
     "name": "stdout",
     "output_type": "stream",
     "text": [
      "+----------------+-----------------------------+--------------------+------------------------------+---------------------+\n",
      "|   brandCode    | Current_Total Points Earned | Current_Brand_Rank | Previous_Total Points Earned | Previous_Brand_Rank |\n",
      "+----------------+-----------------------------+--------------------+------------------------------+---------------------+\n",
      "|     MILLER     |           52530.0           |         1          |             None             |         None        |\n",
      "|    HUGGIES     |           20618.5           |         2          |             None             |         None        |\n",
      "| BEN AND JERRYS |           20548.6           |         3          |             None             |         None        |\n",
      "|     KNORR      |            7003.5           |         4          |             None             |         None        |\n",
      "|    KLEENEX     |            4440.3           |         5          |             None             |         None        |\n",
      "| CRACKER BARREL |            2814.0           |         6          |             None             |         None        |\n",
      "|     OSCAR      |            2180.8           |         7          |             None             |         None        |\n",
      "|    PLANTERS    |            1556.7           |         8          |             None             |         None        |\n",
      "|     BRAND      |            1000.0           |         9          |             None             |         None        |\n",
      "|    SWANSON     |            613.8            |         10         |             None             |         None        |\n",
      "+----------------+-----------------------------+--------------------+------------------------------+---------------------+\n"
     ]
    }
   ],
   "source": [
    "#### Query 2\n",
    "\n",
    "query_2 = f\"\"\"\n",
    "SELECT S2.brand AS Brand, S2.score AS CurrentScore, S2.brandRank AS CurrentBrandRank,S3.score AS PreviousScore, S3.brandRank AS PreviousBrandRank\n",
    "FROM\n",
    "(\n",
    "    SELECT brand,ROUND(score,4) AS score,\n",
    "    DENSE_RANK() OVER(ORDER BY score DESC) AS brandRank\n",
    "    FROM \n",
    "    (\n",
    "    SELECT COALESCE(RR.brandCode,RR.description_first_word) AS brand,\n",
    "    {agg_func} AS score\n",
    "    FROM rewards_receipts RR\n",
    "    INNER JOIN receipts R\n",
    "    ON RR.receipt_id = R.receipt_id\n",
    "    WHERE DATE_FORMAT(R.scanned_date_time,'%Y%m') = @MOST_RECENT_MONTH\n",
    "    GROUP BY COALESCE(RR.brandCode,RR.description_first_word)\n",
    "    ) S1\n",
    "    WHERE brand IS NOT NULL AND brand != 'ITEM' AND score != 0\n",
    "    LIMIT 10\n",
    ") S2\n",
    "LEFT JOIN\n",
    "(\n",
    "    SELECT brand,ROUND(score,4) AS score,\n",
    "    DENSE_RANK() OVER(ORDER BY score DESC) AS brandRank\n",
    "    FROM \n",
    "    (\n",
    "    SELECT COALESCE(RR.brandCode,RR.description_first_word) AS brand,\n",
    "    {agg_func} AS score\n",
    "    FROM rewards_receipts RR\n",
    "    INNER JOIN receipts R\n",
    "    ON RR.receipt_id = R.receipt_id\n",
    "    WHERE DATE_FORMAT(R.scanned_date_time,'%Y%m') = DATE_FORMAT(DATE_SUB(STR_TO_DATE(CONCAT(@Most_recent_month, '01'), '%Y%m%d'), INTERVAL 1 MONTH), '%Y%m')\n",
    "\n",
    "    GROUP BY COALESCE(RR.brandCode,RR.description_first_word)\n",
    "    ) S1\n",
    "    WHERE brand IS NOT NULL AND brand != 'ITEM'\n",
    "\n",
    ") S3\n",
    "ON S2.brand = S3.brand;\n",
    "\"\"\"\n",
    "results=run_query(engine,query_2)\n",
    "\n",
    "columns = [\"brandCode\", 'Current_'+table_col_name, \"Current_Brand_Rank\",'Previous_'+table_col_name, \"Previous_Brand_Rank\"]\n",
    "table = PrettyTable()\n",
    "table.field_names = columns\n",
    "\n",
    "\n",
    "for row in results:\n",
    "    table.add_row(row)\n",
    "\n",
    "print(table)\n"
   ]
  }
 ],
 "metadata": {
  "kernelspec": {
   "display_name": "base",
   "language": "python",
   "name": "python3"
  },
  "language_info": {
   "codemirror_mode": {
    "name": "ipython",
    "version": 3
   },
   "file_extension": ".py",
   "mimetype": "text/x-python",
   "name": "python",
   "nbconvert_exporter": "python",
   "pygments_lexer": "ipython3",
   "version": "3.9.13"
  }
 },
 "nbformat": 4,
 "nbformat_minor": 2
}
