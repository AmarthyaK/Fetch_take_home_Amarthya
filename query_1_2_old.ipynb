{
 "cells": [
  {
   "cell_type": "code",
   "execution_count": 82,
   "metadata": {},
   "outputs": [],
   "source": [
    "## Importing Libraries\n",
    "import pandas as pd\n",
    "import numpy as np\n",
    "import os\n",
    "\n",
    "import datetime\n",
    "from prettytable import PrettyTable\n",
    "import pymysql\n",
    "import yaml\n",
    "from sqlalchemy import create_engine, text\n",
    "\n"
   ]
  },
  {
   "cell_type": "code",
   "execution_count": 83,
   "metadata": {},
   "outputs": [],
   "source": [
    "## Root Directory to read the configuration files\n",
    "root_dir = os.getcwd()"
   ]
  },
  {
   "cell_type": "code",
   "execution_count": 84,
   "metadata": {},
   "outputs": [],
   "source": [
    "## Fucntions\n",
    "\n",
    "# Function to read YAML file\n",
    "def read_yaml(file_path):\n",
    "    with open(file_path, 'r') as file:\n",
    "        try:\n",
    "            # Load the YAML content into a Python dictionary\n",
    "            data = yaml.safe_load(file)\n",
    "            return data\n",
    "        except yaml.YAMLError as exc:\n",
    "            print(f\"Error reading YAML file: {exc}\")\n",
    "            return None\n",
    "\n",
    "# Function to execute the query\n",
    "def run_query(engine,query):\n",
    "    try:\n",
    "        with engine.connect() as connection:\n",
    "            result = connection.execute(text(query))\n",
    "            return result.fetchall()\n",
    "    except Exception as e:\n",
    "        print(f\"Error in the query -> {e}\")"
   ]
  },
  {
   "cell_type": "code",
   "execution_count": 85,
   "metadata": {},
   "outputs": [],
   "source": [
    "## Reading Configuration file\n",
    "\n",
    "file_path = os.path.join(root_dir,'MYSQL_user_config.yaml')\n",
    "config = read_yaml(file_path)\n",
    "\n",
    "user = config.get('MYSQL_credentials')['user']\n",
    "password = config.get('MYSQL_credentials')['password']\n",
    "host = config.get('MYSQL_credentials')['host']\n",
    "port = config.get('MYSQL_credentials')['port']"
   ]
  },
  {
   "cell_type": "code",
   "execution_count": 86,
   "metadata": {},
   "outputs": [],
   "source": [
    "## Engine Configuration\n",
    "\n",
    "db_url = f'mysql+pymysql://{user}:{password}@{host}:{port}'\n",
    "db_name = \"FETCH_DB\"\n",
    "engine = create_engine(f'{db_url}'+'/'+f'{db_name}')"
   ]
  },
  {
   "cell_type": "markdown",
   "metadata": {},
   "source": [
    "### What are the top 5 brands by receipts scanned for most recent month?"
   ]
  },
  {
   "cell_type": "markdown",
   "metadata": {},
   "source": [
    "Brands with the highest number of occurrences on all receipts: This measures the total number of times items from the brand appear across all receipts, counting every instance where an item from the brand is scanned."
   ]
  },
  {
   "cell_type": "markdown",
   "metadata": {},
   "source": [
    "Note that, as discussed in the Data Quality Section about brand and BrandCodes, since the best possible way to relate receipts and brands is by brandCode which is half empty, the imputing method of extracting the first word from description is used below. Additionally, brandCode is still treated as the primary identifier for naming."
   ]
  },
  {
   "cell_type": "markdown",
   "metadata": {},
   "source": [
    "The most recent month is 2021-01-03, which is dynamically calculated and not hard-coded. The query below ensures this is handled appropriately."
   ]
  },
  {
   "cell_type": "code",
   "execution_count": 87,
   "metadata": {},
   "outputs": [
    {
     "name": "stdout",
     "output_type": "stream",
     "text": [
      "+-----------+------------------+------------+\n",
      "| brandCode | Receipts Scanned | Brand_Rank |\n",
      "+-----------+------------------+------------+\n",
      "|  MUELLER  |        11        |     1      |\n",
      "|  THINDUST |        11        |     1      |\n",
      "+-----------+------------------+------------+\n"
     ]
    }
   ],
   "source": [
    "#### For most recent month:\n",
    "query_1 = f\"\"\"\n",
    "SELECT brand,ROUND(score,4) AS score,\n",
    "DENSE_RANK() OVER(ORDER BY score DESC) AS brandRank\n",
    "FROM \n",
    "(\n",
    "SELECT COALESCE(RR.brandCode,RR.description_first_word) AS brand,\n",
    "COUNT(RR.receipt_id) AS score\n",
    "FROM rewards_receipts RR\n",
    "INNER JOIN receipts R\n",
    "ON RR.receipt_id = R.receipt_id\n",
    "WHERE DATE_FORMAT(R.scanned_date_time,'%Y%m') = (SELECT DATE_FORMAT(MAX(scanned_date_time),\\'%Y%m\\') FROM receipts)\n",
    "GROUP BY COALESCE(RR.brandCode,RR.description_first_word)\n",
    ") S1\n",
    "WHERE brand IS NOT NULL AND brand != 'ITEM' AND score != 0\n",
    "LIMIT 10;\n",
    "\"\"\"\n",
    "results=run_query(engine,query_1)\n",
    "\n",
    "columns = [\"brandCode\", \"Receipts Scanned\", \"Brand_Rank\"]\n",
    "table = PrettyTable()\n",
    "table.field_names = columns\n",
    "\n",
    "for row in results:\n",
    "    table.add_row(row)\n",
    "\n",
    "print(table)\n"
   ]
  },
  {
   "cell_type": "markdown",
   "metadata": {},
   "source": [
    "Since there are not atleast 5 distinct Brands, We could explore the top 5 brands for previous months."
   ]
  },
  {
   "cell_type": "markdown",
   "metadata": {},
   "source": [
    "#### For month = '2021-02'"
   ]
  },
  {
   "cell_type": "code",
   "execution_count": 88,
   "metadata": {},
   "outputs": [
    {
     "name": "stdout",
     "output_type": "stream",
     "text": [
      "Error in the query -> This result object does not return rows. It has been closed automatically.\n",
      "+-----------+------------------+------------+\n",
      "| brandCode | Receipts Scanned | Brand_Rank |\n",
      "+-----------+------------------+------------+\n",
      "|  MUELLER  |        29        |     1      |\n",
      "|  THINDUST |        29        |     1      |\n",
      "|  FLIPBELT |        28        |     2      |\n",
      "|   HEINZ   |        10        |     3      |\n",
      "|   BRAND   |        3         |     4      |\n",
      "+-----------+------------------+------------+\n"
     ]
    }
   ],
   "source": [
    "## Hard coded month\n",
    "set_month = '202102'\n",
    "set_most_recent_month_query = f\"SET @MOST_RECENT_MONTH = {set_month};\"\n",
    "run_query(engine,query = set_most_recent_month_query)\n",
    "\n",
    "query_1 = f\"\"\"\n",
    "SELECT brand,ROUND(score,4) AS score,\n",
    "DENSE_RANK() OVER(ORDER BY score DESC) AS brandRank\n",
    "FROM \n",
    "(\n",
    "SELECT COALESCE(RR.brandCode,RR.description_first_word) AS brand,\n",
    "COUNT(RR.receipt_id) AS score\n",
    "FROM rewards_receipts RR\n",
    "INNER JOIN receipts R\n",
    "ON RR.receipt_id = R.receipt_id\n",
    "WHERE DATE_FORMAT(R.scanned_date_time,'%Y%m') = @MOST_RECENT_MONTH\n",
    "GROUP BY COALESCE(RR.brandCode,RR.description_first_word)\n",
    ") S1\n",
    "WHERE brand IS NOT NULL AND brand != 'ITEM' AND score != 0\n",
    "LIMIT 5;\n",
    "\"\"\"\n",
    "results=run_query(engine,query_1)\n",
    "\n",
    "columns = [\"brandCode\", \"Receipts Scanned\", \"Brand_Rank\"]\n",
    "table = PrettyTable()\n",
    "table.field_names = columns\n",
    "\n",
    "for row in results:\n",
    "    table.add_row(row)\n",
    "\n",
    "print(table)"
   ]
  },
  {
   "cell_type": "markdown",
   "metadata": {},
   "source": [
    "#### For Month = '202101'"
   ]
  },
  {
   "cell_type": "code",
   "execution_count": 89,
   "metadata": {},
   "outputs": [
    {
     "name": "stdout",
     "output_type": "stream",
     "text": [
      "Error in the query -> This result object does not return rows. It has been closed automatically.\n",
      "+----------------+------------------+------------+\n",
      "|   brandCode    | Receipts Scanned | Brand_Rank |\n",
      "+----------------+------------------+------------+\n",
      "|     HY-VEE     |       296        |     1      |\n",
      "| BEN AND JERRYS |       180        |     2      |\n",
      "|       PC       |       138        |     3      |\n",
      "|   KLARBRUNN    |       133        |     4      |\n",
      "|     PEPSI      |       103        |     5      |\n",
      "+----------------+------------------+------------+\n"
     ]
    }
   ],
   "source": [
    "## Hard coded month\n",
    "set_month = '202101'\n",
    "set_most_recent_month_query = f\"SET @MOST_RECENT_MONTH = {set_month};\"\n",
    "run_query(engine,query = set_most_recent_month_query)\n",
    "\n",
    "query_1 = f\"\"\"\n",
    "SELECT brand,ROUND(score,4) AS score,\n",
    "DENSE_RANK() OVER(ORDER BY score DESC) AS brandRank\n",
    "FROM \n",
    "(\n",
    "SELECT COALESCE(RR.brandCode,RR.description_first_word) AS brand,\n",
    "COUNT(RR.receipt_id) AS score\n",
    "FROM rewards_receipts RR\n",
    "INNER JOIN receipts R\n",
    "ON RR.receipt_id = R.receipt_id\n",
    "WHERE DATE_FORMAT(R.scanned_date_time,'%Y%m') = @MOST_RECENT_MONTH\n",
    "GROUP BY COALESCE(RR.brandCode,RR.description_first_word)\n",
    ") S1\n",
    "WHERE brand IS NOT NULL AND brand != 'ITEM' AND score != 0\n",
    "LIMIT 5;\n",
    "\"\"\"\n",
    "results=run_query(engine,query_1)\n",
    "\n",
    "columns = [\"brandCode\", \"Receipts Scanned\", \"Brand_Rank\"]\n",
    "table = PrettyTable()\n",
    "table.field_names = columns\n",
    "\n",
    "for row in results:\n",
    "    table.add_row(row)\n",
    "\n",
    "print(table)"
   ]
  },
  {
   "cell_type": "markdown",
   "metadata": {},
   "source": [
    "Apart from the brand 'PC', the other top 5 brands are reasonable. This is due to the limitation of the imputation method discussed earlier. In some cases, the brand codes may not be accurate when extracted from the description."
   ]
  },
  {
   "cell_type": "markdown",
   "metadata": {},
   "source": [
    "### 2) How does the ranking of the top 5 brands by receipts scanned for the recent month compare to the ranking for the previous month"
   ]
  },
  {
   "cell_type": "markdown",
   "metadata": {},
   "source": [
    "#### For the most Recent month"
   ]
  },
  {
   "cell_type": "code",
   "execution_count": 95,
   "metadata": {},
   "outputs": [
    {
     "name": "stdout",
     "output_type": "stream",
     "text": [
      "+-----------+--------------------------+--------------------+---------------------------+---------------------+\n",
      "| brandCode | Current_Receipts_scanned | Current_Brand_Rank | Previous_Receipts_scanned | Previous_Brand_Rank |\n",
      "+-----------+--------------------------+--------------------+---------------------------+---------------------+\n",
      "|  MUELLER  |            11            |         1          |             29            |          1          |\n",
      "|  THINDUST |            11            |         1          |             29            |          1          |\n",
      "+-----------+--------------------------+--------------------+---------------------------+---------------------+\n"
     ]
    }
   ],
   "source": [
    "#### Query 2\n",
    "query_2 = f\"\"\"\n",
    "SELECT S2.brand AS Brand, S2.score AS CurrentScore, S2.brandRank AS CurrentBrandRank,S3.score AS PreviousScore, S3.brandRank AS PreviousBrandRank\n",
    "FROM\n",
    "(\n",
    "    SELECT brand,ROUND(score,4) AS score,\n",
    "    DENSE_RANK() OVER(ORDER BY score DESC) AS brandRank\n",
    "    FROM \n",
    "    (\n",
    "    SELECT COALESCE(RR.brandCode,RR.description_first_word) AS brand,\n",
    "    COUNT(RR.receipt_id) AS score\n",
    "    FROM rewards_receipts RR\n",
    "    INNER JOIN receipts R\n",
    "    ON RR.receipt_id = R.receipt_id\n",
    "    WHERE DATE_FORMAT(R.scanned_date_time,'%Y%m') = (SELECT DATE_FORMAT(MAX(scanned_date_time),\\'%Y%m\\') FROM receipts)\n",
    "    GROUP BY COALESCE(RR.brandCode,RR.description_first_word)\n",
    "    ) S1\n",
    "    WHERE brand IS NOT NULL AND brand != 'ITEM' AND score != 0\n",
    "    LIMIT 5\n",
    ") S2\n",
    "LEFT JOIN\n",
    "(\n",
    "    SELECT brand,ROUND(score,4) AS score,\n",
    "    DENSE_RANK() OVER(ORDER BY score DESC) AS brandRank\n",
    "    FROM \n",
    "    (\n",
    "    SELECT COALESCE(RR.brandCode,RR.description_first_word) AS brand,\n",
    "    COUNT(RR.receipt_id) AS score\n",
    "    FROM rewards_receipts RR\n",
    "    INNER JOIN receipts R\n",
    "    ON RR.receipt_id = R.receipt_id\n",
    "    WHERE DATE_FORMAT(R.scanned_date_time,'%Y%m') = DATE_FORMAT(DATE_SUB(STR_TO_DATE(CONCAT((SELECT DATE_FORMAT(MAX(scanned_date_time),\\'%Y%m\\') FROM receipts), '01'), '%Y%m%d'), INTERVAL 1 MONTH), '%Y%m')\n",
    "\n",
    "    GROUP BY COALESCE(RR.brandCode,RR.description_first_word)\n",
    "    ) S1\n",
    "    WHERE brand IS NOT NULL AND brand != 'ITEM'\n",
    "\n",
    ") S3\n",
    "ON S2.brand = S3.brand;\n",
    "\"\"\"\n",
    "results=run_query(engine,query_2)\n",
    "\n",
    "columns = [\"brandCode\", 'Current_Receipts_scanned', \"Current_Brand_Rank\",'Previous_Receipts_scanned', \"Previous_Brand_Rank\"]\n",
    "table = PrettyTable()\n",
    "table.field_names = columns\n",
    "\n",
    "\n",
    "for row in results:\n",
    "    table.add_row(row)\n",
    "\n",
    "print(table)\n"
   ]
  },
  {
   "cell_type": "markdown",
   "metadata": {},
   "source": [
    "#### For month = '202102'"
   ]
  },
  {
   "cell_type": "code",
   "execution_count": 96,
   "metadata": {},
   "outputs": [
    {
     "name": "stdout",
     "output_type": "stream",
     "text": [
      "Error in the query -> This result object does not return rows. It has been closed automatically.\n",
      "+-----------+--------------------------+--------------------+---------------------------+---------------------+\n",
      "| brandCode | Current_Receipts_scanned | Current_Brand_Rank | Previous_Receipts_scanned | Previous_Brand_Rank |\n",
      "+-----------+--------------------------+--------------------+---------------------------+---------------------+\n",
      "|  MUELLER  |            29            |         1          |             4             |          51         |\n",
      "|  THINDUST |            29            |         1          |             4             |          51         |\n",
      "|  FLIPBELT |            28            |         2          |             22            |          33         |\n",
      "|   HEINZ   |            10            |         3          |             22            |          33         |\n",
      "|   BRAND   |            3             |         4          |             19            |          36         |\n",
      "+-----------+--------------------------+--------------------+---------------------------+---------------------+\n"
     ]
    }
   ],
   "source": [
    "#### Query 2\n",
    "set_month = '202102'\n",
    "set_most_recent_month_query = f\"SET @MOST_RECENT_MONTH = {set_month};\"\n",
    "run_query(engine,query = set_most_recent_month_query)\n",
    "\n",
    "query_2 = f\"\"\"\n",
    "SELECT S2.brand AS Brand, S2.score AS CurrentScore, S2.brandRank AS CurrentBrandRank,S3.score AS PreviousScore, S3.brandRank AS PreviousBrandRank\n",
    "FROM\n",
    "(\n",
    "    SELECT brand,ROUND(score,4) AS score,\n",
    "    DENSE_RANK() OVER(ORDER BY score DESC) AS brandRank\n",
    "    FROM \n",
    "    (\n",
    "    SELECT COALESCE(RR.brandCode,RR.description_first_word) AS brand,\n",
    "    COUNT(RR.receipt_id) AS score\n",
    "    FROM rewards_receipts RR\n",
    "    INNER JOIN receipts R\n",
    "    ON RR.receipt_id = R.receipt_id\n",
    "    WHERE DATE_FORMAT(R.scanned_date_time,'%Y%m') = @MOST_RECENT_MONTH\n",
    "    GROUP BY COALESCE(RR.brandCode,RR.description_first_word)\n",
    "    ) S1\n",
    "    WHERE brand IS NOT NULL AND brand != 'ITEM' AND score != 0\n",
    "    LIMIT 5\n",
    ") S2\n",
    "LEFT JOIN\n",
    "(\n",
    "    SELECT brand,ROUND(score,4) AS score,\n",
    "    DENSE_RANK() OVER(ORDER BY score DESC) AS brandRank\n",
    "    FROM \n",
    "    (\n",
    "    SELECT COALESCE(RR.brandCode,RR.description_first_word) AS brand,\n",
    "    COUNT(RR.receipt_id) AS score\n",
    "    FROM rewards_receipts RR\n",
    "    INNER JOIN receipts R\n",
    "    ON RR.receipt_id = R.receipt_id\n",
    "    WHERE DATE_FORMAT(R.scanned_date_time,'%Y%m') = DATE_FORMAT(DATE_SUB(STR_TO_DATE(CONCAT(@Most_recent_month, '01'), '%Y%m%d'), INTERVAL 1 MONTH), '%Y%m')\n",
    "\n",
    "    GROUP BY COALESCE(RR.brandCode,RR.description_first_word)\n",
    "    ) S1\n",
    "    WHERE brand IS NOT NULL AND brand != 'ITEM'\n",
    "\n",
    ") S3\n",
    "ON S2.brand = S3.brand;\n",
    "\"\"\"\n",
    "results=run_query(engine,query_2)\n",
    "\n",
    "columns = [\"brandCode\", 'Current_Receipts_scanned', \"Current_Brand_Rank\",'Previous_Receipts_scanned', \"Previous_Brand_Rank\"]\n",
    "table = PrettyTable()\n",
    "table.field_names = columns\n",
    "\n",
    "\n",
    "for row in results:\n",
    "    table.add_row(row)\n",
    "\n",
    "print(table)\n"
   ]
  },
  {
   "cell_type": "code",
   "execution_count": 97,
   "metadata": {},
   "outputs": [
    {
     "name": "stdout",
     "output_type": "stream",
     "text": [
      "Error in the query -> This result object does not return rows. It has been closed automatically.\n",
      "+----------------+--------------------------+--------------------+---------------------------+---------------------+\n",
      "|   brandCode    | Current_Receipts_scanned | Current_Brand_Rank | Previous_Receipts_scanned | Previous_Brand_Rank |\n",
      "+----------------+--------------------------+--------------------+---------------------------+---------------------+\n",
      "|     HY-VEE     |           296            |         1          |            None           |         None        |\n",
      "| BEN AND JERRYS |           180            |         2          |            None           |         None        |\n",
      "|       PC       |           138            |         3          |            None           |         None        |\n",
      "|   KLARBRUNN    |           133            |         4          |            None           |         None        |\n",
      "|     PEPSI      |           103            |         5          |            None           |         None        |\n",
      "+----------------+--------------------------+--------------------+---------------------------+---------------------+\n"
     ]
    }
   ],
   "source": [
    "#### For Month = '202101'\n",
    "\n",
    "#### Query 2\n",
    "set_month = '202101'\n",
    "set_most_recent_month_query = f\"SET @MOST_RECENT_MONTH = {set_month};\"\n",
    "run_query(engine,query = set_most_recent_month_query)\n",
    "\n",
    "query_2 = f\"\"\"\n",
    "SELECT S2.brand AS Brand, S2.score AS CurrentScore, S2.brandRank AS CurrentBrandRank,S3.score AS PreviousScore, S3.brandRank AS PreviousBrandRank\n",
    "FROM\n",
    "(\n",
    "    SELECT brand,ROUND(score,4) AS score,\n",
    "    DENSE_RANK() OVER(ORDER BY score DESC) AS brandRank\n",
    "    FROM \n",
    "    (\n",
    "    SELECT COALESCE(RR.brandCode,RR.description_first_word) AS brand,\n",
    "    COUNT(RR.receipt_id) AS score\n",
    "    FROM rewards_receipts RR\n",
    "    INNER JOIN receipts R\n",
    "    ON RR.receipt_id = R.receipt_id\n",
    "    WHERE DATE_FORMAT(R.scanned_date_time,'%Y%m') = @MOST_RECENT_MONTH\n",
    "    GROUP BY COALESCE(RR.brandCode,RR.description_first_word)\n",
    "    ) S1\n",
    "    WHERE brand IS NOT NULL AND brand != 'ITEM' AND score != 0\n",
    "    LIMIT 5\n",
    ") S2\n",
    "LEFT JOIN\n",
    "(\n",
    "    SELECT brand,ROUND(score,4) AS score,\n",
    "    DENSE_RANK() OVER(ORDER BY score DESC) AS brandRank\n",
    "    FROM \n",
    "    (\n",
    "    SELECT COALESCE(RR.brandCode,RR.description_first_word) AS brand,\n",
    "    COUNT(RR.receipt_id) AS score\n",
    "    FROM rewards_receipts RR\n",
    "    INNER JOIN receipts R\n",
    "    ON RR.receipt_id = R.receipt_id\n",
    "    WHERE DATE_FORMAT(R.scanned_date_time,'%Y%m') = DATE_FORMAT(DATE_SUB(STR_TO_DATE(CONCAT(@Most_recent_month, '01'), '%Y%m%d'), INTERVAL 1 MONTH), '%Y%m')\n",
    "\n",
    "    GROUP BY COALESCE(RR.brandCode,RR.description_first_word)\n",
    "    ) S1\n",
    "    WHERE brand IS NOT NULL AND brand != 'ITEM'\n",
    "\n",
    ") S3\n",
    "ON S2.brand = S3.brand;\n",
    "\"\"\"\n",
    "results=run_query(engine,query_2)\n",
    "\n",
    "columns = [\"brandCode\", 'Current_Receipts_scanned', \"Current_Brand_Rank\",'Previous_Receipts_scanned', \"Previous_Brand_Rank\"]\n",
    "table = PrettyTable()\n",
    "table.field_names = columns\n",
    "\n",
    "\n",
    "for row in results:\n",
    "    table.add_row(row)\n",
    "\n",
    "print(table)\n"
   ]
  }
 ],
 "metadata": {
  "kernelspec": {
   "display_name": "base",
   "language": "python",
   "name": "python3"
  },
  "language_info": {
   "codemirror_mode": {
    "name": "ipython",
    "version": 3
   },
   "file_extension": ".py",
   "mimetype": "text/x-python",
   "name": "python",
   "nbconvert_exporter": "python",
   "pygments_lexer": "ipython3",
   "version": "3.9.13"
  }
 },
 "nbformat": 4,
 "nbformat_minor": 2
}
