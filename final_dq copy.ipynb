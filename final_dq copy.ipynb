{
 "cells": [
  {
   "cell_type": "code",
   "execution_count": 66,
   "metadata": {},
   "outputs": [],
   "source": [
    "## Importing necessary libraries\n",
    "import pandas as pd\n",
    "import numpy as np\n",
    "import os\n",
    "import json\n",
    "import jsonlines\n",
    "import datetime\n",
    "import great_expectations as ge\n",
    "from sqlalchemy import create_engine\n",
    "import pymysql\n",
    "import yaml\n",
    "from sqlalchemy import create_engine\n",
    "from sqlalchemy import text\n",
    "import warnings\n",
    "warnings.filterwarnings(\"ignore\")\n",
    "\n",
    "pd.set_option('display.max_rows', 100)  # Set maximum rows to 100\n",
    "pd.set_option('display.max_columns', 100) # Set maximum columns to 20"
   ]
  },
  {
   "cell_type": "code",
   "execution_count": 67,
   "metadata": {},
   "outputs": [],
   "source": [
    "## reading flattened csv files.\n",
    "\n",
    "root_dir = os.getcwd()\n",
    "\n",
    "brands_df = pd.read_csv(os.path.join(root_dir,'brands.csv'))\n",
    "users_df = pd.read_csv(os.path.join(root_dir,'users.csv'))\n",
    "receipts_df = pd.read_csv(os.path.join(root_dir,'receipts.csv'))\n",
    "rewards_receipts_df = pd.read_csv(os.path.join(root_dir,'rewards_receipts.csv'))"
   ]
  },
  {
   "cell_type": "code",
   "execution_count": 68,
   "metadata": {},
   "outputs": [],
   "source": [
    "## Functions:\n",
    "# Function to read YAML file\n",
    "def read_yaml(file_path):\n",
    "    with open(file_path, 'r') as file:\n",
    "        try:\n",
    "            # Load the YAML content into a Python dictionary\n",
    "            data = yaml.safe_load(file)\n",
    "            return data\n",
    "        except yaml.YAMLError as exc:\n",
    "            print(f\"Error reading YAML file: {exc}\")\n",
    "            return None"
   ]
  },
  {
   "cell_type": "markdown",
   "metadata": {},
   "source": [
    "#### Data Quality Assessment - Users table"
   ]
  },
  {
   "cell_type": "markdown",
   "metadata": {},
   "source": [
    "Overview of data quality checks for the Users table:\n",
    "1) Schema Verification: Ensuring the Schema of the table (possibly new data) be consistent with the already established schema for the Users table.\n",
    "2) Checking for Duplicates: Ensuring no duplicate records.\n",
    "3) If assigned primary key is unique: Verifying the uniqueness of the primary key.\n",
    "4) Missing values: Identifying the columns with missing values.\n",
    "5) Timestamp validation: Ensuring Last login date is after the created date.\n",
    "6) Data Type Validaton: Ensuring the appropriate data types for all the columns.\n",
    "7) Miscellaneous: Verifying the range of the columns."
   ]
  },
  {
   "cell_type": "code",
   "execution_count": 69,
   "metadata": {},
   "outputs": [
    {
     "data": {
      "text/html": [
       "<div>\n",
       "<style scoped>\n",
       "    .dataframe tbody tr th:only-of-type {\n",
       "        vertical-align: middle;\n",
       "    }\n",
       "\n",
       "    .dataframe tbody tr th {\n",
       "        vertical-align: top;\n",
       "    }\n",
       "\n",
       "    .dataframe thead th {\n",
       "        text-align: right;\n",
       "    }\n",
       "</style>\n",
       "<table border=\"1\" class=\"dataframe\">\n",
       "  <thead>\n",
       "    <tr style=\"text-align: right;\">\n",
       "      <th></th>\n",
       "      <th>active</th>\n",
       "      <th>role</th>\n",
       "      <th>signUpSource</th>\n",
       "      <th>state</th>\n",
       "      <th>user_id</th>\n",
       "      <th>created_date_time</th>\n",
       "      <th>lastLogin_date_time</th>\n",
       "    </tr>\n",
       "  </thead>\n",
       "  <tbody>\n",
       "    <tr>\n",
       "      <th>0</th>\n",
       "      <td>True</td>\n",
       "      <td>consumer</td>\n",
       "      <td>Email</td>\n",
       "      <td>WI</td>\n",
       "      <td>5ff1e194b6a9d73a3a9f1052</td>\n",
       "      <td>2021-01-03 09:24:04.800</td>\n",
       "      <td>2021-01-03 09:25:37.858</td>\n",
       "    </tr>\n",
       "    <tr>\n",
       "      <th>1</th>\n",
       "      <td>True</td>\n",
       "      <td>consumer</td>\n",
       "      <td>Email</td>\n",
       "      <td>WI</td>\n",
       "      <td>5ff1e194b6a9d73a3a9f1052</td>\n",
       "      <td>2021-01-03 09:24:04.800</td>\n",
       "      <td>2021-01-03 09:25:37.858</td>\n",
       "    </tr>\n",
       "    <tr>\n",
       "      <th>2</th>\n",
       "      <td>True</td>\n",
       "      <td>consumer</td>\n",
       "      <td>Email</td>\n",
       "      <td>WI</td>\n",
       "      <td>5ff1e194b6a9d73a3a9f1052</td>\n",
       "      <td>2021-01-03 09:24:04.800</td>\n",
       "      <td>2021-01-03 09:25:37.858</td>\n",
       "    </tr>\n",
       "    <tr>\n",
       "      <th>3</th>\n",
       "      <td>True</td>\n",
       "      <td>consumer</td>\n",
       "      <td>Email</td>\n",
       "      <td>WI</td>\n",
       "      <td>5ff1e1eacfcf6c399c274ae6</td>\n",
       "      <td>2021-01-03 09:25:30.554</td>\n",
       "      <td>2021-01-03 09:25:30.597</td>\n",
       "    </tr>\n",
       "    <tr>\n",
       "      <th>4</th>\n",
       "      <td>True</td>\n",
       "      <td>consumer</td>\n",
       "      <td>Email</td>\n",
       "      <td>WI</td>\n",
       "      <td>5ff1e194b6a9d73a3a9f1052</td>\n",
       "      <td>2021-01-03 09:24:04.800</td>\n",
       "      <td>2021-01-03 09:25:37.858</td>\n",
       "    </tr>\n",
       "  </tbody>\n",
       "</table>\n",
       "</div>"
      ],
      "text/plain": [
       "   active      role signUpSource state                   user_id  \\\n",
       "0    True  consumer        Email    WI  5ff1e194b6a9d73a3a9f1052   \n",
       "1    True  consumer        Email    WI  5ff1e194b6a9d73a3a9f1052   \n",
       "2    True  consumer        Email    WI  5ff1e194b6a9d73a3a9f1052   \n",
       "3    True  consumer        Email    WI  5ff1e1eacfcf6c399c274ae6   \n",
       "4    True  consumer        Email    WI  5ff1e194b6a9d73a3a9f1052   \n",
       "\n",
       "         created_date_time      lastLogin_date_time  \n",
       "0  2021-01-03 09:24:04.800  2021-01-03 09:25:37.858  \n",
       "1  2021-01-03 09:24:04.800  2021-01-03 09:25:37.858  \n",
       "2  2021-01-03 09:24:04.800  2021-01-03 09:25:37.858  \n",
       "3  2021-01-03 09:25:30.554  2021-01-03 09:25:30.597  \n",
       "4  2021-01-03 09:24:04.800  2021-01-03 09:25:37.858  "
      ]
     },
     "execution_count": 69,
     "metadata": {},
     "output_type": "execute_result"
    }
   ],
   "source": [
    "## Overview of the contents of the Users table\n",
    "users_df.head()"
   ]
  },
  {
   "cell_type": "markdown",
   "metadata": {},
   "source": [
    "#### 1) Schema Verification:\n"
   ]
  },
  {
   "cell_type": "code",
   "execution_count": 70,
   "metadata": {},
   "outputs": [
    {
     "data": {
      "text/plain": [
       "Index(['active', 'role', 'signUpSource', 'state', 'user_id',\n",
       "       'created_date_time', 'lastLogin_date_time'],\n",
       "      dtype='object')"
      ]
     },
     "execution_count": 70,
     "metadata": {},
     "output_type": "execute_result"
    }
   ],
   "source": [
    "users_df.columns"
   ]
  },
  {
   "cell_type": "markdown",
   "metadata": {},
   "source": [
    "Check passed. A more formal way of testing would be to write an expectation and verify which will be discussed in the end."
   ]
  },
  {
   "cell_type": "markdown",
   "metadata": {},
   "source": [
    "#### 2) Checking for Duplicates:"
   ]
  },
  {
   "cell_type": "code",
   "execution_count": 71,
   "metadata": {},
   "outputs": [
    {
     "name": "stdout",
     "output_type": "stream",
     "text": [
      "Percentage of Duplicate user records :57.1717\n"
     ]
    }
   ],
   "source": [
    "## Checking for duplicates\n",
    "\n",
    "users_duplicates = users_df[users_df.duplicated()]\n",
    "print(f'Percentage of Duplicate user records :{round(100*users_duplicates.shape[0]/users_df.shape[0],4)}')"
   ]
  },
  {
   "cell_type": "markdown",
   "metadata": {},
   "source": [
    "#### Data Quality Issue spotted!!\n",
    "57.17% of the records in the users table are duplicates, which is a serious data quality issue. The duplicate records are removed to ensure data quality."
   ]
  },
  {
   "cell_type": "code",
   "execution_count": 72,
   "metadata": {},
   "outputs": [],
   "source": [
    "## Deleting duplicate records\n",
    "users_df_no_duplicates = users_df.drop_duplicates()"
   ]
  },
  {
   "cell_type": "markdown",
   "metadata": {},
   "source": [
    "#### 3) If Primary_key : 'user_id' is unique()"
   ]
  },
  {
   "cell_type": "code",
   "execution_count": 73,
   "metadata": {},
   "outputs": [
    {
     "name": "stdout",
     "output_type": "stream",
     "text": [
      "True\n"
     ]
    }
   ],
   "source": [
    "## Checking if 'user_id' is unique\n",
    "print(users_df_no_duplicates['user_id'].is_unique)"
   ]
  },
  {
   "cell_type": "code",
   "execution_count": 74,
   "metadata": {},
   "outputs": [
    {
     "data": {
      "text/plain": [
       "0"
      ]
     },
     "execution_count": 74,
     "metadata": {},
     "output_type": "execute_result"
    }
   ],
   "source": [
    "## Checking if user_id is unique\n",
    "users_df_no_duplicates['user_id'].isna().sum()"
   ]
  },
  {
   "cell_type": "markdown",
   "metadata": {},
   "source": [
    "This checks that if the chosen primary key : user_id is unique and non missing. Data Quality check Passed!"
   ]
  },
  {
   "cell_type": "markdown",
   "metadata": {},
   "source": [
    "#### 4) Analyzing Missing values"
   ]
  },
  {
   "cell_type": "code",
   "execution_count": 75,
   "metadata": {},
   "outputs": [
    {
     "data": {
      "text/plain": [
       "active                  0.000000\n",
       "role                    0.000000\n",
       "signUpSource            2.358491\n",
       "state                   2.830189\n",
       "user_id                 0.000000\n",
       "created_date_time       0.000000\n",
       "lastLogin_date_time    18.867925\n",
       "dtype: float64"
      ]
     },
     "execution_count": 75,
     "metadata": {},
     "output_type": "execute_result"
    }
   ],
   "source": [
    "## percentage of missing values \n",
    "\n",
    "users_df_no_duplicates.isna().sum()*100/users_df_no_duplicates.shape[0]"
   ]
  },
  {
   "cell_type": "code",
   "execution_count": 76,
   "metadata": {},
   "outputs": [
    {
     "data": {
      "text/html": [
       "<div>\n",
       "<style scoped>\n",
       "    .dataframe tbody tr th:only-of-type {\n",
       "        vertical-align: middle;\n",
       "    }\n",
       "\n",
       "    .dataframe tbody tr th {\n",
       "        vertical-align: top;\n",
       "    }\n",
       "\n",
       "    .dataframe thead th {\n",
       "        text-align: right;\n",
       "    }\n",
       "</style>\n",
       "<table border=\"1\" class=\"dataframe\">\n",
       "  <thead>\n",
       "    <tr style=\"text-align: right;\">\n",
       "      <th></th>\n",
       "      <th>active</th>\n",
       "      <th>role</th>\n",
       "      <th>signUpSource</th>\n",
       "      <th>state</th>\n",
       "      <th>user_id</th>\n",
       "      <th>created_date_time</th>\n",
       "      <th>lastLogin_date_time</th>\n",
       "    </tr>\n",
       "  </thead>\n",
       "  <tbody>\n",
       "    <tr>\n",
       "      <th>388</th>\n",
       "      <td>True</td>\n",
       "      <td>consumer</td>\n",
       "      <td>NaN</td>\n",
       "      <td>WI</td>\n",
       "      <td>55308179e4b0eabd8f99caa2</td>\n",
       "      <td>2015-04-16 22:43:53.186</td>\n",
       "      <td>2018-05-07 12:23:40.003</td>\n",
       "    </tr>\n",
       "    <tr>\n",
       "      <th>395</th>\n",
       "      <td>True</td>\n",
       "      <td>fetch-staff</td>\n",
       "      <td>NaN</td>\n",
       "      <td>WI</td>\n",
       "      <td>59c124bae4b0299e55b0f330</td>\n",
       "      <td>2017-09-19 09:07:54.302</td>\n",
       "      <td>2021-02-08 10:42:58.117</td>\n",
       "    </tr>\n",
       "    <tr>\n",
       "      <th>422</th>\n",
       "      <td>True</td>\n",
       "      <td>consumer</td>\n",
       "      <td>NaN</td>\n",
       "      <td>NaN</td>\n",
       "      <td>5a43c08fe4b014fd6b6a0612</td>\n",
       "      <td>2017-12-27 09:47:27.059</td>\n",
       "      <td>2021-02-12 10:22:37.155</td>\n",
       "    </tr>\n",
       "    <tr>\n",
       "      <th>462</th>\n",
       "      <td>True</td>\n",
       "      <td>fetch-staff</td>\n",
       "      <td>NaN</td>\n",
       "      <td>IL</td>\n",
       "      <td>5964eb07e4b03efd0c0f267b</td>\n",
       "      <td>2017-07-11 10:13:11.771</td>\n",
       "      <td>2021-03-04 13:07:49.770</td>\n",
       "    </tr>\n",
       "    <tr>\n",
       "      <th>475</th>\n",
       "      <td>True</td>\n",
       "      <td>fetch-staff</td>\n",
       "      <td>NaN</td>\n",
       "      <td>NaN</td>\n",
       "      <td>54943462e4b07e684157a532</td>\n",
       "      <td>2014-12-19 08:21:22.381</td>\n",
       "      <td>2021-03-05 10:52:23.204</td>\n",
       "    </tr>\n",
       "  </tbody>\n",
       "</table>\n",
       "</div>"
      ],
      "text/plain": [
       "     active         role signUpSource state                   user_id  \\\n",
       "388    True     consumer          NaN    WI  55308179e4b0eabd8f99caa2   \n",
       "395    True  fetch-staff          NaN    WI  59c124bae4b0299e55b0f330   \n",
       "422    True     consumer          NaN   NaN  5a43c08fe4b014fd6b6a0612   \n",
       "462    True  fetch-staff          NaN    IL  5964eb07e4b03efd0c0f267b   \n",
       "475    True  fetch-staff          NaN   NaN  54943462e4b07e684157a532   \n",
       "\n",
       "           created_date_time      lastLogin_date_time  \n",
       "388  2015-04-16 22:43:53.186  2018-05-07 12:23:40.003  \n",
       "395  2017-09-19 09:07:54.302  2021-02-08 10:42:58.117  \n",
       "422  2017-12-27 09:47:27.059  2021-02-12 10:22:37.155  \n",
       "462  2017-07-11 10:13:11.771  2021-03-04 13:07:49.770  \n",
       "475  2014-12-19 08:21:22.381  2021-03-05 10:52:23.204  "
      ]
     },
     "execution_count": 76,
     "metadata": {},
     "output_type": "execute_result"
    }
   ],
   "source": [
    "## Analyzing missing values in 'signUpSource'\n",
    "users_df_no_duplicates[users_df_no_duplicates['signUpSource'].isna()]"
   ]
  },
  {
   "cell_type": "code",
   "execution_count": 77,
   "metadata": {},
   "outputs": [
    {
     "data": {
      "text/plain": [
       "array(['Email', 'Google', nan], dtype=object)"
      ]
     },
     "execution_count": 77,
     "metadata": {},
     "output_type": "execute_result"
    }
   ],
   "source": [
    "## Unique values of signUpSource\n",
    "users_df_no_duplicates['signUpSource'].unique()"
   ]
  },
  {
   "cell_type": "markdown",
   "metadata": {},
   "source": [
    "3 out of 6 missing values occur for the user who is a fetch-staff. The unique values for signup source are Email and Google. It is very much possible that fetch-staff can signUp using an internal source which is not email or google. For better data quality, a signupsource exclusively for staff members could be alloted if that is the case. The resources list could be expanded including possible valid sources  such as **App Store**, **Referral**, and other relevant platforms, to guarantee that this field is complete for all users. If the field is still missing, it could be imputed as 'others'."
   ]
  },
  {
   "cell_type": "code",
   "execution_count": 78,
   "metadata": {},
   "outputs": [
    {
     "data": {
      "text/html": [
       "<div>\n",
       "<style scoped>\n",
       "    .dataframe tbody tr th:only-of-type {\n",
       "        vertical-align: middle;\n",
       "    }\n",
       "\n",
       "    .dataframe tbody tr th {\n",
       "        vertical-align: top;\n",
       "    }\n",
       "\n",
       "    .dataframe thead th {\n",
       "        text-align: right;\n",
       "    }\n",
       "</style>\n",
       "<table border=\"1\" class=\"dataframe\">\n",
       "  <thead>\n",
       "    <tr style=\"text-align: right;\">\n",
       "      <th></th>\n",
       "      <th>active</th>\n",
       "      <th>role</th>\n",
       "      <th>signUpSource</th>\n",
       "      <th>state</th>\n",
       "      <th>user_id</th>\n",
       "      <th>created_date_time</th>\n",
       "      <th>lastLogin_date_time</th>\n",
       "    </tr>\n",
       "  </thead>\n",
       "  <tbody>\n",
       "    <tr>\n",
       "      <th>344</th>\n",
       "      <td>True</td>\n",
       "      <td>consumer</td>\n",
       "      <td>Email</td>\n",
       "      <td>NaN</td>\n",
       "      <td>60145ff384231211ce796d51</td>\n",
       "      <td>2021-01-29 13:20:19.722</td>\n",
       "      <td>NaN</td>\n",
       "    </tr>\n",
       "    <tr>\n",
       "      <th>375</th>\n",
       "      <td>True</td>\n",
       "      <td>consumer</td>\n",
       "      <td>Email</td>\n",
       "      <td>NaN</td>\n",
       "      <td>60186237c8b50e11d8454d5f</td>\n",
       "      <td>2021-02-01 14:19:03.551</td>\n",
       "      <td>NaN</td>\n",
       "    </tr>\n",
       "    <tr>\n",
       "      <th>422</th>\n",
       "      <td>True</td>\n",
       "      <td>consumer</td>\n",
       "      <td>NaN</td>\n",
       "      <td>NaN</td>\n",
       "      <td>5a43c08fe4b014fd6b6a0612</td>\n",
       "      <td>2017-12-27 09:47:27.059</td>\n",
       "      <td>2021-02-12 10:22:37.155</td>\n",
       "    </tr>\n",
       "    <tr>\n",
       "      <th>432</th>\n",
       "      <td>True</td>\n",
       "      <td>fetch-staff</td>\n",
       "      <td>Email</td>\n",
       "      <td>NaN</td>\n",
       "      <td>5fbc35711d967d1222cbfefc</td>\n",
       "      <td>2020-11-23 16:19:29.509</td>\n",
       "      <td>2021-02-25 22:25:51.057</td>\n",
       "    </tr>\n",
       "    <tr>\n",
       "      <th>455</th>\n",
       "      <td>True</td>\n",
       "      <td>fetch-staff</td>\n",
       "      <td>Email</td>\n",
       "      <td>NaN</td>\n",
       "      <td>5fa41775898c7a11a6bcef3e</td>\n",
       "      <td>2020-11-05 09:17:09.396</td>\n",
       "      <td>2021-03-04 10:02:02.026</td>\n",
       "    </tr>\n",
       "    <tr>\n",
       "      <th>475</th>\n",
       "      <td>True</td>\n",
       "      <td>fetch-staff</td>\n",
       "      <td>NaN</td>\n",
       "      <td>NaN</td>\n",
       "      <td>54943462e4b07e684157a532</td>\n",
       "      <td>2014-12-19 08:21:22.381</td>\n",
       "      <td>2021-03-05 10:52:23.204</td>\n",
       "    </tr>\n",
       "  </tbody>\n",
       "</table>\n",
       "</div>"
      ],
      "text/plain": [
       "     active         role signUpSource state                   user_id  \\\n",
       "344    True     consumer        Email   NaN  60145ff384231211ce796d51   \n",
       "375    True     consumer        Email   NaN  60186237c8b50e11d8454d5f   \n",
       "422    True     consumer          NaN   NaN  5a43c08fe4b014fd6b6a0612   \n",
       "432    True  fetch-staff        Email   NaN  5fbc35711d967d1222cbfefc   \n",
       "455    True  fetch-staff        Email   NaN  5fa41775898c7a11a6bcef3e   \n",
       "475    True  fetch-staff          NaN   NaN  54943462e4b07e684157a532   \n",
       "\n",
       "           created_date_time      lastLogin_date_time  \n",
       "344  2021-01-29 13:20:19.722                      NaN  \n",
       "375  2021-02-01 14:19:03.551                      NaN  \n",
       "422  2017-12-27 09:47:27.059  2021-02-12 10:22:37.155  \n",
       "432  2020-11-23 16:19:29.509  2021-02-25 22:25:51.057  \n",
       "455  2020-11-05 09:17:09.396  2021-03-04 10:02:02.026  \n",
       "475  2014-12-19 08:21:22.381  2021-03-05 10:52:23.204  "
      ]
     },
     "execution_count": 78,
     "metadata": {},
     "output_type": "execute_result"
    }
   ],
   "source": [
    "## Analyzing missing values in States\n",
    "users_df_no_duplicates[users_df_no_duplicates['state'].isna()]"
   ]
  },
  {
   "cell_type": "code",
   "execution_count": 79,
   "metadata": {},
   "outputs": [
    {
     "data": {
      "text/plain": [
       "array(['WI', 'KY', 'AL', 'CO', 'IL', nan, 'OH', 'SC', 'NH'], dtype=object)"
      ]
     },
     "execution_count": 79,
     "metadata": {},
     "output_type": "execute_result"
    }
   ],
   "source": [
    "## Unique values of state\n",
    "users_df_no_duplicates['state'].unique()"
   ]
  },
  {
   "cell_type": "markdown",
   "metadata": {},
   "source": [
    "Missing values could be imputed with 'DNF' (Did not fill) or 'N/A' or 'None' approriately."
   ]
  },
  {
   "cell_type": "code",
   "execution_count": 80,
   "metadata": {},
   "outputs": [
    {
     "data": {
      "text/html": [
       "<div>\n",
       "<style scoped>\n",
       "    .dataframe tbody tr th:only-of-type {\n",
       "        vertical-align: middle;\n",
       "    }\n",
       "\n",
       "    .dataframe tbody tr th {\n",
       "        vertical-align: top;\n",
       "    }\n",
       "\n",
       "    .dataframe thead th {\n",
       "        text-align: right;\n",
       "    }\n",
       "</style>\n",
       "<table border=\"1\" class=\"dataframe\">\n",
       "  <thead>\n",
       "    <tr style=\"text-align: right;\">\n",
       "      <th></th>\n",
       "      <th>active</th>\n",
       "      <th>role</th>\n",
       "      <th>signUpSource</th>\n",
       "      <th>state</th>\n",
       "      <th>user_id</th>\n",
       "      <th>created_date_time</th>\n",
       "      <th>lastLogin_date_time</th>\n",
       "    </tr>\n",
       "  </thead>\n",
       "  <tbody>\n",
       "    <tr>\n",
       "      <th>97</th>\n",
       "      <td>True</td>\n",
       "      <td>consumer</td>\n",
       "      <td>Email</td>\n",
       "      <td>KY</td>\n",
       "      <td>5ff616a68f142f11dd189163</td>\n",
       "      <td>2021-01-06 13:59:34.996</td>\n",
       "      <td>NaN</td>\n",
       "    </tr>\n",
       "    <tr>\n",
       "      <th>143</th>\n",
       "      <td>True</td>\n",
       "      <td>consumer</td>\n",
       "      <td>Email</td>\n",
       "      <td>AL</td>\n",
       "      <td>5ffe115404929101d0aaebb2</td>\n",
       "      <td>2021-01-12 15:15:00.208</td>\n",
       "      <td>NaN</td>\n",
       "    </tr>\n",
       "    <tr>\n",
       "      <th>170</th>\n",
       "      <td>True</td>\n",
       "      <td>consumer</td>\n",
       "      <td>Google</td>\n",
       "      <td>WI</td>\n",
       "      <td>5e27526d0bdb6a138c32b556</td>\n",
       "      <td>2020-01-21 13:35:09.795</td>\n",
       "      <td>NaN</td>\n",
       "    </tr>\n",
       "    <tr>\n",
       "      <th>180</th>\n",
       "      <td>True</td>\n",
       "      <td>consumer</td>\n",
       "      <td>Email</td>\n",
       "      <td>WI</td>\n",
       "      <td>6002475cfb296c121a81b98d</td>\n",
       "      <td>2021-01-15 19:54:36.571</td>\n",
       "      <td>NaN</td>\n",
       "    </tr>\n",
       "    <tr>\n",
       "      <th>181</th>\n",
       "      <td>True</td>\n",
       "      <td>consumer</td>\n",
       "      <td>Email</td>\n",
       "      <td>WI</td>\n",
       "      <td>60024f24e257124ec6b99a13</td>\n",
       "      <td>2021-01-15 20:27:49.345</td>\n",
       "      <td>NaN</td>\n",
       "    </tr>\n",
       "  </tbody>\n",
       "</table>\n",
       "</div>"
      ],
      "text/plain": [
       "     active      role signUpSource state                   user_id  \\\n",
       "97     True  consumer        Email    KY  5ff616a68f142f11dd189163   \n",
       "143    True  consumer        Email    AL  5ffe115404929101d0aaebb2   \n",
       "170    True  consumer       Google    WI  5e27526d0bdb6a138c32b556   \n",
       "180    True  consumer        Email    WI  6002475cfb296c121a81b98d   \n",
       "181    True  consumer        Email    WI  60024f24e257124ec6b99a13   \n",
       "\n",
       "           created_date_time lastLogin_date_time  \n",
       "97   2021-01-06 13:59:34.996                 NaN  \n",
       "143  2021-01-12 15:15:00.208                 NaN  \n",
       "170  2020-01-21 13:35:09.795                 NaN  \n",
       "180  2021-01-15 19:54:36.571                 NaN  \n",
       "181  2021-01-15 20:27:49.345                 NaN  "
      ]
     },
     "execution_count": 80,
     "metadata": {},
     "output_type": "execute_result"
    }
   ],
   "source": [
    "## Analyzing Missing Last Login Date:\n",
    "\n",
    "missing_last_login = users_df_no_duplicates[users_df_no_duplicates['lastLogin_date_time'].isna()]\n",
    "missing_last_login.head()\n",
    "# missing_last_login.groupby('signUpSource')\\\n",
    "#     .agg({'signUpSource':'size'})\\\n",
    "#     .rename(columns = {'signUpSource':'count'})\\\n",
    "#     .sort_values(by = 'count',ascending= False)\\\n",
    "#     *100/(missing_last_login.shape[0])"
   ]
  },
  {
   "cell_type": "markdown",
   "metadata": {},
   "source": [
    "The missing last login data indicates that users are not immediately logging in after signing up. Of the users with missing last login dates, 95% signed up via email, while only 5% signed up through Google. This suggests a potential bottleneck in the email sign-up process, where users may be unable to log in right after signing up. One possible cause could be permission issues or other technical restrictions that prevent the app from opening or proceeding to the login page after email registration. Further investigation is needed to identify and address this issue to streamline the sign-up and login experience, especially for email users."
   ]
  },
  {
   "cell_type": "markdown",
   "metadata": {},
   "source": [
    "It would be interesting to check if the user_ids for the above table could be present in receipts_df. It is expected that the user_ids would not be present in receipts_df."
   ]
  },
  {
   "cell_type": "code",
   "execution_count": 81,
   "metadata": {},
   "outputs": [
    {
     "name": "stdout",
     "output_type": "stream",
     "text": [
      "<class 'pandas.core.frame.DataFrame'>\n",
      "Int64Index: 57 entries, 0 to 56\n",
      "Data columns (total 6 columns):\n",
      " #   Column               Non-Null Count  Dtype  \n",
      "---  ------               --------------  -----  \n",
      " 0   user_id              57 non-null     object \n",
      " 1   created_date_time_x  57 non-null     object \n",
      " 2   lastLogin_date_time  0 non-null      object \n",
      " 3   bonusPointsEarned    32 non-null     float64\n",
      " 4   receipt_id           57 non-null     object \n",
      " 5   scanned_date_time    57 non-null     object \n",
      "dtypes: float64(1), object(5)\n",
      "memory usage: 3.1+ KB\n"
     ]
    }
   ],
   "source": [
    "## Checking if the user_id present in the missing last login date if they made any orders.\n",
    "missing_last_login_merge_receipts = missing_last_login\\\n",
    "    .merge(receipts_df, how = 'inner',left_on = 'user_id',right_on = 'userId')\\\n",
    "    [['user_id','created_date_time_x','lastLogin_date_time',\\\n",
    "      'bonusPointsEarned','receipt_id','scanned_date_time']]\n",
    "missing_last_login_merge_receipts.info()"
   ]
  },
  {
   "cell_type": "markdown",
   "metadata": {},
   "source": [
    "#### Data Quality Issue spotted!!\n",
    "It is interesting to see that the above data suggests that users with no recorded last login date are still able to scan receipts and earn bonus points. This is unexpected behavior, as we would typically expect a last login date to be present once a user interacts with the app to scan receipts. This anomaly needs to be investigated further, as it could indicate a logging issue or a flaw in the system where login events are not properly captured before allowing user actions such as receipt scanning."
   ]
  },
  {
   "cell_type": "markdown",
   "metadata": {},
   "source": [
    "#### 5) Timestamp validation"
   ]
  },
  {
   "cell_type": "code",
   "execution_count": 82,
   "metadata": {},
   "outputs": [
    {
     "data": {
      "text/plain": [
       "(0, 7)"
      ]
     },
     "execution_count": 82,
     "metadata": {},
     "output_type": "execute_result"
    }
   ],
   "source": [
    "##Checking if last login date is after creation date\n",
    "\n",
    "users_df_no_duplicates[users_df_no_duplicates['lastLogin_date_time'] \\\n",
    "                       < users_df_no_duplicates['created_date_time']].shape"
   ]
  },
  {
   "cell_type": "markdown",
   "metadata": {},
   "source": [
    "No data entries where last login date and time is before creation date and time."
   ]
  },
  {
   "cell_type": "markdown",
   "metadata": {},
   "source": [
    "#### 6) Appropriate formatting of the data"
   ]
  },
  {
   "cell_type": "code",
   "execution_count": 83,
   "metadata": {},
   "outputs": [
    {
     "data": {
      "text/plain": [
       "active                   bool\n",
       "role                   object\n",
       "signUpSource           object\n",
       "state                  object\n",
       "user_id                object\n",
       "created_date_time      object\n",
       "lastLogin_date_time    object\n",
       "dtype: object"
      ]
     },
     "execution_count": 83,
     "metadata": {},
     "output_type": "execute_result"
    }
   ],
   "source": [
    "## Data types for the users\n",
    "users_df_no_duplicates.dtypes"
   ]
  },
  {
   "cell_type": "markdown",
   "metadata": {},
   "source": [
    "I would check if there are any discrepancies in the way the strings are entered. Discrepancy definition: 'GOOGLE' and 'Google'"
   ]
  },
  {
   "cell_type": "code",
   "execution_count": 84,
   "metadata": {},
   "outputs": [
    {
     "name": "stdout",
     "output_type": "stream",
     "text": [
      "[ True False]\n",
      "['consumer' 'fetch-staff']\n",
      "['Email' 'Google' nan]\n",
      "['WI' 'KY' 'AL' 'CO' 'IL' nan 'OH' 'SC' 'NH']\n"
     ]
    }
   ],
   "source": [
    "## checking for discrepancies of the 'object' columns\n",
    "for columns in ['active','role','signUpSource','state']:\n",
    "    print(users_df_no_duplicates[columns].unique())"
   ]
  },
  {
   "cell_type": "markdown",
   "metadata": {},
   "source": [
    "There are no string discrepancies."
   ]
  },
  {
   "cell_type": "markdown",
   "metadata": {},
   "source": [
    "It would be better to convert Date columns from strings to datetime objects."
   ]
  },
  {
   "cell_type": "code",
   "execution_count": 85,
   "metadata": {},
   "outputs": [],
   "source": [
    "## Objects to date conversion:\n",
    "users_df_no_duplicates['created_date_time'] = pd.to_datetime(users_df_no_duplicates['created_date_time'], format='%Y-%m-%d %H:%M:%S.%f')\n",
    "users_df_no_duplicates['lastLogin_date_time'] = pd.to_datetime(users_df_no_duplicates['lastLogin_date_time'], format='%Y-%m-%d %H:%M:%S.%f')\n"
   ]
  },
  {
   "cell_type": "markdown",
   "metadata": {},
   "source": [
    "#### 7) Other Miscellaneous checks:\n",
    "\n",
    "I would check if the state column is in correct abbrevation and would belong to the states from USA.\n"
   ]
  },
  {
   "cell_type": "code",
   "execution_count": 86,
   "metadata": {},
   "outputs": [
    {
     "data": {
      "text/plain": [
       "[]"
      ]
     },
     "execution_count": 86,
     "metadata": {},
     "output_type": "execute_result"
    }
   ],
   "source": [
    "## Checking if the states from users_table are subset of the states_abbreviations\n",
    "states_abbr = [\n",
    "    'AL', 'AK', 'AZ', 'AR', 'CA', 'CO', 'CT', 'DE', 'FL', 'GA', 'HI', 'ID', \n",
    "    'IL', 'IN', 'IA', 'KS', 'KY', 'LA', 'ME', 'MD', 'MA', 'MI', 'MN', 'MS', \n",
    "    'MO', 'MT', 'NE', 'NV', 'NH', 'NJ', 'NM', 'NY', 'NC', 'ND', 'OH', 'OK', \n",
    "    'OR', 'PA', 'RI', 'SC', 'SD', 'TN', 'TX', 'UT', 'VT', 'VA', 'WA', 'WV', \n",
    "    'WI', 'WY', np.nan\n",
    "]\n",
    "\n",
    "[state for state in users_df_no_duplicates['state'] if state not in states_abbr]"
   ]
  },
  {
   "cell_type": "code",
   "execution_count": 87,
   "metadata": {},
   "outputs": [
    {
     "name": "stdout",
     "output_type": "stream",
     "text": [
      "Check passed for created_date_time\n",
      "Check passed for lastLogin_date_time\n"
     ]
    }
   ],
   "source": [
    "## Date range checks for date type columns\n",
    "## choosing a 100 year valid period starting from 2000\n",
    "start_date = pd.to_datetime('2000-01-01 00:00:00.000')\n",
    "end_date = pd.to_datetime('2100-12-31 00:00:00.000')\n",
    "\n",
    "for column in ['created_date_time','lastLogin_date_time']:\n",
    "    if users_df_no_duplicates[\\\n",
    "        (users_df_no_duplicates[column] > end_date) \\\n",
    "            | (users_df_no_duplicates[column] < start_date)].shape[0] == 0:\n",
    "        print(f'Check passed for {column}')\n",
    "    else:\n",
    "        print(f'Check failed for {column}')"
   ]
  },
  {
   "cell_type": "markdown",
   "metadata": {},
   "source": [
    "Checking if the range of the created_date_time and last_login_date_time to understand if the data is missing for certain months or years"
   ]
  },
  {
   "cell_type": "code",
   "execution_count": 88,
   "metadata": {},
   "outputs": [
    {
     "name": "stdout",
     "output_type": "stream",
     "text": [
      "Created date range: (Timestamp('2014-12-19 08:21:22.381000'), Timestamp('2021-02-12 08:11:06.240000'))\n",
      "Created counts by month:\n",
      " 2014-12      1\n",
      "2015-04      1\n",
      "2017-07      1\n",
      "2017-09      1\n",
      "2017-12      1\n",
      "2020-01      1\n",
      "2020-07      1\n",
      "2020-11      4\n",
      "2020-12      1\n",
      "2021-01    170\n",
      "2021-02     30\n",
      "Freq: M, Name: created_year_month, dtype: int64\n"
     ]
    }
   ],
   "source": [
    "# Extracting year and month for easier grouping\n",
    "users_df_no_duplicates['created_year_month'] = users_df_no_duplicates['created_date_time'].dt.to_period('M')\n",
    "\n",
    "# Checking the range of created dates\n",
    "created_range = users_df_no_duplicates['created_date_time'].min(), users_df_no_duplicates['created_date_time'].max()\n",
    "print(\"Created date range:\", created_range)\n",
    "\n",
    "# Grouping by month to check if data is missing for certain periods\n",
    "created_counts = users_df_no_duplicates['created_year_month'].value_counts().sort_index()\n",
    "\n",
    "print(\"Created counts by month:\\n\",created_counts)"
   ]
  },
  {
   "cell_type": "markdown",
   "metadata": {},
   "source": [
    "#### Data Quality issue spotted!! "
   ]
  },
  {
   "cell_type": "markdown",
   "metadata": {},
   "source": [
    "The sporadic distribution of `created_date_time`, with entire years like **2016**, **2018**, and **2019** missing, seems suspicious. Unless there's a specific reason for these gaps, I would flag it as a potential data quality issue for further investigation."
   ]
  },
  {
   "cell_type": "markdown",
   "metadata": {},
   "source": [
    "#### Data Quality Assessment - Brands table"
   ]
  },
  {
   "cell_type": "code",
   "execution_count": 90,
   "metadata": {},
   "outputs": [
    {
     "data": {
      "text/html": [
       "<div>\n",
       "<style scoped>\n",
       "    .dataframe tbody tr th:only-of-type {\n",
       "        vertical-align: middle;\n",
       "    }\n",
       "\n",
       "    .dataframe tbody tr th {\n",
       "        vertical-align: top;\n",
       "    }\n",
       "\n",
       "    .dataframe thead th {\n",
       "        text-align: right;\n",
       "    }\n",
       "</style>\n",
       "<table border=\"1\" class=\"dataframe\">\n",
       "  <thead>\n",
       "    <tr style=\"text-align: right;\">\n",
       "      <th></th>\n",
       "      <th>barcode</th>\n",
       "      <th>category</th>\n",
       "      <th>categoryCode</th>\n",
       "      <th>name</th>\n",
       "      <th>topBrand</th>\n",
       "      <th>brand_id</th>\n",
       "      <th>cpg_id</th>\n",
       "      <th>cpg_ref</th>\n",
       "      <th>brandCode</th>\n",
       "    </tr>\n",
       "  </thead>\n",
       "  <tbody>\n",
       "    <tr>\n",
       "      <th>0</th>\n",
       "      <td>511111019862</td>\n",
       "      <td>Baking</td>\n",
       "      <td>BAKING</td>\n",
       "      <td>test brand @1612366101024</td>\n",
       "      <td>False</td>\n",
       "      <td>601ac115be37ce2ead437551</td>\n",
       "      <td>601ac114be37ce2ead437550</td>\n",
       "      <td>Cogs</td>\n",
       "      <td>NaN</td>\n",
       "    </tr>\n",
       "    <tr>\n",
       "      <th>1</th>\n",
       "      <td>511111519928</td>\n",
       "      <td>Beverages</td>\n",
       "      <td>BEVERAGES</td>\n",
       "      <td>Starbucks</td>\n",
       "      <td>False</td>\n",
       "      <td>601c5460be37ce2ead43755f</td>\n",
       "      <td>5332f5fbe4b03c9a25efd0ba</td>\n",
       "      <td>Cogs</td>\n",
       "      <td>STARBUCKS</td>\n",
       "    </tr>\n",
       "    <tr>\n",
       "      <th>2</th>\n",
       "      <td>511111819905</td>\n",
       "      <td>Baking</td>\n",
       "      <td>BAKING</td>\n",
       "      <td>test brand @1612366146176</td>\n",
       "      <td>False</td>\n",
       "      <td>601ac142be37ce2ead43755d</td>\n",
       "      <td>601ac142be37ce2ead437559</td>\n",
       "      <td>Cogs</td>\n",
       "      <td>TEST BRANDCODE @1612366146176</td>\n",
       "    </tr>\n",
       "    <tr>\n",
       "      <th>3</th>\n",
       "      <td>511111519874</td>\n",
       "      <td>Baking</td>\n",
       "      <td>BAKING</td>\n",
       "      <td>test brand @1612366146051</td>\n",
       "      <td>False</td>\n",
       "      <td>601ac142be37ce2ead43755a</td>\n",
       "      <td>601ac142be37ce2ead437559</td>\n",
       "      <td>Cogs</td>\n",
       "      <td>TEST BRANDCODE @1612366146051</td>\n",
       "    </tr>\n",
       "    <tr>\n",
       "      <th>4</th>\n",
       "      <td>511111319917</td>\n",
       "      <td>Candy &amp; Sweets</td>\n",
       "      <td>CANDY_AND_SWEETS</td>\n",
       "      <td>test brand @1612366146827</td>\n",
       "      <td>False</td>\n",
       "      <td>601ac142be37ce2ead43755e</td>\n",
       "      <td>5332fa12e4b03c9a25efd1e7</td>\n",
       "      <td>Cogs</td>\n",
       "      <td>TEST BRANDCODE @1612366146827</td>\n",
       "    </tr>\n",
       "  </tbody>\n",
       "</table>\n",
       "</div>"
      ],
      "text/plain": [
       "        barcode        category      categoryCode                       name  \\\n",
       "0  511111019862          Baking            BAKING  test brand @1612366101024   \n",
       "1  511111519928       Beverages         BEVERAGES                  Starbucks   \n",
       "2  511111819905          Baking            BAKING  test brand @1612366146176   \n",
       "3  511111519874          Baking            BAKING  test brand @1612366146051   \n",
       "4  511111319917  Candy & Sweets  CANDY_AND_SWEETS  test brand @1612366146827   \n",
       "\n",
       "  topBrand                  brand_id                    cpg_id cpg_ref  \\\n",
       "0    False  601ac115be37ce2ead437551  601ac114be37ce2ead437550    Cogs   \n",
       "1    False  601c5460be37ce2ead43755f  5332f5fbe4b03c9a25efd0ba    Cogs   \n",
       "2    False  601ac142be37ce2ead43755d  601ac142be37ce2ead437559    Cogs   \n",
       "3    False  601ac142be37ce2ead43755a  601ac142be37ce2ead437559    Cogs   \n",
       "4    False  601ac142be37ce2ead43755e  5332fa12e4b03c9a25efd1e7    Cogs   \n",
       "\n",
       "                       brandCode  \n",
       "0                            NaN  \n",
       "1                      STARBUCKS  \n",
       "2  TEST BRANDCODE @1612366146176  \n",
       "3  TEST BRANDCODE @1612366146051  \n",
       "4  TEST BRANDCODE @1612366146827  "
      ]
     },
     "execution_count": 90,
     "metadata": {},
     "output_type": "execute_result"
    }
   ],
   "source": [
    "## over view of the contents of the brands table\n",
    "brands_df.head()"
   ]
  },
  {
   "cell_type": "code",
   "execution_count": null,
   "metadata": {},
   "outputs": [],
   "source": []
  }
 ],
 "metadata": {
  "kernelspec": {
   "display_name": "base",
   "language": "python",
   "name": "python3"
  },
  "language_info": {
   "codemirror_mode": {
    "name": "ipython",
    "version": 3
   },
   "file_extension": ".py",
   "mimetype": "text/x-python",
   "name": "python",
   "nbconvert_exporter": "python",
   "pygments_lexer": "ipython3",
   "version": "3.9.13"
  }
 },
 "nbformat": 4,
 "nbformat_minor": 2
}
