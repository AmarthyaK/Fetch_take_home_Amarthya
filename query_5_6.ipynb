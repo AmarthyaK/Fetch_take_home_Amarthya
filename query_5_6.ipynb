{
 "cells": [
  {
   "cell_type": "code",
   "execution_count": 1,
   "metadata": {},
   "outputs": [],
   "source": [
    "import pandas as pd\n",
    "import numpy as np\n",
    "import os\n",
    "\n",
    "import datetime\n",
    "from prettytable import PrettyTable\n",
    "import pymysql\n",
    "import yaml\n",
    "from sqlalchemy import create_engine\n",
    "from sqlalchemy import text\n"
   ]
  },
  {
   "cell_type": "code",
   "execution_count": 2,
   "metadata": {},
   "outputs": [],
   "source": [
    "root_dir = os.getcwd()"
   ]
  },
  {
   "cell_type": "code",
   "execution_count": 3,
   "metadata": {},
   "outputs": [],
   "source": [
    "# Function to read YAML file\n",
    "def read_yaml(file_path):\n",
    "    with open(file_path, 'r') as file:\n",
    "        try:\n",
    "            # Load the YAML content into a Python dictionary\n",
    "            data = yaml.safe_load(file)\n",
    "            return data\n",
    "        except yaml.YAMLError as exc:\n",
    "            print(f\"Error reading YAML file: {exc}\")\n",
    "            return None"
   ]
  },
  {
   "cell_type": "code",
   "execution_count": 4,
   "metadata": {},
   "outputs": [],
   "source": [
    "file_path = os.path.join(root_dir,'MYSQL_user_config.yaml')\n",
    "config = read_yaml(file_path)\n",
    "\n",
    "user = config.get('MYSQL_credentials')['user']\n",
    "password = config.get('MYSQL_credentials')['password']\n",
    "host = config.get('MYSQL_credentials')['host']\n",
    "port = config.get('MYSQL_credentials')['port']"
   ]
  },
  {
   "cell_type": "code",
   "execution_count": 5,
   "metadata": {},
   "outputs": [],
   "source": [
    "def run_query(engine,query):\n",
    "    try:\n",
    "        with engine.connect() as connection:\n",
    "            result = connection.execute(text(query))\n",
    "            return result.fetchall()\n",
    "    except Exception as e:\n",
    "        print(f\"Error in the query -> {e}\")"
   ]
  },
  {
   "cell_type": "code",
   "execution_count": 6,
   "metadata": {},
   "outputs": [
    {
     "name": "stdout",
     "output_type": "stream",
     "text": [
      "Error in the query -> This result object does not return rows. It has been closed automatically.\n"
     ]
    }
   ],
   "source": [
    "db_url = f'mysql+pymysql://{user}:{password}@{host}:{port}'\n",
    "db_name = \"FETCH_DB\"\n",
    "engine = create_engine(f'{db_url}'+'/'+f'{db_name}')\n",
    "run_query(engine, f'USE {db_name}')"
   ]
  },
  {
   "cell_type": "markdown",
   "metadata": {},
   "source": [
    "### When considering average spend from receipts with 'rewardsReceiptStatus’ of ‘Accepted’ or ‘Rejected’, which is greater?"
   ]
  },
  {
   "cell_type": "markdown",
   "metadata": {},
   "source": [
    "Irrespective of reward points earned or not, here is the query, to know the brand with the most spending from the users"
   ]
  },
  {
   "cell_type": "code",
   "execution_count": 21,
   "metadata": {},
   "outputs": [
    {
     "name": "stdout",
     "output_type": "stream",
     "text": [
      "+---------+-------------------+\n",
      "|  brand  | total_money_spent |\n",
      "+---------+-------------------+\n",
      "| HUGGIES |      1931.92      |\n",
      "+---------+-------------------+\n"
     ]
    }
   ],
   "source": [
    "query_5 = f\"\"\"\n",
    "SELECT COALESCE(RR.brandCode,RR.description_first_word) AS Brand, SUM(RR.finalPrice) AS total_money_spent\n",
    "FROM rewards_receipts RR\n",
    "INNER JOIN receipts R\n",
    "ON RR.receipt_id = R.receipt_id\n",
    "INNER JOIN users U\n",
    "ON R.userId = U.user_id\n",
    "WHERE DATE_FORMAT(U.created_date_time,'%Y%m') <= (SELECT DATE_FORMAT(MAX(created_date_time),'%Y%m') FROM users)\n",
    "AND DATE_FORMAT(U.created_date_time,'%Y%m') > (SELECT DATE_FORMAT(DATE_SUB(MAX(created_date_time), INTERVAL 6 MONTH), '%Y%m') FROM users)\n",
    "GROUP BY COALESCE(RR.brandCode,RR.description_first_word)\n",
    "ORDER BY total_money_spent DESC\n",
    "LIMIT 1;\n",
    "\"\"\"\n",
    "results=run_query(engine,query_5)\n",
    "\n",
    "columns = [\"brand\", \"total_money_spent\"]\n",
    "table = PrettyTable()\n",
    "table.field_names = columns\n",
    "\n",
    "\n",
    "for row in results:\n",
    "    table.add_row(row)\n",
    "\n",
    "print(table)"
   ]
  },
  {
   "cell_type": "code",
   "execution_count": 27,
   "metadata": {},
   "outputs": [
    {
     "name": "stdout",
     "output_type": "stream",
     "text": [
      "+--------+--------------------+\n",
      "| brand  | total_transactions |\n",
      "+--------+--------------------+\n",
      "| HY-VEE |        296         |\n",
      "+--------+--------------------+\n"
     ]
    }
   ],
   "source": [
    "query_6 = f\"\"\"\n",
    "SELECT COALESCE(RR.brandCode,RR.description_first_word) AS Brand, COUNT(*) AS total_transactions\n",
    "FROM rewards_receipts RR\n",
    "INNER JOIN receipts R\n",
    "ON RR.receipt_id = R.receipt_id\n",
    "INNER JOIN users U\n",
    "ON R.userId = U.user_id\n",
    "WHERE DATE_FORMAT(U.created_date_time,'%Y%m') <= (SELECT DATE_FORMAT(MAX(created_date_time),'%Y%m') FROM users)\n",
    "AND DATE_FORMAT(U.created_date_time,'%Y%m') > (SELECT DATE_FORMAT(DATE_SUB(MAX(created_date_time), INTERVAL 6 MONTH), '%Y%m') FROM users)\n",
    "GROUP BY COALESCE(RR.brandCode,RR.description_first_word)\n",
    "ORDER BY total_transactions DESC\n",
    "LIMIT 1;\n",
    "\"\"\"\n",
    "results=run_query(engine,query_6)\n",
    "\n",
    "columns = [\"brand\", \"total_transactions\"]\n",
    "table = PrettyTable()\n",
    "table.field_names = columns\n",
    "\n",
    "\n",
    "for row in results:\n",
    "    table.add_row(row)\n",
    "\n",
    "print(table)"
   ]
  }
 ],
 "metadata": {
  "kernelspec": {
   "display_name": "base",
   "language": "python",
   "name": "python3"
  },
  "language_info": {
   "codemirror_mode": {
    "name": "ipython",
    "version": 3
   },
   "file_extension": ".py",
   "mimetype": "text/x-python",
   "name": "python",
   "nbconvert_exporter": "python",
   "pygments_lexer": "ipython3",
   "version": "3.9.13"
  }
 },
 "nbformat": 4,
 "nbformat_minor": 2
}
