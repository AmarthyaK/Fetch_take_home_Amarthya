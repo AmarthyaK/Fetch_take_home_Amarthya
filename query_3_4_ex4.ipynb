{
 "cells": [
  {
   "cell_type": "code",
   "execution_count": 32,
   "metadata": {},
   "outputs": [],
   "source": [
    "## Importing necessary libraries\n",
    "import pandas as pd\n",
    "import numpy as np\n",
    "import os\n",
    "\n",
    "import datetime\n",
    "from prettytable import PrettyTable\n",
    "import pymysql\n",
    "import yaml\n",
    "from sqlalchemy import create_engine\n",
    "from sqlalchemy import text\n"
   ]
  },
  {
   "cell_type": "code",
   "execution_count": 33,
   "metadata": {},
   "outputs": [],
   "source": [
    "## Root_directory\n",
    "root_dir = os.getcwd()"
   ]
  },
  {
   "cell_type": "code",
   "execution_count": 34,
   "metadata": {},
   "outputs": [],
   "source": [
    "## Functions\n",
    "\n",
    "# Function to read YAML file\n",
    "def read_yaml(file_path):\n",
    "    with open(file_path, 'r') as file:\n",
    "        try:\n",
    "            # Load the YAML content into a Python dictionary\n",
    "            data = yaml.safe_load(file)\n",
    "            return data\n",
    "        except yaml.YAMLError as exc:\n",
    "            print(f\"Error reading YAML file: {exc}\")\n",
    "            return None\n",
    "\n",
    "# Run Query function\n",
    "def run_query(engine,query):\n",
    "    try:\n",
    "        with engine.connect() as connection:\n",
    "            result = connection.execute(text(query))\n",
    "            return result.fetchall()\n",
    "    except Exception as e:\n",
    "        print(f\"Error in the query -> {e}\")"
   ]
  },
  {
   "cell_type": "code",
   "execution_count": 35,
   "metadata": {},
   "outputs": [],
   "source": [
    "## Reading MYSQL config file\n",
    "\n",
    "file_path = os.path.join(root_dir,'MYSQL_user_config.yaml')\n",
    "config = read_yaml(file_path)\n",
    "\n",
    "user = config.get('MYSQL_credentials')['user']\n",
    "password = config.get('MYSQL_credentials')['password']\n",
    "host = config.get('MYSQL_credentials')['host']\n",
    "port = config.get('MYSQL_credentials')['port']"
   ]
  },
  {
   "cell_type": "code",
   "execution_count": 36,
   "metadata": {},
   "outputs": [
    {
     "name": "stdout",
     "output_type": "stream",
     "text": [
      "Error in the query -> This result object does not return rows. It has been closed automatically.\n"
     ]
    }
   ],
   "source": [
    "## Engine configuration\n",
    "\n",
    "db_url = f'mysql+pymysql://{user}:{password}@{host}:{port}'\n",
    "db_name = \"FETCH_DB_Amarthya\"\n",
    "engine = create_engine(f'{db_url}'+'/'+f'{db_name}')\n",
    "run_query(engine, f'USE {db_name}')"
   ]
  },
  {
   "cell_type": "markdown",
   "metadata": {},
   "source": [
    "### When considering average spend from receipts with 'rewardsReceiptStatus’ of ‘Accepted’ or ‘Rejected’, which is greater?"
   ]
  },
  {
   "cell_type": "code",
   "execution_count": 37,
   "metadata": {},
   "outputs": [
    {
     "name": "stdout",
     "output_type": "stream",
     "text": [
      "+---------------+-----------------+\n",
      "| RewardsStatus | Avg_total_spent |\n",
      "+---------------+-----------------+\n",
      "|    FINISHED   |     80.8543     |\n",
      "|    REJECTED   |     23.3261     |\n",
      "+---------------+-----------------+\n"
     ]
    }
   ],
   "source": [
    "## Query 3\n",
    "\n",
    "query_3 = f\"\"\"\n",
    "SELECT R.rewardsReceiptStatus As RewardStatus,\n",
    "ROUND(AVG(COALESCE(R.totalSpent,0)),4) AS Avg_total_spent\n",
    "FROM receipts R\n",
    "GROUP BY R.rewardsReceiptStatus\n",
    "HAVING R.rewardsReceiptStatus = 'FINISHED' or R.rewardsReceiptStatus = 'REJECTED'\n",
    "ORDER BY Avg_total_spent DESC;\n",
    "\"\"\"\n",
    "results=run_query(engine,query_3)\n",
    "\n",
    "columns = [\"RewardsStatus\", \"Avg_total_spent\"]\n",
    "table = PrettyTable()\n",
    "table.field_names = columns\n",
    "\n",
    "\n",
    "for row in results:\n",
    "    table.add_row(row)\n",
    "\n",
    "print(table)"
   ]
  },
  {
   "cell_type": "code",
   "execution_count": 38,
   "metadata": {},
   "outputs": [
    {
     "name": "stdout",
     "output_type": "stream",
     "text": [
      "+---------------+---------------------------------+\n",
      "| RewardsStatus | Total_number_of_items_purchased |\n",
      "+---------------+---------------------------------+\n",
      "|    FINISHED   |              8184.0             |\n",
      "|    REJECTED   |              173.0              |\n",
      "+---------------+---------------------------------+\n"
     ]
    }
   ],
   "source": [
    "## Query 4\n",
    "\n",
    "query_4 = f\"\"\"\n",
    "SELECT R.rewardsReceiptStatus As RewardStatus,\n",
    "ROUND(SUM(COALESCE(R.purchasedItemCount,0)),4) AS Total_number_of_items_purchased\n",
    "FROM receipts R\n",
    "GROUP BY R.rewardsReceiptStatus\n",
    "HAVING R.rewardsReceiptStatus = 'FINISHED' or R.rewardsReceiptStatus = 'REJECTED'\n",
    "ORDER BY Total_number_of_items_purchased DESC;\n",
    "\"\"\"\n",
    "results=run_query(engine,query_4)\n",
    "\n",
    "columns = [\"RewardsStatus\", \"Total_number_of_items_purchased\"]\n",
    "table = PrettyTable()\n",
    "table.field_names = columns\n",
    "\n",
    "\n",
    "for row in results:\n",
    "    table.add_row(row)\n",
    "\n",
    "print(table)"
   ]
  }
 ],
 "metadata": {
  "kernelspec": {
   "display_name": "base",
   "language": "python",
   "name": "python3"
  },
  "language_info": {
   "codemirror_mode": {
    "name": "ipython",
    "version": 3
   },
   "file_extension": ".py",
   "mimetype": "text/x-python",
   "name": "python",
   "nbconvert_exporter": "python",
   "pygments_lexer": "ipython3",
   "version": "3.9.13"
  }
 },
 "nbformat": 4,
 "nbformat_minor": 2
}
